{
 "cells": [
  {
   "cell_type": "code",
   "execution_count": 1,
   "metadata": {},
   "outputs": [],
   "source": [
    "# numpy tensör gösterimleri\n",
    "\n",
    "import numpy as np "
   ]
  },
  {
   "cell_type": "code",
   "execution_count": 17,
   "metadata": {},
   "outputs": [
    {
     "name": "stdout",
     "output_type": "stream",
     "text": [
      "0\n",
      "1\n",
      "(5,)\n",
      "2\n",
      "(2, 3)\n",
      "3\n",
      "(2, 2, 2)\n"
     ]
    }
   ],
   "source": [
    "# skaler tensör (0B)\n",
    "t0=np.array(12)\n",
    "print(t0.ndim)\n",
    "\n",
    "# vektörler (1B tensör)\n",
    "t1 = np.array([12,125,125,47,78])\n",
    "print(t1.ndim)\n",
    "print(t1.shape)\n",
    "# matrisler (2B tensör)\n",
    "t2 = np.array([[22,35,3],[22,220,3]])\n",
    "print(t2.ndim)\n",
    "print(t2.shape)\n",
    "\n",
    "# 3B tensör\n",
    "\n",
    "t3 = np.array([[[1,2],[3,4]],[[5,6],[7,8]]])\n",
    "print(t3.ndim)\n",
    "print(t3.shape)"
   ]
  }
 ],
 "metadata": {
  "kernelspec": {
   "display_name": "Python 3.9.2 64-bit",
   "language": "python",
   "name": "python3"
  },
  "language_info": {
   "codemirror_mode": {
    "name": "ipython",
    "version": 3
   },
   "file_extension": ".py",
   "mimetype": "text/x-python",
   "name": "python",
   "nbconvert_exporter": "python",
   "pygments_lexer": "ipython3",
   "version": "3.9.2 (default, Feb 28 2021, 17:03:44) \n[GCC 10.2.1 20210110]"
  },
  "orig_nbformat": 4,
  "vscode": {
   "interpreter": {
    "hash": "916dbcbb3f70747c44a77c7bcd40155683ae19c65e1c03b4aa3499c5328201f1"
   }
  }
 },
 "nbformat": 4,
 "nbformat_minor": 2
}
