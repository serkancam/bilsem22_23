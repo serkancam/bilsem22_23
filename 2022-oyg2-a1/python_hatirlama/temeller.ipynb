{
 "cells": [
  {
   "cell_type": "code",
   "execution_count": 5,
   "metadata": {},
   "outputs": [
    {
     "name": "stdout",
     "output_type": "stream",
     "text": [
      "ali\n",
      "osman\n",
      "ayşe\n",
      "1\n",
      "4\n",
      "7\n",
      "10\n",
      "13\n",
      "16\n",
      "19\n"
     ]
    }
   ],
   "source": [
    "#döngüler for \n",
    "# bir liste içindeki değerleri döndürür.\n",
    "isimler=[\"ali\",\"osman\",\"ayşe\"]\n",
    "for isim in isimler:\n",
    "    print(isim)\n",
    "\n",
    "for i in range(1,20,3):\n",
    "    print(i)"
   ]
  },
  {
   "cell_type": "code",
   "execution_count": 6,
   "metadata": {},
   "outputs": [
    {
     "name": "stdout",
     "output_type": "stream",
     "text": [
      "10\n",
      "9\n",
      "8\n",
      "7\n",
      "6\n",
      "5\n",
      "4\n",
      "3\n",
      "2\n",
      "1\n"
     ]
    }
   ],
   "source": [
    "# döngüler while\n",
    "s=10\n",
    "while s>0:\n",
    "    print(s)\n",
    "    s-=1 #s=s-1"
   ]
  },
  {
   "cell_type": "code",
   "execution_count": null,
   "metadata": {},
   "outputs": [],
   "source": [
    "#fonksiyonlar\n",
    "#parametre alıp almaması\n",
    "def merhaba_yaz():\n",
    "    print(\"merhaba\")\n",
    "\n",
    "def n_adet_merhaba_yaz(adet:int):\n",
    "    for i in range(adet):\n",
    "        print(\"merhaba\")\n"
   ]
  }
 ],
 "metadata": {
  "kernelspec": {
   "display_name": "Python 3.9.2 64-bit",
   "language": "python",
   "name": "python3"
  },
  "language_info": {
   "codemirror_mode": {
    "name": "ipython",
    "version": 3
   },
   "file_extension": ".py",
   "mimetype": "text/x-python",
   "name": "python",
   "nbconvert_exporter": "python",
   "pygments_lexer": "ipython3",
   "version": "3.9.2"
  },
  "orig_nbformat": 4,
  "vscode": {
   "interpreter": {
    "hash": "916dbcbb3f70747c44a77c7bcd40155683ae19c65e1c03b4aa3499c5328201f1"
   }
  }
 },
 "nbformat": 4,
 "nbformat_minor": 2
}
