{
 "cells": [
  {
   "cell_type": "code",
   "execution_count": 1,
   "metadata": {},
   "outputs": [
    {
     "name": "stdout",
     "output_type": "stream",
     "text": [
      "125\n",
      "2.5\n",
      "2\n",
      "1\n"
     ]
    }
   ],
   "source": [
    "###operatörler###\n",
    "#aritmatik\n",
    "# + - * ** / // %  \n",
    "a=5\n",
    "b=2\n",
    "print(a**3)\n",
    "print(a/b)\n",
    "print(a//b)\n",
    "print(a%b)"
   ]
  },
  {
   "cell_type": "code",
   "execution_count": 2,
   "metadata": {},
   "outputs": [
    {
     "name": "stdout",
     "output_type": "stream",
     "text": [
      "False\n"
     ]
    }
   ],
   "source": [
    "#karşılaştırma\n",
    "# == === < > <= >=     True   False\n",
    "print(a == b)"
   ]
  },
  {
   "cell_type": "code",
   "execution_count": 3,
   "metadata": {},
   "outputs": [
    {
     "name": "stdout",
     "output_type": "stream",
     "text": [
      "False\n",
      "True\n",
      "True\n"
     ]
    }
   ],
   "source": [
    "# mantıksal operatörler\n",
    "# and or not\n",
    "# and operatörü işleme giren değerlerin hepsi true ise true değilse false\n",
    "# or operatörü işleme giren değerlerden biri bile true ise true değilse false\n",
    "# not operatörü durumu tam tersine çevirir\n",
    "print(a<b and 3<2)\n",
    "print(a>b or 3<2)\n",
    "print( not(a<b) )"
   ]
  },
  {
   "cell_type": "code",
   "execution_count": 4,
   "metadata": {},
   "outputs": [
    {
     "name": "stdout",
     "output_type": "stream",
     "text": [
      "<class 'int'>\n",
      "<class 'float'>\n",
      "<class 'bool'>\n",
      "<class 'float'>\n",
      "<class 'bool'>\n"
     ]
    }
   ],
   "source": [
    "c=5\n",
    "d=3.2\n",
    "e=True\n",
    "print(type(c))\n",
    "print(type(d))\n",
    "print(type(e))\n",
    "print(type(3/2))\n",
    "print(type(3/2>1.5*2))"
   ]
  },
  {
   "cell_type": "code",
   "execution_count": 5,
   "metadata": {},
   "outputs": [
    {
     "name": "stdout",
     "output_type": "stream",
     "text": [
      "[75, 255, 0]\n",
      "[75, 255, 0, 200]\n"
     ]
    }
   ],
   "source": [
    "#koleksiyonlar\n",
    "# list--> [], tuple-->(), set-->{}, dictionary-->{}\n",
    "kirmizi=(255,0,0)#demet\n",
    "yesil=[0,255,0]#liste\n",
    "\n",
    "yesil[0]=75\n",
    "print(yesil)\n",
    "# kirmizi[0]=100\n",
    "\n",
    "yesil.append(200)\n",
    "print(yesil)\n",
    "\n"
   ]
  },
  {
   "cell_type": "code",
   "execution_count": 6,
   "metadata": {},
   "outputs": [
    {
     "name": "stdout",
     "output_type": "stream",
     "text": [
      "5\n"
     ]
    }
   ],
   "source": [
    "l2=[[1,2,3],[4,5,6]]\n",
    "print(l2[1][1])\n",
    "#assigment = atama"
   ]
  },
  {
   "cell_type": "code",
   "execution_count": 7,
   "metadata": {},
   "outputs": [
    {
     "name": "stdout",
     "output_type": "stream",
     "text": [
      "{'ali': [100, 80, 90], 'veli': [85, 90, 100]}\n",
      "80\n"
     ]
    }
   ],
   "source": [
    "#dictionary sözlük\n",
    "sozluk={\"ali\":[100,80,90],\"veli\":[85,90,100]}\n",
    "print(sozluk)\n",
    "print(sozluk[\"ali\"][1])"
   ]
  },
  {
   "cell_type": "code",
   "execution_count": 8,
   "metadata": {},
   "outputs": [
    {
     "name": "stdout",
     "output_type": "stream",
     "text": [
      "0\n",
      "1\n",
      "2\n",
      "3\n",
      "8\n",
      "12\n",
      "16\n",
      "20\n",
      "20\n",
      "16\n",
      "12\n",
      "8\n"
     ]
    }
   ],
   "source": [
    "#döngüler for while\n",
    "# for döngüsü bir koleksiyon içindeki değerleri tek tek döndürür\n",
    "for i in range(4):\n",
    "    print(i)\n",
    "\n",
    "# döngü 8-12-16-20 sayılarını versin\n",
    "for t in range(8,21,4):\n",
    "    print(t)\n",
    "for t in range(20,7,-4):\n",
    "    print(t)"
   ]
  },
  {
   "cell_type": "code",
   "execution_count": 9,
   "metadata": {},
   "outputs": [
    {
     "name": "stdout",
     "output_type": "stream",
     "text": [
      "10\n",
      "9\n",
      "8\n",
      "7\n",
      "6\n",
      "5\n",
      "4\n",
      "3\n",
      "2\n",
      "a son değeri=1\n",
      "18\n",
      "21\n",
      "24\n",
      "27\n",
      "30\n",
      "18\n",
      "21\n",
      "24\n",
      "27\n",
      "30\n"
     ]
    }
   ],
   "source": [
    "# while döngüsü şartlı döngü\n",
    "# yazılan şart doğru olduğu sürece döngü tekrar eder.\n",
    "# şart hiçbir zaman doğru olmaz ise döngü başlamaz.\n",
    "# şart hiçbir zaman yanlış olmaz ise döngü sonsuz döngü olur.\n",
    "\n",
    "a=10\n",
    "while a>1:\n",
    "    print(a)\n",
    "    a-=1#a=a-1\n",
    "\n",
    "print(f\"a son değeri={a}\")\n",
    "\n",
    "# 18 den 30 e kadar 3 er 3er artaan döngüyü yazınız. 18 ve 30 dahil döngü içinde ekrana yazılsın.\n",
    "b=18\n",
    "while b<=30:\n",
    "    print(b)\n",
    "    b+=3\n",
    "\n",
    "z=15\n",
    "while z<30:\n",
    "    z+=3\n",
    "    print(z)"
   ]
  },
  {
   "cell_type": "code",
   "execution_count": 10,
   "metadata": {},
   "outputs": [
    {
     "name": "stdout",
     "output_type": "stream",
     "text": [
      "a=b\n",
      "merhaba serkan emek\n",
      "merhaba serkan emek\n",
      "merhaba serkan emek\n"
     ]
    }
   ],
   "source": [
    "# fonksiyonlar\n",
    "# parametre alması veya almaması\n",
    "# değer geri dödnürüm döndürmemesi \n",
    "# işte bütün mesele bu\n",
    "def yaz():\n",
    "    print(\"a=b\")\n",
    "\n",
    "def selam_yaz(isim:str,adet:int):\n",
    "   for i in range(adet):        \n",
    "    print(f\"merhaba {isim}\")\n",
    "\n",
    "\n",
    "\n",
    "yaz()\n",
    "selam_yaz(\"serkan\"+\" emek\",3)\n"
   ]
  },
  {
   "cell_type": "code",
   "execution_count": 11,
   "metadata": {},
   "outputs": [],
   "source": [
    "def asalmi(sayi:int):\n",
    "    for bolen in range(2,sayi):\n",
    "        kalan=sayi%bolen\n",
    "        if kalan==0:\n",
    "            return False\n",
    "    return True\n",
    "\n"
   ]
  },
  {
   "cell_type": "code",
   "execution_count": 17,
   "metadata": {},
   "outputs": [
    {
     "name": "stdout",
     "output_type": "stream",
     "text": [
      "merhaba\n",
      "merhaba\n",
      "<class '__main__.Araba'> fiat 2010\n"
     ]
    }
   ],
   "source": [
    "# sınıf (class)\n",
    "# gerçek dünya nesenelerinin yazılım tarafında oluşturulabilmnesi için\n",
    "# ortaya atılmış bir yazılım yapısırı.\n",
    "# Bir sınıf gerçek dünyadaki nesnelerin davranış(method) ve özelliklerini(değişkenler) tek bir çatı altında toplar. Bu oluşan sınıf bir nesnenin adeta kalıbını ifade eder.\n",
    "# __init__ fonksiyonu sınıftan her nesne üretiminde çalışır. yapıcı method(fonksiyon)\n",
    "class Araba():\n",
    "    def __init__(self,model_adi:str,model_yili:int):\n",
    "        print(\"merhaba\")\n",
    "        self.m_adi=model_adi\n",
    "        self.m_yili=model_yili\n",
    "\n",
    "\n",
    "a1 = Araba(\"fiat\",2010)\n",
    "a2 = Araba(\"audi\",2017)\n",
    "print(type(a1),a1.m_adi,a1.m_yili)"
   ]
  },
  {
   "cell_type": "code",
   "execution_count": null,
   "metadata": {},
   "outputs": [],
   "source": []
  }
 ],
 "metadata": {
  "kernelspec": {
   "display_name": "Python 3.9.2 64-bit",
   "language": "python",
   "name": "python3"
  },
  "language_info": {
   "codemirror_mode": {
    "name": "ipython",
    "version": 3
   },
   "file_extension": ".py",
   "mimetype": "text/x-python",
   "name": "python",
   "nbconvert_exporter": "python",
   "pygments_lexer": "ipython3",
   "version": "3.9.2"
  },
  "orig_nbformat": 4,
  "vscode": {
   "interpreter": {
    "hash": "916dbcbb3f70747c44a77c7bcd40155683ae19c65e1c03b4aa3499c5328201f1"
   }
  }
 },
 "nbformat": 4,
 "nbformat_minor": 2
}
