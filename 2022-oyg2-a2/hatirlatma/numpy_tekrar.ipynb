{
 "cells": [
  {
   "cell_type": "code",
   "execution_count": 1,
   "metadata": {},
   "outputs": [],
   "source": [
    "import numpy as np"
   ]
  },
  {
   "cell_type": "code",
   "execution_count": 3,
   "metadata": {},
   "outputs": [
    {
     "name": "stdout",
     "output_type": "stream",
     "text": [
      "['serkan', 12, 587.85, True]\n"
     ]
    }
   ],
   "source": [
    "l1 =[\"serkan\",12,587.85,True]\n",
    "print(l1)"
   ]
  },
  {
   "cell_type": "code",
   "execution_count": 4,
   "metadata": {},
   "outputs": [
    {
     "name": "stdout",
     "output_type": "stream",
     "text": [
      "[[1, 2, 3], [4, 5]]\n"
     ]
    }
   ],
   "source": [
    "l2=[[1,2,3],[4,5]]\n",
    "print(l2)"
   ]
  },
  {
   "cell_type": "code",
   "execution_count": 15,
   "metadata": {},
   "outputs": [
    {
     "name": "stdout",
     "output_type": "stream",
     "text": [
      "int64\n",
      "float64\n",
      "<class 'numpy.float64'>\n",
      "<class 'numpy.float64'>\n",
      "<class 'numpy.float64'>\n"
     ]
    }
   ],
   "source": [
    "np1 = np.array([\"serkan\",12,587.85,True])\n",
    "np2 = np.array([[1,2,3],[4,5,6]])\n",
    "\n",
    "print(np2.dtype)\n",
    "print(np1.dtype)\n",
    "print(type(np1[0]))\n",
    "print(type(np1[1]))\n",
    "print(type(np1[2]))"
   ]
  },
  {
   "cell_type": "code",
   "execution_count": 16,
   "metadata": {},
   "outputs": [
    {
     "name": "stdout",
     "output_type": "stream",
     "text": [
      "588.85\n"
     ]
    }
   ],
   "source": [
    "print(np1[1]+np1[2])"
   ]
  },
  {
   "cell_type": "code",
   "execution_count": 23,
   "metadata": {},
   "outputs": [
    {
     "name": "stdout",
     "output_type": "stream",
     "text": [
      "3\n",
      "8\n",
      "(2, 2, 2)\n"
     ]
    }
   ],
   "source": [
    "np3 = np.array([\n",
    "                [\n",
    "                    [1,2],\n",
    "                    [3,4]\n",
    "                    ],\n",
    "                [\n",
    "                    [40,50],\n",
    "                    [80,90]\n",
    "                    ]\n",
    "                ])\n",
    "print(np3.ndim)\n",
    "print(np3.size)\n",
    "print(np3.shape)#2,2,2"
   ]
  }
 ],
 "metadata": {
  "kernelspec": {
   "display_name": "Python 3.9.2 64-bit",
   "language": "python",
   "name": "python3"
  },
  "language_info": {
   "codemirror_mode": {
    "name": "ipython",
    "version": 3
   },
   "file_extension": ".py",
   "mimetype": "text/x-python",
   "name": "python",
   "nbconvert_exporter": "python",
   "pygments_lexer": "ipython3",
   "version": "3.9.2"
  },
  "orig_nbformat": 4,
  "vscode": {
   "interpreter": {
    "hash": "916dbcbb3f70747c44a77c7bcd40155683ae19c65e1c03b4aa3499c5328201f1"
   }
  }
 },
 "nbformat": 4,
 "nbformat_minor": 2
}
