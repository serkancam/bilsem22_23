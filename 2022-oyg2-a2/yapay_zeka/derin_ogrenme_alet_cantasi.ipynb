{
 "cells": [
  {
   "cell_type": "code",
   "execution_count": null,
   "metadata": {},
   "outputs": [],
   "source": [
    "# derin_ogrenme_alet_cantasi.ipynb\n",
    "\n",
    "# derin öğrenme me denmesinin 2 nedeni\n",
    "#1- katman sayısının çokluğu ve gizli katmanalrın içeriğinin net bilinmemesi\n",
    "#2- öznitelik seçme işleminin yapılmaması\n",
    "#3- Büyük veri ile eğitilmesi\n",
    "#!!!! her veri seti veya makine öğrenmesi işlemi DL(deep learning) ile yapılmas\n",
    "# bu cevizi balyozla kırmaya benzer."
   ]
  },
  {
   "cell_type": "code",
   "execution_count": 2,
   "metadata": {},
   "outputs": [],
   "source": [
    "import numpy as np"
   ]
  },
  {
   "cell_type": "code",
   "execution_count": 2,
   "metadata": {},
   "outputs": [
    {
     "name": "stdout",
     "output_type": "stream",
     "text": [
      "0\n"
     ]
    }
   ],
   "source": [
    "# skaler veri tek değerli boyutsuz veri\n",
    "b0=np.array(12)\n",
    "print(b0.ndim) # ndim ndarray yapısının boyut sayısını\n"
   ]
  },
  {
   "cell_type": "code",
   "execution_count": 3,
   "metadata": {},
   "outputs": [
    {
     "name": "stdout",
     "output_type": "stream",
     "text": [
      "1\n",
      "(4,)\n"
     ]
    }
   ],
   "source": [
    "# 1B tensör veya vektör \n",
    "b1 = np.array([3,4,12,24])\n",
    "print(b1.ndim)\n",
    "print(b1.shape) #ndarray şekil(her boyuttaki eleman sayısını verir) "
   ]
  },
  {
   "cell_type": "code",
   "execution_count": 8,
   "metadata": {},
   "outputs": [
    {
     "name": "stdout",
     "output_type": "stream",
     "text": [
      "2\n",
      "(2, 3)\n"
     ]
    }
   ],
   "source": [
    "# 2B tensör veya matris\n",
    "b2 = np.array([[1,2,3],[8,9,7]])\n",
    "\n",
    "print(b2.ndim)\n",
    "print(b2.shape)"
   ]
  },
  {
   "cell_type": "code",
   "execution_count": 14,
   "metadata": {},
   "outputs": [
    {
     "name": "stdout",
     "output_type": "stream",
     "text": [
      "3\n",
      "(2, 2, 3)\n"
     ]
    }
   ],
   "source": [
    "# 3b tensör\n",
    "b3 = np.array([[[2,4,200],[3,8,45]],[[5,6,78],[1,9,36]]]) # 2 2 2\n",
    "print(b3.ndim)\n",
    "print(b3.shape)"
   ]
  },
  {
   "cell_type": "code",
   "execution_count": 6,
   "metadata": {},
   "outputs": [
    {
     "name": "stdout",
     "output_type": "stream",
     "text": [
      "[3, 4, 6, 8]\n",
      "[10, 12, 13, 25]\n",
      "[13, 16, 19, 8]\n",
      "fonksiyon [13, 16, 19, 33]\n"
     ]
    }
   ],
   "source": [
    "a=[3,4,6,8]\n",
    "b=[10,12,13,25]\n",
    "\n",
    "c=a.copy()# a boyutunda bir liste oluşturduk.\n",
    "\n",
    "c[0]=a[0]+b[0]\n",
    "c[1] =a[1]+b[1]\n",
    "c[2]=a[2]+b[2]\n",
    "\n",
    "print(a,b,c,sep=\"\\n\")\n",
    "\n",
    "# peki a ve b'nin 10 milyon'ar tane elemanı olsa idi\n",
    "# bunun yerine a ve b'yi toplayan bir fonksiyon yazalım\n",
    "\n",
    "def topla_liste(l1,l2):\n",
    "    l3=l1.copy()\n",
    "    for i in range(len(l1)):\n",
    "        l3[i]=l1[i]+l2[i]\n",
    "    return l3\n",
    "\n",
    "\n",
    "print(\"fonksiyon\",topla_liste(a,b))\n"
   ]
  },
  {
   "cell_type": "code",
   "execution_count": 3,
   "metadata": {},
   "outputs": [],
   "source": [
    "from random import  randint\n",
    "from time import  time"
   ]
  },
  {
   "cell_type": "code",
   "execution_count": 7,
   "metadata": {},
   "outputs": [
    {
     "name": "stdout",
     "output_type": "stream",
     "text": [
      "oluşturma süresi: 17.212550401687622 sn.\n",
      "toplama süresi: 2.297079086303711 sn.\n",
      "toplam süre: 19.509629487991333 sn.\n"
     ]
    }
   ],
   "source": [
    "# liste 10 milyon elemana sahip 2 listeyi oluşturma ve toplama süresi\n",
    "t1=time()\n",
    "ls1=[randint(1,1000) for i in range(10_000_000)]\n",
    "ls2=[randint(1,1000) for i in range(10_000_000)]\n",
    "t2=time()\n",
    "l3=topla_liste(ls1,ls2)\n",
    "t3=time()\n",
    "\n",
    "print(\"oluşturma süresi:\",t2-t1,\"sn.\")\n",
    "print(\"toplama süresi:\",t3-t2,\"sn.\")\n",
    "print(\"toplam süre:\",t3-t1,\"sn.\")"
   ]
  },
  {
   "cell_type": "code",
   "execution_count": 4,
   "metadata": {},
   "outputs": [
    {
     "ename": "",
     "evalue": "",
     "output_type": "error",
     "traceback": [
      "\u001b[1;31mCanceled future for execute_request message before replies were done"
     ]
    },
    {
     "ename": "",
     "evalue": "",
     "output_type": "error",
     "traceback": [
      "\u001b[1;31mGeçerli hücrede veya önceki bir hücrede kod yürütülürken Çekirdek kilitlendi. Hatanın olası nedenini belirlemek için lütfen hücrelerdeki kodu gözden geçirin. Daha fazla bilgi için <a href='https://aka.ms/vscodeJupyterKernelCrash'>buraya</a> tıklayın. Daha fazla ayrıntı için Jupyter <a href='command:jupyter.viewOutput'>günlüğünü</a> görüntüleyin."
     ]
    }
   ],
   "source": [
    "# numpy ndarray 10 milyon elemana sahip 2 listeyi oluşturma ve toplama süresi\n",
    "tt1=time()\n",
    "nd1 = np.random.randint(1,1000,(500_000_000))\n",
    "nd2 = np.random.randint(1,1000,(500_000_000))\n",
    "tt2=time()\n",
    "nd3=nd1+nd2\n",
    "tt3=time()\n",
    "print(\"oluşturma süresi:\",tt2-tt1,\"sn.\")\n",
    "print(\"toplama süresi:\",tt3-tt2,\"sn.\")\n",
    "print(\"toplam süre:\",tt3-tt1,\"sn.\")"
   ]
  }
 ],
 "metadata": {
  "kernelspec": {
   "display_name": "Python 3.9.2 64-bit",
   "language": "python",
   "name": "python3"
  },
  "language_info": {
   "codemirror_mode": {
    "name": "ipython",
    "version": 3
   },
   "file_extension": ".py",
   "mimetype": "text/x-python",
   "name": "python",
   "nbconvert_exporter": "python",
   "pygments_lexer": "ipython3",
   "version": "3.9.2"
  },
  "orig_nbformat": 4,
  "vscode": {
   "interpreter": {
    "hash": "916dbcbb3f70747c44a77c7bcd40155683ae19c65e1c03b4aa3499c5328201f1"
   }
  }
 },
 "nbformat": 4,
 "nbformat_minor": 2
}
