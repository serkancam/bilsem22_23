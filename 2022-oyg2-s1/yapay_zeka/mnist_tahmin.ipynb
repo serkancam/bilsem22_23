{
 "cells": [
  {
   "cell_type": "code",
   "execution_count": 1,
   "metadata": {},
   "outputs": [
    {
     "name": "stderr",
     "output_type": "stream",
     "text": [
      "2022-11-05 13:41:16.753485: W tensorflow/stream_executor/platform/default/dso_loader.cc:64] Could not load dynamic library 'libcudart.so.11.0'; dlerror: libcudart.so.11.0: cannot open shared object file: No such file or directory\n",
      "2022-11-05 13:41:16.753573: I tensorflow/stream_executor/cuda/cudart_stub.cc:29] Ignore above cudart dlerror if you do not have a GPU set up on your machine.\n"
     ]
    }
   ],
   "source": [
    "from keras import models"
   ]
  },
  {
   "cell_type": "code",
   "execution_count": 2,
   "metadata": {},
   "outputs": [
    {
     "name": "stderr",
     "output_type": "stream",
     "text": [
      "2022-11-05 13:42:34.264883: W tensorflow/stream_executor/platform/default/dso_loader.cc:64] Could not load dynamic library 'libcuda.so.1'; dlerror: libcuda.so.1: cannot open shared object file: No such file or directory\n",
      "2022-11-05 13:42:34.264918: W tensorflow/stream_executor/cuda/cuda_driver.cc:269] failed call to cuInit: UNKNOWN ERROR (303)\n",
      "2022-11-05 13:42:34.264950: I tensorflow/stream_executor/cuda/cuda_diagnostics.cc:156] kernel driver does not appear to be running on this host (serkan-pc): /proc/driver/nvidia/version does not exist\n",
      "2022-11-05 13:42:34.265427: I tensorflow/core/platform/cpu_feature_guard.cc:193] This TensorFlow binary is optimized with oneAPI Deep Neural Network Library (oneDNN) to use the following CPU instructions in performance-critical operations:  AVX2 FMA\n",
      "To enable them in other operations, rebuild TensorFlow with the appropriate compiler flags.\n"
     ]
    }
   ],
   "source": [
    "model = models.load_model(\"/home/serkan/Belgeler/yillar/2022-2023/bilsem22_23/2022-oyg2-s1/yapay_zeka/mnist_ysa.h5\")"
   ]
  },
  {
   "cell_type": "code",
   "execution_count": 3,
   "metadata": {},
   "outputs": [],
   "source": [
    "import cv2\n",
    "import numpy as np"
   ]
  },
  {
   "cell_type": "code",
   "execution_count": 10,
   "metadata": {},
   "outputs": [],
   "source": [
    "def tahmin(model,resim_yolu:str)->int:\n",
    "    resim = cv2.imread(resim_yolu)\n",
    "    resim_gri = cv2.cvtColor(resim,cv2.COLOR_BGR2GRAY)\n",
    "    resim_gri=cv2.bitwise_not(resim_gri)\n",
    "    \n",
    "    rakam = resim_gri.astype(\"float32\")/255\n",
    "    rakam=rakam.reshape((1,28*28))\n",
    "    tahmin=model.predict(rakam)\n",
    "    print(tahmin)\n",
    "\n",
    "    return np.argmax(tahmin)\n"
   ]
  },
  {
   "cell_type": "code",
   "execution_count": 11,
   "metadata": {},
   "outputs": [
    {
     "name": "stdout",
     "output_type": "stream",
     "text": [
      "1/1 [==============================] - 0s 26ms/step\n",
      "[[0.00000000e+00 1.69502943e-27 7.23832210e-22 1.00000000e+00\n",
      "  0.00000000e+00 3.52996499e-22 0.00000000e+00 3.21987004e-32\n",
      "  6.24373006e-29 1.04905624e-35]]\n",
      "3\n"
     ]
    }
   ],
   "source": [
    "sonuc = tahmin(model,\"/home/serkan/Belgeler/yillar/2022-2023/bilsem22_23/2022-oyg2-s1/yapay_zeka/rakams.png\")\n",
    "print(sonuc)"
   ]
  }
 ],
 "metadata": {
  "kernelspec": {
   "display_name": "Python 3.9.2 64-bit",
   "language": "python",
   "name": "python3"
  },
  "language_info": {
   "codemirror_mode": {
    "name": "ipython",
    "version": 3
   },
   "file_extension": ".py",
   "mimetype": "text/x-python",
   "name": "python",
   "nbconvert_exporter": "python",
   "pygments_lexer": "ipython3",
   "version": "3.9.2"
  },
  "orig_nbformat": 4,
  "vscode": {
   "interpreter": {
    "hash": "916dbcbb3f70747c44a77c7bcd40155683ae19c65e1c03b4aa3499c5328201f1"
   }
  }
 },
 "nbformat": 4,
 "nbformat_minor": 2
}
