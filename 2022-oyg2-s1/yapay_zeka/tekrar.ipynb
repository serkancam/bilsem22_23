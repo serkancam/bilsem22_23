{
 "cells": [
  {
   "cell_type": "code",
   "execution_count": 9,
   "metadata": {},
   "outputs": [
    {
     "name": "stdout",
     "output_type": "stream",
     "text": [
      "True\n",
      "10.5\n",
      "False\n",
      "['ayşe', 20, False, 10.5, 38]\n",
      "ayşe\n",
      "20\n",
      "False\n",
      "10.5\n",
      "38\n",
      "100\n"
     ]
    }
   ],
   "source": [
    "# koleksiyonlar\n",
    "# liste(list) []\n",
    "# sözlük(dictionary){}\n",
    "# demet(tuple) ()\n",
    "\n",
    "#liste\n",
    "l1=[\"ayşe\",20,True,10.5] #eleman(item)\n",
    "print(l1[2])\n",
    "print(l1[3])\n",
    "#atama (assigment)\n",
    "l1[2]=False\n",
    "print(l1[2])\n",
    "\n",
    "#ekleme(append)\n",
    "l1.append(38)\n",
    "print(l1)\n",
    "\n",
    "for eleman in l1:\n",
    "    print(eleman)\n",
    "\n",
    "l2=[[1,2,3],[4,5,6]]\n",
    "l2[1][1]=100\n",
    "print(l2[1][1])\n"
   ]
  },
  {
   "cell_type": "code",
   "execution_count": 19,
   "metadata": {},
   "outputs": [
    {
     "name": "stdout",
     "output_type": "stream",
     "text": [
      "40\n",
      "{3: 40, 'kayra': 14, 'beylem': 40, 'saner': 13, 'armina': 15}\n"
     ]
    }
   ],
   "source": [
    "#sözlükler\n",
    "#anahtar değer\n",
    "yaslar={3:40,\"kayra\":14,\"beylem\":36,\"saner\":13,\"armina\":15,\"beylem\":30,\"beylem\":25,\"beylem\":40}\n",
    "\n",
    "print(yaslar[\"beylem\"])\n",
    "print(yaslar)"
   ]
  },
  {
   "cell_type": "code",
   "execution_count": 28,
   "metadata": {},
   "outputs": [
    {
     "name": "stdout",
     "output_type": "stream",
     "text": [
      "int64\n",
      "boyut=2\n",
      "adet=6\n",
      "şekil=(2, 3)\n",
      "[[0. 0. 0. 0.]\n",
      " [0. 0. 0. 0.]\n",
      " [0. 0. 0. 0.]]\n",
      "******************************\n",
      "[[[1. 1. 1. 1.]\n",
      "  [1. 1. 1. 1.]\n",
      "  [1. 1. 1. 1.]]\n",
      "\n",
      " [[1. 1. 1. 1.]\n",
      "  [1. 1. 1. 1.]\n",
      "  [1. 1. 1. 1.]]]\n",
      "[[0.8 0.8 0.8 0.8 0.8]\n",
      " [0.8 0.8 0.8 0.8 0.8]\n",
      " [0.8 0.8 0.8 0.8 0.8]]\n"
     ]
    }
   ],
   "source": [
    "#numpy\n",
    "import numpy as np\n",
    "\n",
    "nl1=np.array([1,2,10,20])\n",
    "print(nl1.dtype)\n",
    "nl2=np.array([[1,2,3],[4,5,6]])\n",
    "print(f\"boyut={nl2.ndim}\")\n",
    "print(f\"adet={nl2.size}\")\n",
    "print(f\"şekil={nl2.shape}\")\n",
    "\n",
    "nl3=np.zeros((3,4))\n",
    "print(nl3)\n",
    "print(\"*\"*30)\n",
    "nl4=np.ones((2,3,4))\n",
    "print(nl4)\n",
    "nl5=np.full((3,5),0.8)\n",
    "print(nl5)"
   ]
  },
  {
   "cell_type": "code",
   "execution_count": 39,
   "metadata": {},
   "outputs": [
    {
     "name": "stdout",
     "output_type": "stream",
     "text": [
      "[ 2  8 16 18]\n",
      "[17 55 17 21]\n",
      "******************************\n",
      "[[ 3  6 10 11]\n",
      " [ 4  7 11 12]\n",
      " [ 5  8 12 13]\n",
      " [ 6  9 13 14]]\n",
      "max= 50\n",
      "min= 8\n",
      "mean= 21.0\n",
      "standart sapma= 16.926310879810757\n",
      "toplam= 84\n"
     ]
    }
   ],
   "source": [
    "na1=np.array([2,5,9,10])\n",
    "na2=np.array([15,50,8,11])\n",
    "na3=np.array([[1],[2],[3],[4]])\n",
    "print(na1*2-2)\n",
    "print(na1+na2)\n",
    "print(\"*\"*30)\n",
    "print(na1+na3)\n",
    "print(\"max=\",na2.max())\n",
    "print(\"min=\",na2.min())\n",
    "print(\"mean=\",na2.mean())\n",
    "print(\"standart sapma=\",na2.std())\n",
    "print(\"toplam=\",na2.sum())"
   ]
  }
 ],
 "metadata": {
  "kernelspec": {
   "display_name": "Python 3.9.2 64-bit",
   "language": "python",
   "name": "python3"
  },
  "language_info": {
   "codemirror_mode": {
    "name": "ipython",
    "version": 3
   },
   "file_extension": ".py",
   "mimetype": "text/x-python",
   "name": "python",
   "nbconvert_exporter": "python",
   "pygments_lexer": "ipython3",
   "version": "3.9.2"
  },
  "orig_nbformat": 4,
  "vscode": {
   "interpreter": {
    "hash": "916dbcbb3f70747c44a77c7bcd40155683ae19c65e1c03b4aa3499c5328201f1"
   }
  }
 },
 "nbformat": 4,
 "nbformat_minor": 2
}
