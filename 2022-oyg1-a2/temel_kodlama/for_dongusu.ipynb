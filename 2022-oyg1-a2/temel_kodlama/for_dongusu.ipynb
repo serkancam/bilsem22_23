{
 "cells": [
  {
   "cell_type": "code",
   "execution_count": 3,
   "metadata": {},
   "outputs": [
    {
     "name": "stdout",
     "output_type": "stream",
     "text": [
      "1\n",
      "4\n",
      "7\n",
      "7\n"
     ]
    }
   ],
   "source": [
    "#for döngüsü\n",
    "# pythondaki for döngüsü java,c#,c,c++ taki for döngülerinden farklıdır.\n",
    "# pythondaki for döngüsü bir koleksiyon içindeki elemanları tek tek ele almamızı veya diğer bir deyişle görmemizi sağlar\n",
    "a=1477\n",
    "b=\"1477\"\n",
    "\n",
    "for i in b:\n",
    "    print(i)\n",
    "\n",
    "\n",
    "# for komutu in değerinden sonraki koleksiyonun değerlerini for in arasına yazılan değişkene sırası ile aktarır.\n"
   ]
  },
  {
   "cell_type": "code",
   "execution_count": null,
   "metadata": {},
   "outputs": [],
   "source": [
    "# örneğin 0-1-2-3-4 değelerini for döngüsü ile ekrana yzdırmak isteyelim\n",
    "# bunun için range ile bu sayıların olduğu bir koleksiyon oluşturulur.\n",
    "\n",
    "for s in range(4): # 0-1-2-3-4\n",
    "    print(s)\n",
    "\n",
    "for r in range(12):#0-1-2-3-4-5-6-7-8-9-10-11\n",
    "    print(r)\n",
    "\n"
   ]
  },
  {
   "cell_type": "code",
   "execution_count": 9,
   "metadata": {},
   "outputs": [
    {
     "name": "stdout",
     "output_type": "stream",
     "text": [
      "3\n",
      "4\n",
      "5\n",
      "6\n",
      "7\n",
      "8\n"
     ]
    }
   ],
   "source": [
    "for t in range(3,9):#3-4-5-6-7-8\n",
    "    print(t)"
   ]
  },
  {
   "cell_type": "code",
   "execution_count": 8,
   "metadata": {},
   "outputs": [
    {
     "name": "stdout",
     "output_type": "stream",
     "text": [
      "8\n",
      "7\n",
      "6\n",
      "5\n",
      "4\n",
      "3\n"
     ]
    }
   ],
   "source": [
    "for p in range(8,2,-1):\n",
    "    print(p)"
   ]
  },
  {
   "cell_type": "code",
   "execution_count": 11,
   "metadata": {},
   "outputs": [
    {
     "name": "stdout",
     "output_type": "stream",
     "text": [
      "3\n",
      "8\n",
      "13\n",
      "18\n"
     ]
    }
   ],
   "source": [
    "# 3-8-13-18\n",
    "for o in range(3,19,5):\n",
    "    print(o)"
   ]
  },
  {
   "cell_type": "code",
   "execution_count": 13,
   "metadata": {},
   "outputs": [
    {
     "name": "stdout",
     "output_type": "stream",
     "text": [
      "21\n",
      "16\n",
      "11\n",
      "6\n",
      "1\n",
      "-4\n",
      "-9\n",
      "merhaba\n",
      "merhaba\n",
      "merhaba\n",
      "merhaba\n",
      "merhaba\n"
     ]
    }
   ],
   "source": [
    "# 21,16,11,6,1,-4,-9\n",
    "\n",
    "for u in range(21,-10,-5):\n",
    "    print(u)\n",
    "\n",
    "for k in range(5):# 0,1,2,3,4\n",
    "    print(\"merhaba\")"
   ]
  },
  {
   "cell_type": "code",
   "execution_count": 14,
   "metadata": {},
   "outputs": [
    {
     "name": "stdout",
     "output_type": "stream",
     "text": [
      "100\n",
      "90\n",
      "80\n",
      "70\n",
      "60\n",
      "50\n",
      "40\n",
      "30\n",
      "20\n",
      "10\n",
      "0\n"
     ]
    }
   ],
   "source": [
    "# 100 den 0 a kadar 10ar eksitelerek sayıalrı ekrana yazdırın 0 dahil\n",
    "for i in range(100,-1,-10):\n",
    "    print(i)"
   ]
  },
  {
   "cell_type": "code",
   "execution_count": 18,
   "metadata": {},
   "outputs": [
    {
     "name": "stdout",
     "output_type": "stream",
     "text": [
      "50\n"
     ]
    }
   ],
   "source": [
    "# 1'den 100'e kadar olan çift sayıların toplamından tek sayılarını toplamını çıkaran ve sonu ekrana yazdıran python kodunu yazınız.\n",
    "duru=0\n",
    "oyku=0\n",
    "for s in range(1,101):\n",
    "    if s%2==0:\n",
    "        duru=duru+s\n",
    "    else:\n",
    "        oyku=oyku+s\n",
    "\n",
    "print(duru-oyku)"
   ]
  },
  {
   "cell_type": "code",
   "execution_count": 20,
   "metadata": {},
   "outputs": [
    {
     "name": "stdout",
     "output_type": "stream",
     "text": [
      "480\n"
     ]
    }
   ],
   "source": [
    "# 1'den 100'e kadar olan 7 ye kalansız bölünen sayıların toplamından 17 ye kalansız bölünen sayılarını toplamını çıkaran ve sonu ekrana yazdıran python kodunu yazınız.\n",
    "duru=0\n",
    "oyku=0\n",
    "for s in range(1,101):\n",
    "    if s%7==0:\n",
    "        duru=duru+s\n",
    "    elif s%17==0:\n",
    "        oyku=oyku+s\n",
    "\n",
    "print(duru-oyku)"
   ]
  },
  {
   "cell_type": "code",
   "execution_count": null,
   "metadata": {},
   "outputs": [],
   "source": []
  }
 ],
 "metadata": {
  "kernelspec": {
   "display_name": "Python 3.9.2 64-bit",
   "language": "python",
   "name": "python3"
  },
  "language_info": {
   "codemirror_mode": {
    "name": "ipython",
    "version": 3
   },
   "file_extension": ".py",
   "mimetype": "text/x-python",
   "name": "python",
   "nbconvert_exporter": "python",
   "pygments_lexer": "ipython3",
   "version": "3.9.2"
  },
  "orig_nbformat": 4,
  "vscode": {
   "interpreter": {
    "hash": "916dbcbb3f70747c44a77c7bcd40155683ae19c65e1c03b4aa3499c5328201f1"
   }
  }
 },
 "nbformat": 4,
 "nbformat_minor": 2
}
