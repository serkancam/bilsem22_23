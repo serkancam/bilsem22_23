{
 "cells": [
  {
   "attachments": {},
   "cell_type": "markdown",
   "metadata": {},
   "source": [
    "### Koleksiyonlar\n",
    "#### Temel kavramlar\n",
    "\n",
    "#### index(indis):\n",
    "Bir koleksiyon içerisindeki bir elemanın bulunuduğu konumu temsil eden değer.\n",
    "\n",
    "#### item(eleman/öğe):\n",
    "Bir koleksiyonu oluşturan herbir parçaya verilen isim.\n",
    "\n",
    "#### [] operatörü:\n",
    "Bu operatör bir koleksiyon yapısının hemen ardından gelerek, koleksiyonun hangi elemanına ulaşacağımız bilgisini(indis veya anahtar) alır ve o elemana ulaşmamızı sağlar.\n",
    "\n",
    "#### mutable(değişebilir)/immutable(değişemez):\n",
    "Bazen programlama dillerindeki bazı yapılar içeriği değiştirilebilir olurken, bazı yapıların içeriği değiştirilemez olur. Örneğin bir listenin herhangi bir elemanınun değerini indis numrası ile ulaşıp değiştirebilirken bir demetin içeriğini değiştiremezsiniz. \n",
    "\n",
    "#### list(liste):\n",
    "* En çok kullanılan koleksiyon türüdür. liste oluşturmak için  köşeli parantezler kullanılır[]\n",
    "* değişebilir bir yapıya sahiptir. \n",
    "* En sık kullanılan methodları\n",
    "    * append() Listenin sonuna bir eleman ekler.\n",
    "    * clear() Listedeki tüm öğeleri kaldırır\n",
    "    * copy() Listenin bir kopyasını döndürür\n",
    "    * count() Belirtilen değere sahip öğelerin sayısını döndürür.\n",
    "    * extend() Bir listenin öğelerini (veya yinelenebilir herhangi bir öğeyi) geçerli listenin sonuna ekler\n",
    "    * index() Belirtilen değere sahip ilk elemanın indeksini döndürür. Değer yoksa hata verir.\n",
    "    * insert() Belirtilen konuma bir öğe ekler\n",
    "    * pop() Belirtilen konumdaki elemanı kaldırır\n",
    "    * remove() Belirtilen değere sahip ilk öğeyi kaldırır\n",
    "    * reverse() Listenin sırasını tersine çevirir\n",
    "    * sort() Listeyi sıralar"
   ]
  },
  {
   "cell_type": "code",
   "execution_count": 1,
   "metadata": {},
   "outputs": [
    {
     "name": "stdout",
     "output_type": "stream",
     "text": [
      "['ahmet efe', 'zeynep', 'reyyan', 'yusuf', 'mert', 'kerem', 'tarık']\n",
      "[1, 2, 32.0, 'hasan', True, True, False]\n",
      "zeynep\n",
      "['ahmet efe', 'zeynep', 'reyyan', 'yusuf aras', 'mert', 'kerem', 'tarık']\n",
      "ahmet efe\n",
      "zeynep\n",
      "reyyan\n",
      "yusuf aras\n",
      "mert\n",
      "kerem\n",
      "tarık\n"
     ]
    }
   ],
   "source": [
    "# %% listeler\n",
    "l1 = []  # boş liste **\n",
    "l2 = list()  # boş liste\n",
    "\n",
    "ogler = [\"ahmet efe\", \"zeynep\", \"reyyan\", \"yusuf\", \"mert\",\n",
    "         \"kerem\", \"tarık\"]\n",
    "mix = [1, 2, 32.0, \"hasan\", True, True, False]\n",
    "\n",
    "print(ogler)\n",
    "print(mix)\n",
    "print(ogler[1])\n",
    "ogler[3] = \"yusuf aras\"\n",
    "print(ogler)\n",
    "\n",
    "for isim in ogler:\n",
    "    print(isim)\n"
   ]
  },
  {
   "cell_type": "code",
   "execution_count": 5,
   "metadata": {},
   "outputs": [
    {
     "name": "stdout",
     "output_type": "stream",
     "text": [
      "['ali', 'veli', 'ayşe']\n",
      "['ali', 'veli', 'ayşe', 'mehmet']\n",
      "['ali', 'hasan', 'ayşe', 'mehmet']\n",
      "ayşe\n",
      "5\n",
      "ali\n",
      "hasan\n",
      "ayşe\n",
      "mehmet\n",
      "osman\n"
     ]
    }
   ],
   "source": [
    "ogrler = [\"ali\",\"veli\",\"ayşe\"] # 3 elemanliste\n",
    "print(ogrler)\n",
    "ogrler.append(\"mehmet\")\n",
    "print(ogrler)\n",
    "\n",
    "ogrler[1]=\"hasan\"\n",
    "print(ogrler)\n",
    "#list_adi.append(değer)\n",
    "ogrler.append(\"osman\")\n",
    "\n",
    "print(ogrler[2])\n",
    "print(len(ogrler))\n",
    "\n",
    "# listenin eleman sayısı kadar dönen döngü\n",
    "\n",
    "for i in range(len(ogrler)):\n",
    "    print(ogrler[i])\n",
    "\n"
   ]
  },
  {
   "cell_type": "code",
   "execution_count": 5,
   "metadata": {},
   "outputs": [
    {
     "name": "stdout",
     "output_type": "stream",
     "text": [
      "[]\n",
      "[50, 100, 75, 80, 90]\n",
      "50\n",
      "100\n",
      "75\n",
      "80\n",
      "90\n",
      "ortalama: 79.0\n"
     ]
    }
   ],
   "source": [
    "# aşağıda tanımlanan boş listeye sırası ile 50 100 75 80 90  değerlerini ekleyiniz.\n",
    "notlar = list()# boş liste\n",
    "print(notlar)\n",
    "notlar.append(50)\n",
    "notlar.append(100)\n",
    "notlar.append(75)\n",
    "notlar.append(80)\n",
    "notlar.append(90)\n",
    "print(notlar)\n",
    "for not1 in notlar:\n",
    "    print(not1)\n",
    "\n",
    "ortalama=0\n",
    "for nt1 in notlar:#[50,100,75,80,90]\n",
    "    ortalama=ortalama+nt1\n",
    "\n",
    "ortalama = ortalama/len(notlar)\n",
    "print(\"ortalama:\",ortalama)\n"
   ]
  },
  {
   "cell_type": "code",
   "execution_count": 24,
   "metadata": {},
   "outputs": [
    {
     "name": "stdout",
     "output_type": "stream",
     "text": [
      "10\n",
      "[12, 15, 73, 24, 12, 5, 8, 3, 78, 50, 15]\n",
      " 2\n",
      "8 indisi: 6\n",
      "[12, 15, 73, 24, 12, 8, 3, 78, 50, 15] 5 silindi\n",
      "[12, 15, 73, 24, 12, 8, 3, 78, 50] --- 15\n",
      "[12, 15, 73, 12, 8, 3, 78, 50] --- 24\n",
      "[3, 8, 12, 12, 15, 50, 73, 78] sırlandı-az\n",
      "[78, 73, 50, 15, 12, 12, 8, 3] liste ters çevrildi.(za)\n"
     ]
    }
   ],
   "source": [
    "sayilar=[12,15,24,12,5,8,3,78,50,15]\n",
    "print(len(sayilar))\n",
    "#insert(indis,değer)\n",
    "sayilar.insert(2,73)\n",
    "print(sayilar)\n",
    "#count(değer) bir değerden listede kaç tane olduğu bilgisini verir.\n",
    "say1=sayilar.count(12)\n",
    "print(\"\",say1)\n",
    "#index(değer) bir değerin listedeki yerini verir. 1'den falza varsa ilkinin indisini, eğer değer yoksa hata verir\n",
    "yer1=sayilar.index(8)\n",
    "print(\"8 indisi:\",yer1)\n",
    "#remove(değer) \n",
    "sayilar.remove(5)\n",
    "print(sayilar,\"5 silindi\")\n",
    "# pop()\n",
    "d1=sayilar.pop()\n",
    "print(sayilar,\"---\",d1)\n",
    "d2=sayilar.pop(3)\n",
    "print(sayilar,\"---\",d2)\n",
    "# clear()\n",
    "# sayilar.clear()\n",
    "# print(sayilar,\"liste boş\")\n",
    "\n",
    "# sort()\n",
    "sayilar.sort()\n",
    "print(sayilar,\"sırlandı-az\")\n",
    "# reverse()\n",
    "sayilar.reverse()\n",
    "print(sayilar,\"liste ters çevrildi.(za)\")\n"
   ]
  },
  {
   "cell_type": "code",
   "execution_count": null,
   "metadata": {},
   "outputs": [],
   "source": [
    "# kullanıcının girdiği sayıda bir öğrenci listesi oluştur. Her elemanaı 50-100 arası rastgele notlar ver. Sonra ortalamayı bul.\n",
    "\n",
    "import random\n",
    "\n",
    "# sayi = random.randint(50,100)\n",
    "# print(sayi)\n",
    "\n",
    "# kullanıcıdan öğrenci sayısı al\n",
    "# boş liste tanımla\n",
    "# kullanıcının girdiği değer kadar dönen bir for döngüsü başlat\n",
    "# döngünün her adımında rastegele bir sayı tut ve her tuttulan sayıyı listeye ekle.\n",
    "adet=int(input(\"öğrenci sayısını giriniz:\"))\n",
    "liste=[]\n",
    "\n",
    "for t in range(adet): # eğer döngü değişkeni gereksiz ise değişken _ yapılabilir.\n",
    "    tutulan = random.randint(50,100)\n",
    "    liste.append(tutulan)\n",
    "\n",
    "print(liste)\n",
    "\n",
    "toplam=0\n",
    "for nt in liste:\n",
    "    toplam+=nt\n",
    "\n",
    "print(toplam/adet)"
   ]
  },
  {
   "cell_type": "code",
   "execution_count": null,
   "metadata": {},
   "outputs": [],
   "source": [
    "r1 = range(5) # 0 1 2 3 4\n",
    "r2 = range(2,6) # 2 3 4 5 \n",
    "r3 = range(5,11,2) # 5 7 9 \n",
    "r4 = range(11,2,-4) # 11 7 3  \n",
    "print(r1)\n",
    "\n",
    "# for değişken in koleksiyon:\n",
    "#     işlemler\n",
    "for i in r2:\n",
    "    print(i)"
   ]
  },
  {
   "cell_type": "code",
   "execution_count": null,
   "metadata": {},
   "outputs": [],
   "source": [
    "# ilkel(değer) tipler ve referans tipleri\n",
    "\n",
    "# ilkel tipler int float complex boolean\n",
    "\n",
    "a=5\n",
    "b=a\n",
    "b=8\n",
    "\n",
    "print(a,b)\n",
    "\n",
    "l1 = [25,30,22]\n",
    "l2 = l1.copy()\n",
    "l3 = l1.copy()\n",
    "\n",
    "l2[2]=111\n",
    "l1.clear()\n",
    "print(l1,id(l1))\n",
    "print(l2,id(l2))\n",
    "print(l3,id(l3))"
   ]
  },
  {
   "cell_type": "code",
   "execution_count": null,
   "metadata": {},
   "outputs": [],
   "source": [
    "# append methodu: listenin sonuna eleman/item/öğe ekler\n",
    "l4 = [1,2,3,4,5]\n",
    "# l4 listesinin sonuna 6 elemanını ekleyelim\n",
    "l4.append(6)\n",
    "l4.append(3)\n",
    "print(\"l4 e 6 ve 3  eklendi\",l4)\n",
    "# count methodu: listede bir elemandan kaç tane olduğunun bilgisini verir.\n",
    "say1 = l4.count(77)\n",
    "say2 = l4.count(3)\n",
    "print(say1)\n",
    "print(say2)\n",
    "# insert methodu: istenilen bir indis yerine ekleme yapar diğer elemanlar bir sağa kayar\n",
    "l4.insert(2,77)\n",
    "print(l4)\n",
    "# index methodu: listede bir değeri arar. Değer listede yok ise hata verir. Var ise değerin listedeki ilk bulunduğu indis değerini verir.\n",
    "indis=l4.index(3)\n",
    "print(\"3 değerinin indisi\",indis)\n",
    "# remove methodu: listedeki bir değeri siler ve diğer elemanlar sola kayar\n",
    "l4.remove(5)\n",
    "print(l4)\n",
    "# pop methodu: listeden belirtilen indisteki değeri siler. eğer indis verilmez ise en son değeri siler. Sildiği değeri döndürür.\n",
    "d1=l4.pop() # listeden son değeri sil. silinen değeri d1 değişkenine aktar\n",
    "print(l4)\n",
    "print(d1)\n",
    "d2=l4.pop(2)# 2. indis değerini sil ve d2 ye o değeri aktar\n",
    "print(l4)\n",
    "print(d2)\n",
    "# reverse methodu: listeyi ters çevirir.\n",
    "l4.reverse()\n",
    "print(l4)\n",
    "# sort methodu: listeyi küçükten büyüğe sıralar\n",
    "l4.sort()\n",
    "print(l4)"
   ]
  },
  {
   "cell_type": "markdown",
   "metadata": {},
   "source": [
    "\n",
    "#### tuple(demet):\n",
    "* Birden çok öğeyi tek bir değişkende depolamak için kullanılır. Tuple, Python'da veri koleksiyonlarını depolamak için kullanılan 4 yerleşik veri türünden biridir, diğer 3'ü Liste, Küme ve Sözlük'tür ve hepsi farklı niteliklere ve kullanıma sahiptir. \n",
    "* Demet, sıralı ve değiştirilemez bir koleksiyondur. \n",
    "* Demetler yuvarlak parantezlerle yazılır.()\n",
    "* En sık kullanılan methodları \n",
    "    * count() Belirtilen değere sahip öğelerin sayısını döndürür    \n",
    "    * index() Belirtilen değere sahip ilk elemanın indeksini döndürür\n"
   ]
  },
  {
   "cell_type": "code",
   "execution_count": 6,
   "metadata": {},
   "outputs": [
    {
     "name": "stdout",
     "output_type": "stream",
     "text": [
      "78\n",
      "2\n",
      "0\n",
      "1\n"
     ]
    }
   ],
   "source": [
    "# örnekler\n",
    "dmt1=(255,0,0,78)\n",
    "print(dmt1[3])\n",
    "print(dmt1.count(0))\n",
    "print(dmt1.count(60))\n",
    "print(dmt1.index(0))\n",
    "# print(dmt1.index(52))\n",
    "# dmt1[1]=212 \n",
    "#genelde değişmez koleksiyon ihtiyacında kullanılır. örneğin renk değerlerini belirtmek gibi\n",
    "\n",
    "# dijital ortamda her renk kırmızı yeşil ve mavi renk değerlerinin karışımı ile oluşturulur.\n",
    "# her renk için 0-255 arası(0 ve 255 dahil) bir tam sayı belirtilir.\n",
    "# sıralama red,green,blue şeklindedir."
   ]
  },
  {
   "cell_type": "markdown",
   "metadata": {},
   "source": [
    "#### Kümeler(set):\n",
    "* Kümeler, birden çok öğeyi tek bir değişkende depolamak için kullanılır. \n",
    "* Python'da veri koleksiyonlarını depolamak için kullanılan 4 yerleşik veri türünden biridir, diğer 3'ü List, Tuple ve Dictionary'dir ve hepsi farklı niteliklere ve kullanıma sahiptir.\n",
    "* A set is a collection which is unordered, unchangeable*, and unindexed.\n",
    "* Kümeler süslü parantezlerle yazılır.{}\n",
    "* En sık kullanılan methodları \n",
    "    * copy() Kümenin bir kopyasını döndürür\n",
    "    * difference() İki veya daha fazla küme arasındaki farkı içeren bir küme döndürür\n",
    "    * difference_update() Bu kümedeki, belirtilen başka bir kümede de bulunan öğeleri kaldırır.\n",
    "    * discard() Belirtilen öğeyi kaldır\n",
    "    * intersection() Diğer iki kümenin kesişimi olan bir küme döndürür\n",
    "    * intersection_update() Belirtilen diğer küme(ler)de bulunmayan öğeleri bu kümeden kaldırır.\n",
    "    * isdisjoint() İki kümenin kesişimi olup olmadığını döndürür\n",
    "    * issubset() Başka bir kümenin bu kümeyi içerip içermediğini döndürür.\n",
    "    * issuperset() Bu kümenin başka bir küme içerip içermediğini döndürür\n",
    "    * pop() Kümeden bir öğeyi kaldırır\n",
    "    * remove() Belirtilen öğeyi kaldırır\n",
    "    * symmetric_difference() İki kümenin simetrik farklarını içeren bir küme döndürür\n",
    "    * symmetric_difference_update() bu kümeden ve diğerinden simetrik farkları ekler\n",
    "    * union() Kümelerin birleşimini içeren bir küme döndürür\n",
    "    * update() Bu kümenin ve diğerlerinin birleşimiyle kümeyi güncelleyin"
   ]
  },
  {
   "cell_type": "code",
   "execution_count": 18,
   "metadata": {},
   "outputs": [
    {
     "name": "stdout",
     "output_type": "stream",
     "text": [
      "set()\n",
      "{3, 4, 5, 6}\n",
      "{3, 4, 5, 6, 7, 8, 10}\n",
      "{3, 4}\n",
      "{'e', 'k', 'g', 'r', 'c', 'ç', 'y', 'ü', 'ö'}\n",
      "True\n",
      "False\n",
      "['e', 'k', 'g', 'r', 'c', 'ç', 'y', 'ü', 'ö']\n"
     ]
    }
   ],
   "source": [
    "# örnekler\n",
    "\n",
    "km1 = set()\n",
    "km2 = {3,5,6,3,4}\n",
    "km3 = {3,7,8,10,4}\n",
    "print(km1)\n",
    "print(km2)\n",
    "\n",
    "birlesim = km2.union(km3)\n",
    "kesisim=km3.intersection(km2)\n",
    "print(birlesim)\n",
    "print(kesisim)\n",
    "\n",
    "isim = set(\"öyküecegöçer\")\n",
    "print(isim)\n",
    "\n",
    "alt_kumesi_mi1={\"ö\",\"ü\"}.issubset(isim)\n",
    "alt_kumesi_mi2={\"ö\",\"ü\",\"s\"}.issubset(isim)\n",
    "print(alt_kumesi_mi1)\n",
    "print(alt_kumesi_mi2)\n",
    "isim_liste=list(isim)\n",
    "print(isim_liste)"
   ]
  },
  {
   "cell_type": "markdown",
   "metadata": {},
   "source": [
    "#### Sözlükler(Dictionary):\n",
    "* Sözlükler, veri değerlerini anahtar:değer çiftlerinde depolamak için kullanılır.\n",
    "* Sözlük, sıralı*, değişken ve tekrara izin vermeyen bir koleksiyondur.\n",
    "* Sözlükler süslü parantezlerle yazılır ve anahtarları ve değerleri vardır. {k:v}\n",
    "\n",
    "* En sık kullanılan methodları:\n",
    "    * clear() Sözlüğün tüm öğelerini kaldırır \n",
    "    * copy() Sözlüğün bir kopyasını döndürür \n",
    "    * fromkeys() Belirtilen anahtarları ve değeri içeren bir sözlüğü döndürür \n",
    "    * get() Belirtilen anahtar öğelerin değerini döndürür\n",
    "    * items() Bir demet içeren bir liste döndürür her bir anahtar değer çifti için keys() Sözlüğün anahtarlarını içeren bir liste döndürür \n",
    "    * pop() Belirtilen anahtara sahip öğeyi kaldırır \n",
    "    * popitem() Son eklenen anahtar-değer çiftini kaldırır \n",
    "    * setdefault() Belirtilen anahtarın değerini döndürür. Anahtar yoksa: belirtilen değere sahip anahtarı ekleyin \n",
    "    * update() Sözlüğü belirtilen anahtar-değer çiftleri ile günceller \n",
    "    * values() Sözlükteki tüm değerlerin bir listesini döndürür"
   ]
  },
  {
   "cell_type": "code",
   "execution_count": 34,
   "metadata": {},
   "outputs": [
    {
     "name": "stdout",
     "output_type": "stream",
     "text": [
      "40\n",
      "{'serkan': 41, 'osman': 70, 'ayşe': 35, 'öykü': 13}\n",
      "[93, 75, 60, 100]\n",
      "ortalama: 82.0\n",
      "dict_keys(['serkan', 'osman', 'ayşe', 'öykü'])\n",
      "serkan : 41\n",
      "osman : 70\n",
      "ayşe : 35\n",
      "öykü : 13\n"
     ]
    }
   ],
   "source": [
    "#örnekler\n",
    "\n",
    "yaslar = {\"serkan\":40,\"osman\":70,\"ayşe\":35}\n",
    "mt_notlar={453:[95,100,100],454:[75,80,90],698:[93,75,60,100]}\n",
    "\n",
    "print(yaslar[\"serkan\"]) # key bize o değeri getirir\n",
    "yaslar[\"serkan\"]=41\n",
    "yaslar[\"öykü\"]=13\n",
    "print(yaslar)\n",
    "\n",
    "print(mt_notlar[698])\n",
    "\n",
    "#698 nolu öğrencinin noty ortlaması in not ortalaması\n",
    "ort=0\n",
    "for nt in mt_notlar[698]:\n",
    "    ort=ort+nt\n",
    "print(\"ortalama:\",ort/len(mt_notlar[698]))\n",
    "\n",
    "\n",
    "print(yaslar.keys())\n",
    "for i in yaslar.keys():\n",
    "    print(i,\":\",yaslar[i])\n",
    "    "
   ]
  },
  {
   "cell_type": "code",
   "execution_count": 38,
   "metadata": {},
   "outputs": [
    {
     "name": "stdout",
     "output_type": "stream",
     "text": [
      "  O  \n",
      "/ | \\  \n",
      "  |  \n",
      " / \\\n"
     ]
    }
   ],
   "source": [
    "print(\"  O  \")\n",
    "print(\"/ | \\  \")\n",
    "print(\"  |  \")\n",
    "print(\" / \\\\\")\n"
   ]
  },
  {
   "cell_type": "code",
   "execution_count": 39,
   "metadata": {},
   "outputs": [
    {
     "name": "stdout",
     "output_type": "stream",
     "text": [
      "  O  \n",
      "/ |   \n",
      "  |  \n"
     ]
    }
   ],
   "source": [
    "print(\"  O  \")\n",
    "print(\"/ | \\ \")\n",
    "print(\"  |  \")\n",
    "print(\" /   \")\n",
    "\n"
   ]
  }
 ],
 "metadata": {
  "kernelspec": {
   "display_name": "Python 3.9.2 64-bit",
   "language": "python",
   "name": "python3"
  },
  "language_info": {
   "codemirror_mode": {
    "name": "ipython",
    "version": 3
   },
   "file_extension": ".py",
   "mimetype": "text/x-python",
   "name": "python",
   "nbconvert_exporter": "python",
   "pygments_lexer": "ipython3",
   "version": "3.9.2"
  },
  "orig_nbformat": 4,
  "vscode": {
   "interpreter": {
    "hash": "916dbcbb3f70747c44a77c7bcd40155683ae19c65e1c03b4aa3499c5328201f1"
   }
  }
 },
 "nbformat": 4,
 "nbformat_minor": 2
}
