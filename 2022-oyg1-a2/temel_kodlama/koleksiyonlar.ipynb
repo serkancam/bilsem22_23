{
 "cells": [
  {
   "cell_type": "code",
   "execution_count": null,
   "metadata": {},
   "outputs": [],
   "source": [
    "# koleksiyonlar.ipynb\n",
    "# birçok değeri aynı ad altında tutabildiğimiz yapılara koleksyion.\n",
    "\n",
    "# liste (list) --> []\n",
    "# demet (tuple) --> ()\n",
    "# küme (set) --> {}\n",
    "# sözlük (dict) --> {k:v}"
   ]
  },
  {
   "cell_type": "code",
   "execution_count": 7,
   "metadata": {},
   "outputs": [
    {
     "name": "stdout",
     "output_type": "stream",
     "text": [
      "[2, 4, 8]\n",
      "[2, 77, 8]\n",
      "<class 'list'>\n",
      "[2, 77, 8, 13]\n",
      "[2, 77, 8, 13, 25, 89]\n",
      "33\n",
      "[2, 77, 8, 40, 25, 89]\n"
     ]
    }
   ],
   "source": [
    "#listeler\n",
    "l1=[2,4,8]\n",
    "l2=[]#boş liste\n",
    "#indis bir liste veya demet gibi yapılarının değerlerinin adresi sayılır.\n",
    "print(l1)\n",
    "l1[1]=77\n",
    "print(l1)\n",
    "# listeler değişebilir yapıdadır.\n",
    "print(type(l1))\n",
    "\n",
    "# append methodu listenin sonunda bir eleman ekler\n",
    "l1.append(13)\n",
    "print(l1)\n",
    "# l1 e 25 ve 89 değerlerini ekleyin\n",
    "l1.append(25)\n",
    "l1.append(89)\n",
    "print(l1)\n",
    "# l1 in 2. ve 4. indis değerlerinin toplamını ekrana yazdırın\n",
    "toplam = l1[2]+l1[4]\n",
    "print(toplam)\n",
    "#l1 3. indisini yaşınız yapın\n",
    "l1[3]=40\n",
    "print(l1)\n",
    "#l2 ye sınıftaki kişilerin adlarını ekleyiniz\n",
    "l2.append(\"serkan\")\n",
    "\n",
    "# liste methodlarını anlattıktan sonra topmbala oyunu yap.\n"
   ]
  }
 ],
 "metadata": {
  "kernelspec": {
   "display_name": "Python 3.9.2 64-bit",
   "language": "python",
   "name": "python3"
  },
  "language_info": {
   "codemirror_mode": {
    "name": "ipython",
    "version": 3
   },
   "file_extension": ".py",
   "mimetype": "text/x-python",
   "name": "python",
   "nbconvert_exporter": "python",
   "pygments_lexer": "ipython3",
   "version": "3.9.2"
  },
  "orig_nbformat": 4,
  "vscode": {
   "interpreter": {
    "hash": "916dbcbb3f70747c44a77c7bcd40155683ae19c65e1c03b4aa3499c5328201f1"
   }
  }
 },
 "nbformat": 4,
 "nbformat_minor": 2
}
