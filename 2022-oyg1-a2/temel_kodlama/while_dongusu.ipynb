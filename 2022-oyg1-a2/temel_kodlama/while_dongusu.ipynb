{
 "cells": [
  {
   "cell_type": "code",
   "execution_count": null,
   "metadata": {},
   "outputs": [],
   "source": [
    "# while_dongusu.ipynb\n",
    "# döngüler program içindeki tekrar ve örüntüleri kolaylıkla işlememizi sağlar.\n",
    "# sayısı bilinmeyen giriş değerleri veya durumlar için işleme olanağı sağlar\n",
    "# while döngüsü adı üstünde bir şartlı döngüdür.\n",
    "# 1- Bir başlangıç değerini taşıyan değişken veya değer\n",
    "# 2- Tüm döngünün adım adım ilerlemesini ve gerektiğinde durmasını sağlayan bir şart\n",
    "# 3-döngünün ilerlemesi için döngü değişkenin değişimi \n"
   ]
  },
  {
   "cell_type": "code",
   "execution_count": 3,
   "metadata": {},
   "outputs": [
    {
     "name": "stdout",
     "output_type": "stream",
     "text": [
      "1\n",
      "2\n",
      "3\n",
      "4\n",
      "5\n"
     ]
    }
   ],
   "source": [
    "# while_dongusu.ipynb\n",
    "# 1 den 5e kadar sayıları ekrana yazdıran.\n",
    "i=1\n",
    "# print(i)\n",
    "# i=i+1\n",
    "# print(i)\n",
    "while i<=5: #1-2-3-4-5 için True 6 için False\n",
    "    print(i)\n",
    "    i=i+1\n"
   ]
  },
  {
   "cell_type": "code",
   "execution_count": 6,
   "metadata": {},
   "outputs": [
    {
     "name": "stdout",
     "output_type": "stream",
     "text": [
      "1\n",
      "2\n",
      "3\n",
      "4\n",
      "5\n"
     ]
    }
   ],
   "source": [
    "\n",
    "sayi = int(input(\"pozitif bir tam sayı giriniz:\"))\n",
    "# döngü değişkeni, şart, değişim\n",
    "k=1\n",
    "while k<=sayi:\n",
    "    print(k)\n",
    "    k=k+1\n",
    "\n"
   ]
  },
  {
   "cell_type": "code",
   "execution_count": 7,
   "metadata": {},
   "outputs": [
    {
     "name": "stdout",
     "output_type": "stream",
     "text": [
      "10\n",
      "13\n",
      "16\n",
      "19\n"
     ]
    }
   ],
   "source": [
    "# 10 dan başlayarak kullanıcının girdiği pozitif değere kadar olan sayıları 3er artırıp ekrana yazdıran kodu while döngüsü kullanarak yazınız.\n",
    "sayi = int(input(\"pozitif bir tam sayı giriniz:\"))\n",
    "# döngü değişkeni, şart, değişim\n",
    "k=10\n",
    "while k<=sayi:\n",
    "    print(k)\n",
    "    k=k+3"
   ]
  },
  {
   "cell_type": "code",
   "execution_count": 12,
   "metadata": {},
   "outputs": [
    {
     "name": "stdout",
     "output_type": "stream",
     "text": [
      "526105968\n"
     ]
    }
   ],
   "source": [
    "# 2 den kullancının girdiği değere kadar olan tek sayıların toplamını bulup sonucu ekrana yazdıran kodu yazınız.\n",
    "\n",
    "#örnek girişler\n",
    "# 5 -->c 3+5=    8\n",
    "# 12 --> 3+5+7+9+11   35\n",
    "sayi = int(input(\"pozitif tam sayı giriniz:\"))\n",
    "toplam=0\n",
    "h=2\n",
    "while h<=sayi:\n",
    "    if h%2==1:\n",
    "        toplam=toplam+h   \n",
    "    h=h+1\n",
    "\n",
    "print(toplam)"
   ]
  },
  {
   "cell_type": "markdown",
   "metadata": {},
   "source": [
    "sayi = 21 <br>\n",
    "sayi = 64 <br>\n",
    "sayi = 32 <br>\n",
    "sayi = 16 <br>\n",
    "sayi = 8 <br>\n",
    "sayi = 4 <br>\n",
    "sayi = 2 <br>\n",
    "sayi = 1<br>\n",
    "\n",
    "------------------------<br>\n",
    "\n",
    "sayi = 13 <br>\n",
    "sayi = 40 <br>\n",
    "sayi = 20 <br>\n",
    "sayi = 10 <br>\n",
    "sayi = 5 <br>\n",
    "sayi = 16 <br>\n",
    "sayi = 8 <br>\n",
    "sayi = 4 <br>\n",
    "sayi = 2 <br>\n",
    "sayi = 1<br>\n",
    "------------------------<br>\n",
    "sayi = 63 <br>\n",
    "sayi = 190 <br>\n",
    "sayi = 95 <br>\n",
    "sayi = 286 <br>\n",
    "sayi = 193 <br>\n",
    "sayi .......<br>\n",
    "\n"
   ]
  },
  {
   "cell_type": "code",
   "execution_count": null,
   "metadata": {},
   "outputs": [],
   "source": [
    "# collatz hipotezi\n",
    "# Collatz dizisi işlem basamakları:\n",
    "# Pozitif bir tam sayı ile işleme başla.\n",
    "# Elindeki tam sayının çift olması durumunda sıradaki tam sayıyı bulmak için elindeki tam sayıyı 2’ye böl.\n",
    "# Elindeki tam sayının tek olması durumunda sıradaki tam sayıyı bulmak için elindeki tam sayıyı 3 ile çarp 1 ekle.\n",
    "# u şekilde en sonunda mutlaka bire dönülür diyor. Ama kanıtlanmış değil.\n",
    "\n",
    "sayi = int(input(\"pozitif bir tam sayı giriniz:\"))\n",
    "adim=0\n",
    "while sayi!=1:\n",
    "    çiftse:\n",
    "        sayıyı 2 ye böl\n",
    "    tekse:\n",
    "        sayıyı 3 ile çarpıp 1 ekle\n",
    "    adim=adim+1"
   ]
  }
 ],
 "metadata": {
  "kernelspec": {
   "display_name": "Python 3.9.2 64-bit",
   "language": "python",
   "name": "python3"
  },
  "language_info": {
   "codemirror_mode": {
    "name": "ipython",
    "version": 3
   },
   "file_extension": ".py",
   "mimetype": "text/x-python",
   "name": "python",
   "nbconvert_exporter": "python",
   "pygments_lexer": "ipython3",
   "version": "3.9.2"
  },
  "orig_nbformat": 4,
  "vscode": {
   "interpreter": {
    "hash": "916dbcbb3f70747c44a77c7bcd40155683ae19c65e1c03b4aa3499c5328201f1"
   }
  }
 },
 "nbformat": 4,
 "nbformat_minor": 2
}
