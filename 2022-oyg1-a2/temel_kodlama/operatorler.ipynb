{
 "cells": [
  {
   "cell_type": "code",
   "execution_count": 3,
   "metadata": {},
   "outputs": [
    {
     "name": "stdout",
     "output_type": "stream",
     "text": [
      "10\n"
     ]
    }
   ],
   "source": [
    "a=10\n",
    "print(a)"
   ]
  },
  {
   "cell_type": "code",
   "execution_count": 17,
   "metadata": {},
   "outputs": [
    {
     "name": "stdout",
     "output_type": "stream",
     "text": [
      "10\n"
     ]
    }
   ],
   "source": [
    "#temel değişken tipleri\n",
    "#tam sayılar(integer-int)\n",
    "#ondalılkı sayılar(float)\n",
    "#karakter dizisi(string-str)\n",
    "#mantık(boolean-bool) True/False\n",
    "# = atama operatörüdür(işleç)\n",
    "t1=30;t2=10;os1=20.3;os2=12.5;bl1=True;isim=\"serkan\";soyisim=\"çam\"\n",
    "print(a)"
   ]
  },
  {
   "cell_type": "code",
   "execution_count": 18,
   "metadata": {},
   "outputs": [
    {
     "name": "stdout",
     "output_type": "stream",
     "text": [
      "60\n",
      "50.3\n",
      "5.0\n",
      "3.0\n",
      "3.0\n",
      "27\n",
      "4.0\n"
     ]
    }
   ],
   "source": [
    "#aritmetik operatörler\n",
    "# + - * / % // **\n",
    "# işleme giren sayılardan biri float ise sonuç float\n",
    "# işlem bölme(/) işlemi ise sonuç float\n",
    "# diğer durumlarda sonuç integer\n",
    "print(t1+t2*3)\n",
    "print(os1+t1)\n",
    "print(10/2)\n",
    "print(t1/t2)\n",
    "print(10//3.0)\n",
    "print(3**3)\n",
    "print(10//2.2)\n"
   ]
  },
  {
   "cell_type": "code",
   "execution_count": 1,
   "metadata": {},
   "outputs": [
    {
     "name": "stdout",
     "output_type": "stream",
     "text": [
      "302 saniye.\n",
      "5 dakika 2 saniye\n"
     ]
    }
   ],
   "source": [
    "#kullanıcının girdiği tam saniye değerlerini dakika saniye olarak ekrana yazdıran\n",
    "# kodu yazınız:\n",
    "# giriş: 235  çıktı: 3 dakika 55 saniye\n",
    "# giriş: 502 çıktı: 8 dakika 22 saniye\n",
    "giris=int(input(\"saniye değerini giriniz:\"))\n",
    "print(f\"{giris} saniye.\")\n",
    "dakika=giris//60\n",
    "# saniye=giris-dakika*60\n",
    "saniye=giris%60\n",
    "print(f\"{dakika} dakika {saniye} saniye\")"
   ]
  },
  {
   "cell_type": "code",
   "execution_count": 24,
   "metadata": {},
   "outputs": [
    {
     "name": "stdout",
     "output_type": "stream",
     "text": [
      "parker ekvator çevresini 4 dakika 27.025599999999997 saniye de dolaşır.\n"
     ]
    }
   ],
   "source": [
    "# Kutup yarıçapı: 6357 km, Ekvator yarıçapı: 6378 km\n",
    "PI=3.14 # sabit değişkenleri büyük harfle yazmak daha iyi olur.\n",
    "parker_hizi=150\n",
    "ekvator_r=6378\n",
    "ekvator_cevresi=2*PI*ekvator_r\n",
    "toplam_saniye=ekvator_cevresi/parker_hizi\n",
    "dakika=int(toplam_saniye//60)\n",
    "saniye=toplam_saniye%60\n",
    "print(f\"parker ekvator çevresini {dakika} dakika {saniye} saniye de dolaşır.\")\n",
    "\n",
    "#parker ekvator çevresini kaç dakika saniyede dolaşır.\n",
    "# sonucu bulup ekrana yazdıran python kodunu"
   ]
  },
  {
   "cell_type": "code",
   "execution_count": 2,
   "metadata": {},
   "outputs": [
    {
     "name": "stdout",
     "output_type": "stream",
     "text": [
      "0.30000000000000004\n",
      "0.3\n",
      "0.30000000000000004\n",
      "0.3\n"
     ]
    }
   ],
   "source": [
    "print(0.1+0.1+0.1)\n",
    "print((1+1+1)/10)\n",
    "print(1.3-1.0)\n",
    "print((13-10)/10)"
   ]
  },
  {
   "cell_type": "code",
   "execution_count": 45,
   "metadata": {},
   "outputs": [
    {
     "name": "stdout",
     "output_type": "stream",
     "text": [
      "True\n",
      "True\n",
      "False\n",
      "False\n",
      "True\n",
      "False\n"
     ]
    }
   ],
   "source": [
    "# karşılaştırma operatörleri\n",
    "# < > <= >= == !=\n",
    "print(1<3)\n",
    "print(1!=2)\n",
    "print(3<5<1)\n",
    "print(1>2>3)\n",
    "print(6>4>3)\n",
    "print(2>1>4)"
   ]
  },
  {
   "cell_type": "code",
   "execution_count": 5,
   "metadata": {},
   "outputs": [
    {
     "name": "stdout",
     "output_type": "stream",
     "text": [
      "5 devamsızlık 2 geç gelme.\n"
     ]
    }
   ],
   "source": [
    "# bir okulda 5 derse geç gelme 1 devamsızlık sayılmaktedır.\n",
    "# buna göre 5 ve 5 ten büyük geç gelme sayılarını devamsızlık + geç gelme durumuna çeviren python kodunu yazınız.\n",
    "# 4 gk --> 0 devamsızlık 4 gk\n",
    "# 6 gk --> 1 devamsızlık 1 gk\n",
    "# 27 gk --> 5 devamsızlık 2 gk\n",
    "\n",
    "ggs = int(input(\"geç gelme sayısını giriniz:\"))\n",
    "ds=0\n",
    "if ggs>=5:\n",
    "    ds=ggs//5\n",
    "    ggs=ggs%5\n",
    "\n",
    "print(f\"{ds} devamsızlık {ggs} geç gelme.\")\n",
    "\n",
    "    \n",
    "\n"
   ]
  },
  {
   "cell_type": "code",
   "execution_count": 1,
   "metadata": {},
   "outputs": [
    {
     "name": "stdout",
     "output_type": "stream",
     "text": [
      "False\n",
      "hakkınız yok\n"
     ]
    }
   ],
   "source": [
    "# işe alıncak kişilerin yaş bilgisini alarak 20-40 yaş arasında olanlara başvuru hakkınız var. diğer yaş durumlarına başvuru hakkınız yok bilgisi verilsin.\n",
    "yas = int(input(\"yaşınızı giriniz:\"))\n",
    "sonuc = yas>=20 and yas<=40\n",
    "print(sonuc)\n",
    "\n",
    "if sonuc:\n",
    "    print(\"hakkınız var.\")\n",
    "else:\n",
    "    print(\"hakkınız yok\")\n"
   ]
  },
  {
   "cell_type": "code",
   "execution_count": 17,
   "metadata": {},
   "outputs": [
    {
     "name": "stdout",
     "output_type": "stream",
     "text": [
      "başvuru onaylanmadı.\n"
     ]
    }
   ],
   "source": [
    "# işe alım için kadınların(k) 20-40 yaş arası, erkeklerin(e) 25-45 arası olmalıdır.\n",
    "cinsiyet = input(\"kadın için k erkek için e yazınız:\")\n",
    "yas=int(input(\"yaşınızı giriniz:\"))\n",
    "\n",
    "if (cinsiyet==\"k\" and yas>=20 and yas<=40) or (cinsiyet==\"e\" and yas>=25 and yas<=45):\n",
    "    print(\"başvuru onaylandı.\")\n",
    "else:\n",
    "    print(\"başvuru onaylanmadı.\")\n",
    "\n",
    "\n"
   ]
  },
  {
   "cell_type": "code",
   "execution_count": null,
   "metadata": {},
   "outputs": [],
   "source": [
    "# üniversitede bir dersin not ortalaması vize sınanın %30 u final sınavının %70 olarak\n",
    "# hesaplanır. Buna göre 55 veya üstü notlar ders geçer. Bu işlemi yapan python kodunu yazınız.\n",
    "vize=int(input(\"vize:\"))\n",
    "final=int(input(\"final:\"))\n",
    "ortalama=vize*0.3+final*0.7\n",
    "\n",
    "if ortalama>= 55 :\n",
    "    print(\"geçtniz.\")\n",
    "else:\n",
    "    print(\"kaldınız.\")\n",
    "\n",
    "\n"
   ]
  },
  {
   "cell_type": "code",
   "execution_count": 4,
   "metadata": {},
   "outputs": [
    {
     "name": "stdout",
     "output_type": "stream",
     "text": [
      "sıvı\n"
     ]
    }
   ],
   "source": [
    "# suyun halleri.\n",
    "# nşa su sıcaklık değeri girildiğinde suyun fiziksel durumunu(katı,sıvı,gaz) ekrana yazdıran python kodunu yazınız.\n",
    "# 0 derece ve altı(-273,15) katı, 0üstü ve 100 arası sıvı,100 derece üstü gaz.\n",
    "sicaklik = float(input(\"sıcaklık değerini giriniz:\"))\n",
    "\n",
    "if sicaklik>=-273.15 and sicaklik<=0:\n",
    "    print(\"katı\")\n",
    "elif sicaklik<100 and sicaklik>0:\n",
    "    print(\"sıvı\")\n",
    "elif sicaklik>=100:\n",
    "    print(\"gaz\")\n",
    "else:\n",
    "    print(\"hata.\")\n",
    "\n"
   ]
  }
 ],
 "metadata": {
  "kernelspec": {
   "display_name": "Python 3.9.2 64-bit",
   "language": "python",
   "name": "python3"
  },
  "language_info": {
   "codemirror_mode": {
    "name": "ipython",
    "version": 3
   },
   "file_extension": ".py",
   "mimetype": "text/x-python",
   "name": "python",
   "nbconvert_exporter": "python",
   "pygments_lexer": "ipython3",
   "version": "3.9.2"
  },
  "orig_nbformat": 4,
  "vscode": {
   "interpreter": {
    "hash": "916dbcbb3f70747c44a77c7bcd40155683ae19c65e1c03b4aa3499c5328201f1"
   }
  }
 },
 "nbformat": 4,
 "nbformat_minor": 2
}
