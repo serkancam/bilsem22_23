{
 "cells": [
  {
   "cell_type": "code",
   "execution_count": 3,
   "metadata": {},
   "outputs": [
    {
     "name": "stdout",
     "output_type": "stream",
     "text": [
      "10\n"
     ]
    }
   ],
   "source": [
    "a=10\n",
    "print(a)"
   ]
  },
  {
   "cell_type": "code",
   "execution_count": 17,
   "metadata": {},
   "outputs": [
    {
     "name": "stdout",
     "output_type": "stream",
     "text": [
      "10\n"
     ]
    }
   ],
   "source": [
    "#temel değişken tipleri\n",
    "#tam sayılar(integer-int)\n",
    "#ondalılkı sayılar(float)\n",
    "#karakter dizisi(string-str)\n",
    "#mantık(boolean-bool) True/False\n",
    "# = atama operatörüdür(işleç)\n",
    "t1=30;t2=10;os1=20.3;os2=12.5;bl1=True;isim=\"serkan\";soyisim=\"çam\"\n",
    "print(a)"
   ]
  },
  {
   "cell_type": "code",
   "execution_count": 18,
   "metadata": {},
   "outputs": [
    {
     "name": "stdout",
     "output_type": "stream",
     "text": [
      "60\n",
      "50.3\n",
      "5.0\n",
      "3.0\n",
      "3.0\n",
      "27\n",
      "4.0\n"
     ]
    }
   ],
   "source": [
    "#aritmatik operatörler\n",
    "# + - * / % // **\n",
    "print(t1+t2*3)\n",
    "print(os1+t1)\n",
    "print(10/2)\n",
    "print(t1/t2)\n",
    "print(10//3.0)\n",
    "print(3**3)\n",
    "print(10//2.2)\n"
   ]
  },
  {
   "cell_type": "code",
   "execution_count": 22,
   "metadata": {},
   "outputs": [
    {
     "name": "stdout",
     "output_type": "stream",
     "text": [
      "235 saniye.\n",
      "3 dakika 55 saniye\n"
     ]
    }
   ],
   "source": [
    "#kullanıcının girdiği tam saniye değerlerini dakika saniye olarak ekrana yazdıran\n",
    "# kodu yazınız:\n",
    "# giriş: 235  çıktı: 3 dakika 55 saniye\n",
    "# giriş: 502 çıktı: 8 dakika 22 saniye\n",
    "giris=int(input(\"saniye değerini giriniz:\"))\n",
    "print(f\"{giris} saniye.\")\n",
    "dakika=giris//60\n",
    "# saniye=giris-dakika*60\n",
    "saniye=giris%60\n",
    "print(f\"{dakika} dakika {saniye} saniye\")"
   ]
  },
  {
   "cell_type": "code",
   "execution_count": 24,
   "metadata": {},
   "outputs": [
    {
     "name": "stdout",
     "output_type": "stream",
     "text": [
      "parker ekvator çevresini 4 dakika 27.025599999999997 saniye de dolaşır.\n"
     ]
    }
   ],
   "source": [
    "# Kutup yarıçapı: 6357 km, Ekvator yarıçapı: 6378 km\n",
    "PI=3.14\n",
    "parker_hizi=150\n",
    "ekvator_r=6378\n",
    "ekvator_cevresi=2*PI*ekvator_r\n",
    "toplam_saniye=ekvator_cevresi/parker_hizi\n",
    "dakika=int(toplam_saniye//60)\n",
    "saniye=toplam_saniye%60\n",
    "print(f\"parker ekvator çevresini {dakika} dakika {saniye} saniye de dolaşır.\")\n",
    "\n",
    "#parker ekvator çevresini kaç dakika saniyede dolaşır.\n",
    "# sonucu bulup ekrana yazdıran python kodunu"
   ]
  },
  {
   "cell_type": "code",
   "execution_count": 37,
   "metadata": {},
   "outputs": [
    {
     "name": "stdout",
     "output_type": "stream",
     "text": [
      "0.30000000000000004\n",
      "0.3\n",
      "0.30000000000000004\n",
      "0.3\n"
     ]
    }
   ],
   "source": [
    "print(0.1+0.1+0.1)\n",
    "print((1+1+1)/10)\n",
    "print(1.3-1.0)\n",
    "print((13-10)/10)"
   ]
  },
  {
   "cell_type": "code",
   "execution_count": 45,
   "metadata": {},
   "outputs": [
    {
     "name": "stdout",
     "output_type": "stream",
     "text": [
      "True\n",
      "True\n",
      "False\n",
      "False\n",
      "True\n",
      "False\n"
     ]
    }
   ],
   "source": [
    "# karşılaştırma operatörleri\n",
    "# < > <= >= == !=\n",
    "print(1<3)\n",
    "print(1!=2)\n",
    "print(3<5<1)\n",
    "print(1>2>3)\n",
    "print(6>4>3)\n",
    "print(2>1>4)"
   ]
  }
 ],
 "metadata": {
  "kernelspec": {
   "display_name": "Python 3.9.2 64-bit",
   "language": "python",
   "name": "python3"
  },
  "language_info": {
   "codemirror_mode": {
    "name": "ipython",
    "version": 3
   },
   "file_extension": ".py",
   "mimetype": "text/x-python",
   "name": "python",
   "nbconvert_exporter": "python",
   "pygments_lexer": "ipython3",
   "version": "3.9.2"
  },
  "orig_nbformat": 4,
  "vscode": {
   "interpreter": {
    "hash": "916dbcbb3f70747c44a77c7bcd40155683ae19c65e1c03b4aa3499c5328201f1"
   }
  }
 },
 "nbformat": 4,
 "nbformat_minor": 2
}
