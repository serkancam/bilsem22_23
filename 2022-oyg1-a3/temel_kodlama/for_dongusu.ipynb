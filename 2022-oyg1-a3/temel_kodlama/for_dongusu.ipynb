{
 "cells": [
  {
   "cell_type": "code",
   "execution_count": 2,
   "metadata": {},
   "outputs": [
    {
     "name": "stdout",
     "output_type": "stream",
     "text": [
      "36\n",
      "36\n"
     ]
    }
   ],
   "source": [
    "# for döngüsü pythonda diğer programlama dillerinin genelinden farklıdır.\n",
    "# pythonddaki for döngüsü bir koleksiyonlar içinde dolaşır.\n",
    "r=10\n",
    "toplam=0\n",
    "while r<16:\n",
    "    toplam=toplam+r\n",
    "    r=r+2\n",
    "\n",
    "print(toplam)\n",
    "\n",
    "# aynı işi yapan for döngüsü\n",
    "# 10-12-14\n",
    "toplam1=0\n",
    "for y in range(10,15,2):\n",
    "    toplam1=toplam1+y \n",
    "\n",
    "print(toplam1)"
   ]
  },
  {
   "cell_type": "code",
   "execution_count": 3,
   "metadata": {},
   "outputs": [
    {
     "name": "stdout",
     "output_type": "stream",
     "text": [
      "0\n",
      "1\n",
      "2\n",
      "3\n",
      "4\n"
     ]
    }
   ],
   "source": [
    "# range komutu bize istediğim tam sayı aralığında bir sayı listesi oluşturur.\n",
    "# bu sayılar arasında artan veya azalan bir örüntü olur\n",
    "for e in range(5):# 0,1,2,3,4\n",
    "    print(e)"
   ]
  },
  {
   "cell_type": "code",
   "execution_count": 4,
   "metadata": {},
   "outputs": [
    {
     "name": "stdout",
     "output_type": "stream",
     "text": [
      "10\n",
      "11\n",
      "12\n",
      "13\n",
      "14\n",
      "15\n"
     ]
    }
   ],
   "source": [
    "# 10-11-12-13-14\n",
    "for z in range(10,16):#10,11,12,13,14,15\n",
    "    print(z)"
   ]
  },
  {
   "cell_type": "code",
   "execution_count": null,
   "metadata": {},
   "outputs": [],
   "source": [
    "# 22 27 32 37 42 \n",
    "for g in range(22,43,5):\n",
    "    print(g)\n"
   ]
  },
  {
   "cell_type": "code",
   "execution_count": 5,
   "metadata": {},
   "outputs": [
    {
     "name": "stdout",
     "output_type": "stream",
     "text": [
      "45\n",
      "40\n",
      "35\n",
      "30\n",
      "25\n"
     ]
    }
   ],
   "source": [
    "# 45 40 35 30 25\n",
    "for f in range(45,24,-5):\n",
    "    print(f)"
   ]
  },
  {
   "cell_type": "code",
   "execution_count": 13,
   "metadata": {},
   "outputs": [
    {
     "name": "stdout",
     "output_type": "stream",
     "text": [
      "75\n",
      "70\n",
      "65\n",
      "60\n",
      "55\n",
      "50\n",
      "45\n",
      "40\n",
      "35\n",
      "30\n",
      "25\n",
      "20\n",
      "15\n",
      "10\n",
      "5\n"
     ]
    }
   ],
   "source": [
    "for d in range(75,3,-5):\n",
    "    print(d)"
   ]
  },
  {
   "cell_type": "code",
   "execution_count": 24,
   "metadata": {},
   "outputs": [
    {
     "name": "stdout",
     "output_type": "stream",
     "text": [
      "k a y r a 8\n",
      "4\n",
      "5\n"
     ]
    }
   ],
   "source": [
    "# isminizi bir değikene alarak isminizin karakterlerin for döngüsü yardımı ile her bir karakteri ekrana yan yana arasında bir boşluk koyarak yazdırınız.\n",
    "\n",
    "ad=\"kayra\"\n",
    "for harf in ad:\n",
    "    print(harf,end=\" \") # end=\"\\n\" varsayılan değerdir\n",
    "\n",
    "a=\"845\"\n",
    "for r in a:\n",
    "    print(r)"
   ]
  },
  {
   "cell_type": "code",
   "execution_count": 32,
   "metadata": {},
   "outputs": [
    {
     "name": "stdout",
     "output_type": "stream",
     "text": [
      "False\n",
      "True\n",
      "True\n",
      "True\n"
     ]
    }
   ],
   "source": [
    "#in komutu kullanımı\n",
    "\n",
    "print(\"hs\" in \"hasan\")\n",
    "print(\"a\" not in \"utku\")\n",
    "print(\"a\" in \"aeuoıüiö\")\n",
    "print(\"k\" not in \"aeuoıüiö\")"
   ]
  },
  {
   "cell_type": "code",
   "execution_count": 34,
   "metadata": {},
   "outputs": [
    {
     "name": "stdout",
     "output_type": "stream",
     "text": [
      "s\n",
      "r\n",
      "k\n",
      "n\n"
     ]
    }
   ],
   "source": [
    "# kullanıcının girdiği metindeki sessiz harfleri ekrana yazdınız.\n",
    "metin = input(\"metin giriniz.\")#serkan\n",
    "\n",
    "for harf in metin:\n",
    "    if harf not in \"euıoüiaö\": \n",
    "        print(harf)\n",
    "    "
   ]
  },
  {
   "cell_type": "code",
   "execution_count": 38,
   "metadata": {},
   "outputs": [
    {
     "name": "stdout",
     "output_type": "stream",
     "text": [
      "nakres\n",
      "nakres\n"
     ]
    }
   ],
   "source": [
    "isim =\"serkan\"\n",
    "b=\"\"\n",
    "for a in range(len(isim)-1,-1,-1):\n",
    "    b+=isim[a]\n",
    "print(b)\n",
    "\n",
    "print(isim[::-1])"
   ]
  }
 ],
 "metadata": {
  "kernelspec": {
   "display_name": "Python 3.9.2 64-bit",
   "language": "python",
   "name": "python3"
  },
  "language_info": {
   "codemirror_mode": {
    "name": "ipython",
    "version": 3
   },
   "file_extension": ".py",
   "mimetype": "text/x-python",
   "name": "python",
   "nbconvert_exporter": "python",
   "pygments_lexer": "ipython3",
   "version": "3.9.2"
  },
  "orig_nbformat": 4,
  "vscode": {
   "interpreter": {
    "hash": "916dbcbb3f70747c44a77c7bcd40155683ae19c65e1c03b4aa3499c5328201f1"
   }
  }
 },
 "nbformat": 4,
 "nbformat_minor": 2
}
