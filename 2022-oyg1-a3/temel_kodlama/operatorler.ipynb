{
 "cells": [
  {
   "cell_type": "code",
   "execution_count": 8,
   "metadata": {},
   "outputs": [
    {
     "name": "stdout",
     "output_type": "stream",
     "text": [
      "16\n",
      "31.5\n",
      "1.6666666666666667\n",
      "1\n",
      "4\n",
      "9\n",
      "4.0\n",
      "3.0\n"
     ]
    }
   ],
   "source": [
    "#aritmetik opetörler\n",
    "# + - * /  // % **\n",
    "# ()\n",
    "# = \n",
    "\n",
    "s1=6\n",
    "s2=10\n",
    "f1=25.5\n",
    "b1=True\n",
    "\n",
    "print(s1+s2)\n",
    "print(s1+f1)\n",
    "print(s2/s1)\n",
    "print(s2//s1)\n",
    "print(s2%s1)\n",
    "print(3**2)\n",
    "print(f1//s1)\n",
    "print(6.8//2.1)\n"
   ]
  },
  {
   "cell_type": "code",
   "execution_count": 11,
   "metadata": {},
   "outputs": [
    {
     "name": "stdout",
     "output_type": "stream",
     "text": [
      "ders bitti\n"
     ]
    }
   ],
   "source": [
    "a=\"ders\"\n",
    "b=\"bitti\"\n",
    "print(a+\" \"+b)"
   ]
  },
  {
   "cell_type": "code",
   "execution_count": null,
   "metadata": {},
   "outputs": [],
   "source": [
    "# girilen saniye bilgisini dakika ve saniyeye çeviren kodu yazınız.\n",
    "# 215 --> 3 dakika 35 saniye\n",
    "# 70 --> 1 dakikak 10 saniye\n",
    "girilen_saniye= int(input(\"saniye bilgisi giriniz:\"))\n",
    "\n",
    "dakika=girilen_saniye//60\n",
    "saniye=girilen_saniye%60\n",
    "print(f\"{dakika} dakika {saniye} saniye\")"
   ]
  },
  {
   "cell_type": "code",
   "execution_count": 11,
   "metadata": {},
   "outputs": [
    {
     "name": "stdout",
     "output_type": "stream",
     "text": [
      "267.0256 saniye\n",
      "4 dakika 27.025599999999997 saniye\n"
     ]
    }
   ],
   "source": [
    "# parker uzay aracı saniyede 150 km hızla ilerliyor\n",
    "# parker uzay aracı ekvator çevresindeki tam turunu kaç dakika saniyede tamamlar\n",
    "# çevre formülü 2*pi*r\n",
    "# r yarıçap\n",
    "# pi=3.14\n",
    "# (Kutup yarıçapı: 6357 km, Ekvator yarıçapı: 6378 km)\n",
    "# python ve diğer dillerde sabit\n",
    "PI=3.14 \n",
    "ekvator_r=6378\n",
    "parker_hiz=150\n",
    "ekvator_cevresi=2*PI*ekvator_r\n",
    "gecen_sure = ekvator_cevresi/parker_hiz\n",
    "print(gecen_sure,\"saniye\")\n",
    "dakika=gecen_sure//60\n",
    "saniye=gecen_sure%60\n",
    "print(f\"{int(dakika)} dakika {saniye} saniye\")"
   ]
  },
  {
   "cell_type": "code",
   "execution_count": 17,
   "metadata": {},
   "outputs": [
    {
     "name": "stdout",
     "output_type": "stream",
     "text": [
      "-1284 True 1\n",
      "False\n"
     ]
    }
   ],
   "source": [
    "### karşılaştırma operatörleri\n",
    "# <   >   <=   >=   == !=\n",
    "# a == b    a b değerine eşittir\n",
    "# a != b    a b değerine eşiit değildir.\n",
    "# a <= b    a b değerinden küçüktür veya eşittir. \n",
    "# a >= b    a b değerinden büyüktür veya eşittir. \n",
    "# ya True ya da False  (bool)\n",
    "\n",
    "a= -1284\n",
    "b=bool(a) # True\n",
    "c=int(b) # 1\n",
    "print(a,b,c)\n",
    "d=0/1\n",
    "print(bool(d))"
   ]
  },
  {
   "cell_type": "code",
   "execution_count": 22,
   "metadata": {},
   "outputs": [
    {
     "name": "stdout",
     "output_type": "stream",
     "text": [
      "True\n",
      "True\n",
      "False\n",
      "False\n",
      "True\n"
     ]
    }
   ],
   "source": [
    "s1=18\n",
    "s2=28\n",
    "print(s1<s2)\n",
    "print(s1 != s2)\n",
    "print(s1 == s2)\n",
    "print(18<18)\n",
    "print(18<=18)\n"
   ]
  },
  {
   "cell_type": "code",
   "execution_count": null,
   "metadata": {},
   "outputs": [],
   "source": [
    "# bir ders ortalaması 50 den büyük veya 50 ye eşitse sonuç True, değilse False sonucunu\n",
    "# veren karşılaştırma işlemini yazınız.\n",
    "ort=float(input(\"ortalama giriniz:\"))\n",
    "sonuc= ort >= 50\n",
    "print(sonuc)"
   ]
  },
  {
   "cell_type": "code",
   "execution_count": 24,
   "metadata": {},
   "outputs": [
    {
     "name": "stdout",
     "output_type": "stream",
     "text": [
      "False\n"
     ]
    }
   ],
   "source": [
    "# kullanıcının girdiği sayı 20-50 arasında ise(20 ve 50 dahil) True değilse False sonucunu veren şartı yazınız.\n",
    "\n",
    "sayi = int(input(\"sayı:\"))\n",
    "\n",
    "sonuc2 = sayi>=20 and sayi<=50\n",
    "print(sonuc)"
   ]
  },
  {
   "cell_type": "code",
   "execution_count": null,
   "metadata": {},
   "outputs": [],
   "source": [
    "# bir iş başsurusu yapılan noktada kadınların başvuru kabulleri için yaş aralığı 20-40\n",
    "# erkeklerin başvuru onayı için yaş aralığı 25-45 olmalıdır.\n",
    "cinsiyet=(input(\"kadın için k erkek için e değerlerini giriniz:\"))\n",
    "yas=int(input(\"yaşınız:\"))\n",
    "\n",
    "#cinsiyet erkekse ve yaşı 25 den büyükşitse ve 45 tan küçükeşitse\n",
    "#veya\n",
    "#cinsiyet kadınsa ve yaşı 20 den büyükşitse ve 40 tan küçükeşitse\n",
    "# True\n",
    "# değilse\n",
    "# False\n",
    "print((cinsiyet==\"e\" and yas>=25 and yas<=45)or( cinsiyet==\"k\" and yas>=20 and yas<=40))\n",
    "\n",
    "if (cinsiyet==\"e\" and yas>=25 and yas<=45)or( cinsiyet==\"k\" and yas>=20 and yas<=40):\n",
    "    print(\"onaylandı.\")\n",
    "else:\n",
    "    print(\"onaylanmadı\")"
   ]
  },
  {
   "cell_type": "code",
   "execution_count": 27,
   "metadata": {},
   "outputs": [
    {
     "name": "stdout",
     "output_type": "stream",
     "text": [
      "katı\n"
     ]
    }
   ],
   "source": [
    "# nşa da sıcaklık değeri(santigrad) girilen suyun fiziksel durumunu ekrana yazdıran python kodunu yazınız.\n",
    "# -273.15 ve 0 arası katı(o dahil)\n",
    "# 0 ve 100 arası sıvı(100 dahil)\n",
    "# 100 den yüksek sıcaklıklarda gaz \n",
    "# bunun dışındaki sıcaklıklarda hata yazısı ekrana yazılacak\n",
    "\n",
    "sck = float(input(\"sıcaklık değerini giriniz:\"))\n",
    "\n",
    "if sck>=-273.15 and sck<=0:\n",
    "    print(\"katı\")\n",
    "elif sck>0 and sck<=100:\n",
    "    print(\"sıvı\")\n",
    "elif sck>100:\n",
    "    print(\"gaz\")\n",
    "else:\n",
    "    print(\"hata.\")\n"
   ]
  }
 ],
 "metadata": {
  "kernelspec": {
   "display_name": "Python 3.9.2 64-bit",
   "language": "python",
   "name": "python3"
  },
  "language_info": {
   "codemirror_mode": {
    "name": "ipython",
    "version": 3
   },
   "file_extension": ".py",
   "mimetype": "text/x-python",
   "name": "python",
   "nbconvert_exporter": "python",
   "pygments_lexer": "ipython3",
   "version": "3.9.2"
  },
  "orig_nbformat": 4,
  "vscode": {
   "interpreter": {
    "hash": "916dbcbb3f70747c44a77c7bcd40155683ae19c65e1c03b4aa3499c5328201f1"
   }
  }
 },
 "nbformat": 4,
 "nbformat_minor": 2
}
