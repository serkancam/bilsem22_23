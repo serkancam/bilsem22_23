{
 "cells": [
  {
   "cell_type": "code",
   "execution_count": 8,
   "metadata": {},
   "outputs": [
    {
     "name": "stdout",
     "output_type": "stream",
     "text": [
      "16\n",
      "31.5\n",
      "1.6666666666666667\n",
      "1\n",
      "4\n",
      "9\n",
      "4.0\n",
      "3.0\n"
     ]
    }
   ],
   "source": [
    "#aritmetik opetörler\n",
    "# + - * /  // % **\n",
    "# ()\n",
    "# = \n",
    "\n",
    "s1=6\n",
    "s2=10\n",
    "f1=25.5\n",
    "b1=True\n",
    "\n",
    "print(s1+s2)\n",
    "print(s1+f1)\n",
    "print(s2/s1)\n",
    "print(s2//s1)\n",
    "print(s2%s1)\n",
    "print(3**2)\n",
    "print(f1//s1)\n",
    "print(6.8//2.1)\n"
   ]
  },
  {
   "cell_type": "code",
   "execution_count": 11,
   "metadata": {},
   "outputs": [
    {
     "name": "stdout",
     "output_type": "stream",
     "text": [
      "ders bitti\n"
     ]
    }
   ],
   "source": [
    "a=\"ders\"\n",
    "b=\"bitti\"\n",
    "print(a+\" \"+b)"
   ]
  }
 ],
 "metadata": {
  "kernelspec": {
   "display_name": "Python 3.9.2 64-bit",
   "language": "python",
   "name": "python3"
  },
  "language_info": {
   "codemirror_mode": {
    "name": "ipython",
    "version": 3
   },
   "file_extension": ".py",
   "mimetype": "text/x-python",
   "name": "python",
   "nbconvert_exporter": "python",
   "pygments_lexer": "ipython3",
   "version": "3.9.2"
  },
  "orig_nbformat": 4,
  "vscode": {
   "interpreter": {
    "hash": "916dbcbb3f70747c44a77c7bcd40155683ae19c65e1c03b4aa3499c5328201f1"
   }
  }
 },
 "nbformat": 4,
 "nbformat_minor": 2
}
