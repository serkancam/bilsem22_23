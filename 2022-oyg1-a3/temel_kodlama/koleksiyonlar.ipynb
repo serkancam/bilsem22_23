{
 "cells": [
  {
   "cell_type": "code",
   "execution_count": null,
   "metadata": {},
   "outputs": [],
   "source": [
    "#koleksiyonlar\n",
    "# liste(list)--> []  -->değişebilir\n",
    "# demet (tuple) --> () --> değişsemez\n",
    "# küme (set) --> {} -->değişebilir\n",
    "# sözlük (dict)--> {k:v} -->değişebilir\n",
    "\n",
    "# değişebilirlik(mutable) ve değişmezlik(immutable)\n",
    "# değer tutan tipler, referans/adres tutan tipler\n"
   ]
  },
  {
   "cell_type": "code",
   "execution_count": 11,
   "metadata": {},
   "outputs": [
    {
     "name": "stdout",
     "output_type": "stream",
     "text": [
      "[22, 45, 2, 52]\n",
      "45\n",
      "[22, 45, 38, 52]\n",
      "[22, 45, 38, 52, 58]\n",
      "[22, 45, 38, 52, 58, 2.1]\n",
      "[22, 45, 38, 52, 58, 2.1, [[1, 2, 3], [3, 2]]]\n"
     ]
    }
   ],
   "source": [
    "#listeler\n",
    "l1 =[] # boş liste\n",
    "l2=[22,45,2,52]\n",
    "l3=[True,2.1,\"bilsem\",4]\n",
    "l4=[[1,2,3],[3,2]]\n",
    "\n",
    "print(l2)\n",
    "print(l2[1])\n",
    "l2[2]=38\n",
    "print(l2)\n",
    "\n",
    "# liste metodları append\n",
    "l2.append(58)\n",
    "print(l2)\n",
    "l2.append(l3[1])\n",
    "print(l2)\n",
    "l2.append(l4)\n",
    "print(l2)\n"
   ]
  },
  {
   "cell_type": "code",
   "execution_count": 13,
   "metadata": {},
   "outputs": [
    {
     "name": "stdout",
     "output_type": "stream",
     "text": [
      "[2, 5, 8, 11, 14, 17]\n",
      "[1, 2, 3, 4, 5, 6, 7, 8, 9, 10, 11, 12, 13, 14, 15, 16, 17, 18, 19, 20, 21, 22, 23, 24, 25, 26, 27, 28, 29, 30, 31, 32, 33, 34, 35, 36, 37, 38, 39, 40, 41, 42, 43, 44, 45, 46, 47, 48, 49, 50, 51, 52, 53, 54, 55, 56, 57, 58, 59, 60, 61, 62, 63, 64, 65, 66, 67, 68, 69, 70, 71, 72, 73, 74, 75, 76, 77, 78, 79, 80, 81, 82, 83, 84, 85, 86, 87, 88, 89, 90]\n"
     ]
    }
   ],
   "source": [
    "sayilar=list(range(2,18,3))\n",
    "print(sayilar)\n",
    "torba = list(range(1,91))\n",
    "print(torba)"
   ]
  },
  {
   "cell_type": "code",
   "execution_count": 22,
   "metadata": {},
   "outputs": [
    {
     "name": "stdout",
     "output_type": "stream",
     "text": [
      "12 8\n",
      "[1, 2, 3]\n",
      "[1, 2, 3]\n",
      "[1, 2, 3]\n",
      "[1, 2, 3]\n",
      "a 139886792346256\n",
      "b 139886792346128\n",
      "ls1 139886416278656\n",
      "ls2 139886416278656\n",
      "ls3 139886416574976\n"
     ]
    }
   ],
   "source": [
    "# değer tutan tipler, referans/adres tutan tipler\n",
    "a=5\n",
    "b=a \n",
    "b=8\n",
    "a=12\n",
    "print(a,b)\n",
    "\n",
    "ls1=[1,2,3]\n",
    "ls2=ls1\n",
    "ls3=ls2.copy()\n",
    "print(ls1)\n",
    "print(ls2)\n",
    "# ls2[0]=100\n",
    "print(ls1)\n",
    "print(ls2)\n",
    "\n",
    "print(\"a\",id(a))\n",
    "print(\"b\",id(b))\n",
    "print(\"ls1\",id(ls1))\n",
    "print(\"ls2\",id(ls2))\n",
    "print(\"ls3\",id(ls3))"
   ]
  }
 ],
 "metadata": {
  "kernelspec": {
   "display_name": "Python 3.9.2 64-bit",
   "language": "python",
   "name": "python3"
  },
  "language_info": {
   "codemirror_mode": {
    "name": "ipython",
    "version": 3
   },
   "file_extension": ".py",
   "mimetype": "text/x-python",
   "name": "python",
   "nbconvert_exporter": "python",
   "pygments_lexer": "ipython3",
   "version": "3.9.2 (default, Feb 28 2021, 17:03:44) \n[GCC 10.2.1 20210110]"
  },
  "orig_nbformat": 4,
  "vscode": {
   "interpreter": {
    "hash": "916dbcbb3f70747c44a77c7bcd40155683ae19c65e1c03b4aa3499c5328201f1"
   }
  }
 },
 "nbformat": 4,
 "nbformat_minor": 2
}
