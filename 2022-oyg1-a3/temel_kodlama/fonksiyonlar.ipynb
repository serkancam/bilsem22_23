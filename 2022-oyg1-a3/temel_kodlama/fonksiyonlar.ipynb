{
 "cells": [
  {
   "cell_type": "markdown",
   "metadata": {},
   "source": [
    "### Fonskiyonlar\n",
    "\n",
    "* fonksiyon, yalnızca çağrıldığında çalışan bir kod bloğudur.\n",
    "* Parametre olarak bilinen verileri bir fonksiyona iletebilirsiniz.\n",
    "* Bir fonksiyon sonuç olarak veri döndürebilir.\n",
    "* Python'da bir fonksiyon, *def* anahtar kelimesi kullanılarak tanımlanır:\n",
    "#### Temel kavramlar\n",
    "\n",
    "#### fonksiyon çağırma:\n",
    "Bir fonksiyonu çağırmak için, işlev adını ve ardından parantez kullanın:\n",
    " ``` python\n",
    "def fonksiyonum():\n",
    "    print(\"merhaba ben bir fonksiyondanım.\")\n",
    " ```\n",
    "fonksiyonum()\n",
    "\n",
    "#### parametre veya argüman(Parameters or Arguments)):\n",
    "Bilgi, fonskiyonlara bağımsız değişken olarak iletilebilir. Bağımsız değişkenler, fonskiyon adından sonra parantez içinde belirtilir. İstediğiniz kadar parametre ekleyebilirsiniz, sadece virgülle ayırın. Aşağıdaki örnek, tek bağımsız değişkenli (fname) bir fonskiyona sahiptir. fonskiyon çağrıldığında, fonskiyonun içinde tam adı yazdırmak için kullanılan bir ad iletiriz.\n",
    "``` python\n",
    "def fonksiyonum(fname):\n",
    "  print(fname + \" Refsnes\")\n",
    "\n",
    "fonksiyonum(\"Emil\")\n",
    "fonksiyonum(\"Tobias\")\n",
    "fonksiyonum(\"Linus\")\n",
    "```\n",
    "#### Argüman/parametre Sayısı:\n",
    "Varsayılan olarak, bir fonskiyon doğru sayıda bağımsız değişkenle çağrılmalıdır. Yani, fonskiyonunuz 2 parametre bekliyorsa, fonskiyonu 2 parametre ile çağırmalısınız, daha fazla veya daha az değil.\n",
    "\n",
    "#### Keyfi parametreler, *args(Arbitrary Arguments, *args):\n",
    "fonskiyonunuza kaç bağımsız değişkenin iletileceğini bilmiyorsanız, fonskiyon tanımında parametre adının önüne bir * ekleyin. Bu şekilde, fonskiyon bir dizi bağımsız değişken alır ve öğelere buna göre erişebilir:\n",
    "``` python\n",
    "def fonksiyonum(*cocuklar):\n",
    "  print(\"cocuklar \" + cocuklar[2])\n",
    "\n",
    "fonksiyonum(\"Emine\", \"Hasan\", \"Linus\")\n",
    "```\n",
    "#### Anahtar Kelime Argümanları(Keyword Arguments):\n",
    "Anahtar = değer söz dizimiyle de bağımsız değişkenler gönderebilirsiniz. Bu şekilde parametrelerin sırası önemli değildir.\n",
    "\n",
    "``` python\n",
    "def my_function(**kid):\n",
    "  print(\"His last name is \" + kid[\"lname\"])\n",
    "\n",
    "my_function(fname = \"Tobias\", lname = \"Refsnes\")\n",
    "```\n",
    "#### Anahtar Kelime Argümanları(Keyword Arguments):\n",
    "Anahtar = değer söz dizimiyle de bağımsız değişkenler gönderebilirsiniz. Bu şekilde parametrelerin sırası önemli değildir.\n",
    "\n",
    "#### Varsayılan Parametre Değeri(Default Parameter Value):\n",
    "Aşağıdaki örnek, bir varsayılan parametre değerinin nasıl kullanılacağını gösterir. fonksiyonu bağımsız değişken olmadan çağırırsak, varsayılan değeri kullanır:\n",
    "\n",
    "``` python\n",
    "def my_function(country = \"Norway\"):\n",
    "  print(\"I am from \" + country)\n",
    "\n",
    "my_function(\"Sweden\")\n",
    "my_function(\"India\")\n",
    "my_function()\n",
    "my_function(\"Brazil\")\n",
    "```\n",
    "#### Dönüş Değerleri(Return Values):\n",
    "Bir fonksiyonun bir değer döndürmesine izin vermek için, *return* deyimini kullanın:\n",
    "\n",
    "``` python\n",
    "def my_function(x):\n",
    "  return 5 * x\n",
    "\n",
    "print(my_function(3))\n",
    "print(my_function(5))\n",
    "print(my_function(9))\n",
    "```\n"
   ]
  },
  {
   "cell_type": "code",
   "execution_count": 8,
   "metadata": {},
   "outputs": [
    {
     "name": "stdout",
     "output_type": "stream",
     "text": [
      "merhaba\n",
      "hello world.\n",
      "merhaba\n",
      "merhaba\n",
      "merhaba\n",
      "merhaba\n",
      "merhaba\n"
     ]
    }
   ],
   "source": [
    "#örnekler\n",
    "\n",
    "# tanımlama(definition)\n",
    "def merhaba_yaz():\n",
    "    print(\"merhaba\")\n",
    "\n",
    "# çağırmak(call)\n",
    "\n",
    "merhaba_yaz()\n",
    "\n",
    "def hello():\n",
    "    print(\"hello world.\")\n",
    "\n",
    "hello()\n",
    "\n",
    "# fonksiyonlar işlemek için parametre/argüman alabilirler\n",
    "\n",
    "def n_kere_merhaba_yaz(a):\n",
    "    for i in range(a):#0 1 2 ... adet-1\n",
    "        print(\"merhaba\")\n",
    "\n",
    "\n",
    "\n",
    "c=5\n",
    "n_kere_merhaba_yaz(c)\n"
   ]
  },
  {
   "cell_type": "code",
   "execution_count": 14,
   "metadata": {},
   "outputs": [
    {
     "name": "stdout",
     "output_type": "stream",
     "text": [
      "-5\n",
      "135\n",
      "-165\n",
      "616\n",
      "-2805\n"
     ]
    }
   ],
   "source": [
    "# iki sayı alıp karelerinin farkını ekrana yazdıran fonksiyon\n",
    "\n",
    "def kare_farki(s1,s2):\n",
    "    kf = s1**2 - s2**2\n",
    "    print(kf)\n",
    "\n",
    "kare_farki(2,3)\n",
    "kare_farki(12,3)\n",
    "kare_farki(2,13)\n",
    "kare_farki(25,3)\n",
    "kare_farki(2,53)"
   ]
  }
 ],
 "metadata": {
  "kernelspec": {
   "display_name": "Python 3",
   "language": "python",
   "name": "python3"
  },
  "language_info": {
   "codemirror_mode": {
    "name": "ipython",
    "version": 3
   },
   "file_extension": ".py",
   "mimetype": "text/x-python",
   "name": "python",
   "nbconvert_exporter": "python",
   "pygments_lexer": "ipython3",
   "version": "3.9.2 (default, Feb 28 2021, 17:03:44) \n[GCC 10.2.1 20210110]"
  },
  "orig_nbformat": 4,
  "vscode": {
   "interpreter": {
    "hash": "916dbcbb3f70747c44a77c7bcd40155683ae19c65e1c03b4aa3499c5328201f1"
   }
  }
 },
 "nbformat": 4,
 "nbformat_minor": 2
}
