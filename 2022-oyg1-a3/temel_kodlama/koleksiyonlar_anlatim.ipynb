{
 "cells": [
  {
   "cell_type": "markdown",
   "metadata": {},
   "source": [
    "### Koleksiyonlar\n",
    "#### Temel kavramlar\n",
    "\n",
    "#### index(indis):\n",
    "Bir koleksiyon içerisindeki bir elemanın bulunuduğu konumu temsil eden değer.\n",
    "\n",
    "#### item(eleman/öğe):\n",
    "Bir koleksiyonu oluşturan herbir parçaya verilen isim.\n",
    "\n",
    "#### [] operatörü:\n",
    "Bu operatör bir koleksiyon yapısının hemen ardından gelerek, koleksiyonun hangi elemanına ulaşacağımız bilgisini(indis veya anahtar) alır ve o elemana ulaşmamızı sağlar.\n",
    "\n",
    "#### mutable(değişebilir)/immutable(değişemez):\n",
    "Bazen programlama dillerindeki bazı yapılar içeriği değiştirilebilir olurken, bazı yapıların içeriği değiştirilemez olur. Örneğin bir listenin herhangi bir elemanınun değerini indis numrası ile ulaşıp değiştirebilirken bir demetin içeriğini değiştiremezsiniz. \n",
    "\n",
    "#### list(liste):\n",
    "* En çok kullanılan koleksiyon türüdür. liste oluşturmak için  köşeli parantezler kullanılır[]\n",
    "* değişebilir bir yapıya sahiptir. \n",
    "* En sık kullanılan methodları\n",
    "    * append() Listenin sonuna bir eleman ekler.\n",
    "    * clear() Listedeki tüm öğeleri kaldırır\n",
    "    * copy() Listenin bir kopyasını döndürür\n",
    "    * count() Belirtilen değere sahip öğelerin sayısını döndürür\n",
    "    * extend() Bir listenin öğelerini (veya yinelenebilir herhangi bir öğeyi) geçerli listenin sonuna ekler\n",
    "    * index() Belirtilen değere sahip ilk elemanın indeksini döndürür\n",
    "    * insert() Belirtilen konuma bir öğe ekler\n",
    "    * pop() Belirtilen konumdaki elemanı kaldırır\n",
    "    * remove() Belirtilen değere sahip ilk öğeyi kaldırır\n",
    "    * reverse() Listenin sırasını tersine çevirir\n",
    "    * sort() Listeyi sıralar"
   ]
  },
  {
   "cell_type": "code",
   "execution_count": 1,
   "metadata": {},
   "outputs": [
    {
     "name": "stdout",
     "output_type": "stream",
     "text": [
      "['ahmet efe', 'zeynep', 'reyyan', 'yusuf', 'mert', 'kerem', 'tarık']\n",
      "[1, 2, 32.0, 'hasan', True, True, False]\n",
      "zeynep\n",
      "['ahmet efe', 'zeynep', 'reyyan', 'yusuf aras', 'mert', 'kerem', 'tarık']\n",
      "ahmet efe\n",
      "zeynep\n",
      "reyyan\n",
      "yusuf aras\n",
      "mert\n",
      "kerem\n",
      "tarık\n"
     ]
    }
   ],
   "source": [
    "# %% listeler\n",
    "l1 = []  # boş liste **\n",
    "l2 = list()  # boş liste\n",
    "\n",
    "ogler = [\"ahmet efe\", \"zeynep\", \"reyyan\", \"yusuf\", \"mert\",\n",
    "         \"kerem\", \"tarık\"]\n",
    "mix = [1, 2, 32.0, \"hasan\", True, True, False]\n",
    "\n",
    "print(ogler)\n",
    "print(mix)\n",
    "print(ogler[1])\n",
    "ogler[3] = \"yusuf aras\"\n",
    "print(ogler)\n",
    "\n",
    "for isim in ogler:\n",
    "    print(isim)\n"
   ]
  },
  {
   "cell_type": "code",
   "execution_count": 27,
   "metadata": {},
   "outputs": [
    {
     "name": "stdout",
     "output_type": "stream",
     "text": [
      "7\n",
      "[12, 5, 7, 25, 12, 5, 9, 7]\n",
      "2 adet\n",
      "1\n",
      "3\n",
      "[12, 7, 25, 12, 5, 9, 7]\n",
      "[12, 7, 100, 25, 12, 5, 9, 7]\n",
      "[12, 7, 99, 25, 12, 5, 9, 7]\n",
      "[12, 7, 99, 25, 12, 5, 9] -- 7\n",
      "[12, 7, 99, 12, 5, 9] -- 25\n",
      "sıralı: [5, 7, 9, 12, 12, 99]\n",
      "[99, 12, 12, 9, 7, 5]\n",
      "[99, 12, 12, 9, 7, 5]\n"
     ]
    }
   ],
   "source": [
    "l1 = [12,5,7,25,12,5,9]\n",
    "print(len(l1))# len(koleksiyon)\n",
    "l1.append(7)\n",
    "print(l1)\n",
    "#count(değer)\n",
    "say1=l1.count(5)\n",
    "print(say1,\"adet\")\n",
    "print(l1.count(25))\n",
    "#index(değer)\n",
    "print(l1.index(25))\n",
    "#remove(değer)\n",
    "l1.remove(5)\n",
    "# l1.remove(100) hata verir.\n",
    "print(l1)\n",
    "#insert(indis,değer)\n",
    "l1.insert(2,100)\n",
    "print(l1)\n",
    "l1[2]=99\n",
    "print(l1)\n",
    "#pop() veya pop(indis)\n",
    "p1=l1.pop()#en sondakini kopar\n",
    "print(l1,\"--\",p1)\n",
    "p2=l1.pop(3)#3. indistekini kopar\n",
    "print(l1,\"--\",p2)\n",
    "\n",
    "#sort()\n",
    "l1.sort()\n",
    "print(\"sıralı:\",l1)\n",
    "#reverse()\n",
    "l1.reverse()\n",
    "print(l1)\n",
    "#clear()\n",
    "l1.clear()\n",
    "print(l1)\n"
   ]
  },
  {
   "cell_type": "code",
   "execution_count": null,
   "metadata": {},
   "outputs": [],
   "source": [
    "# kullanıcının girdiği sayıda bir öğrenci listesi oluştur. Her elemanaı 50-100 arası rastgele notlar ver. Sonra ortalamayı bul.\n",
    "\n",
    "import random\n",
    "\n",
    "# sayi = random.randint(50,100)\n",
    "# print(sayi)\n",
    "\n",
    "# kullanıcıdan öğrenci sayısı al\n",
    "# boş liste tanımla\n",
    "# kullanıcının girdiği değer kadar dönen bir for döngüsü başlat\n",
    "# döngünün her adımında rastegele bir sayı tut ve her tuttulan sayıyı listeye ekle.\n",
    "adet=int(input(\"öğrenci sayısını giriniz:\"))\n",
    "liste=[]\n",
    "\n",
    "for t in range(adet): # eğer döngü değişkeni gereksiz ise değişken _ yapılabilir.\n",
    "    tutulan = random.randint(50,100)\n",
    "    liste.append(tutulan)\n",
    "\n",
    "print(liste)\n",
    "\n",
    "toplam=0\n",
    "for nt in liste:\n",
    "    toplam+=nt\n",
    "\n",
    "print(toplam/adet)"
   ]
  },
  {
   "cell_type": "code",
   "execution_count": null,
   "metadata": {},
   "outputs": [],
   "source": [
    "r1 = range(5) # 0 1 2 3 4\n",
    "r2 = range(2,6) # 2 3 4 5 \n",
    "r3 = range(5,11,2) # 5 7 9 \n",
    "r4 = range(11,2,-4) # 11 7 3  \n",
    "print(r1)\n",
    "\n",
    "# for değişken in koleksiyon:\n",
    "#     işlemler\n",
    "for i in r2:\n",
    "    print(i)"
   ]
  },
  {
   "cell_type": "code",
   "execution_count": null,
   "metadata": {},
   "outputs": [],
   "source": [
    "# ilkel(değer) tipler ve referans tipleri\n",
    "\n",
    "# ilkel tipler int float complex boolean\n",
    "\n",
    "a=5\n",
    "b=a\n",
    "b=8\n",
    "\n",
    "print(a,b)\n",
    "\n",
    "l1 = [25,30,22]\n",
    "l2 = l1.copy()\n",
    "l3 = l1.copy()\n",
    "\n",
    "l2[2]=111\n",
    "l1.clear()\n",
    "print(l1,id(l1))\n",
    "print(l2,id(l2))\n",
    "print(l3,id(l3))"
   ]
  },
  {
   "cell_type": "code",
   "execution_count": null,
   "metadata": {},
   "outputs": [],
   "source": [
    "# append methodu: listenin sonuna eleman/item/öğe ekler\n",
    "l4 = [1,2,3,4,5]\n",
    "# l4 listesinin sonuna 6 elemanını ekleyelim\n",
    "l4.append(6)\n",
    "l4.append(3)\n",
    "print(\"l4 e 6 ve 3  eklendi\",l4)\n",
    "# count methodu: listede bir elemandan kaç tane olduğunun bilgisini verir.\n",
    "say1 = l4.count(77)\n",
    "say2 = l4.count(3)\n",
    "print(say1)\n",
    "print(say2)\n",
    "# insert methodu: istenilen bir indis yerine ekleme yapar diğer elemanlar bir sağa kayar\n",
    "l4.insert(2,77)\n",
    "print(l4)\n",
    "# index methodu: listede bir değeri arar. Değer listede yok ise hata verir. Var ise değerin listedeki ilk bulunduğu indis değerini verir.\n",
    "indis=l4.index(3)\n",
    "print(\"3 değerinin indisi\",indis)\n",
    "# remove methodu: listedeki bir değeri siler ve diğer elemanlar sola kayar\n",
    "l4.remove(5)\n",
    "print(l4)\n",
    "# pop methodu: listeden belirtilen indisteki değeri siler. eğer indis verilmez ise en son değeri siler. Sildiği değeri döndürür.\n",
    "d1=l4.pop() # listeden son değeri sil. silinen değeri d1 değişkenine aktar\n",
    "print(l4)\n",
    "print(d1)\n",
    "d2=l4.pop(2)# 2. indis değerini sil ve d2 ye o değeri aktar\n",
    "print(l4)\n",
    "print(d2)\n",
    "# reverse methodu: listeyi ters çevirir.\n",
    "l4.reverse()\n",
    "print(l4)\n",
    "# sort methodu: listeyi küçükten büyüğe sıralar\n",
    "l4.sort()\n",
    "print(l4)"
   ]
  },
  {
   "cell_type": "markdown",
   "metadata": {},
   "source": [
    "\n",
    "#### tuple(demet):\n",
    "* Birden çok öğeyi tek bir değişkende depolamak için kullanılır. Tuple, Python'da veri koleksiyonlarını depolamak için kullanılan 4 yerleşik veri türünden biridir, diğer 3'ü Liste, Küme ve Sözlük'tür ve hepsi farklı niteliklere ve kullanıma sahiptir. \n",
    "* Demet, sıralı ve değiştirilemez bir koleksiyondur. \n",
    "* Demetler yuvarlak parantezlerle yazılır.()\n",
    "* En sık kullanılan methodları \n",
    "    * count() Belirtilen değere sahip öğelerin sayısını döndürür    \n",
    "    * index() Belirtilen değere sahip ilk elemanın indeksini döndürür\n"
   ]
  },
  {
   "cell_type": "code",
   "execution_count": 8,
   "metadata": {},
   "outputs": [
    {
     "name": "stdout",
     "output_type": "stream",
     "text": [
      "(4, 2)\n",
      "((3, 5), (4, 2))\n",
      "2\n",
      "0\n",
      "2\n"
     ]
    }
   ],
   "source": [
    "# örnekler\n",
    "\n",
    "t1 = (255,0,75) \n",
    "\n",
    "# t1[1]=80 #yasak işlem\n",
    "#genelde değeri sabit koleksiyonlar oluşturmak için kullanılır.\n",
    "t2 = ((3,5),(4,2))\n",
    "\n",
    "t3 = (t2,t1)\n",
    "print(t2[1])\n",
    "print(t3[0])\n",
    "print(len(t3))\n",
    "\n",
    "print(t3.count(255))\n",
    "print(t1.index(75))#75 2. indis te"
   ]
  },
  {
   "cell_type": "markdown",
   "metadata": {},
   "source": [
    "#### Kümeler(set):\n",
    "* Kümeler, birden çok öğeyi tek bir değişkende depolamak için kullanılır. \n",
    "* Python'da veri koleksiyonlarını depolamak için kullanılan 4 yerleşik veri türünden biridir, diğer 3'ü List, Tuple ve Dictionary'dir ve hepsi farklı niteliklere ve kullanıma sahiptir.\n",
    "* A set is a collection which is unordered, unchangeable*, and unindexed.\n",
    "* Kümeler süslü parantezlerle yazılır.{}\n",
    "* En sık kullanılan methodları \n",
    "    * copy() Kümenin bir kopyasını döndürür\n",
    "    * difference() İki veya daha fazla küme arasındaki farkı içeren bir küme döndürür\n",
    "    * difference_update() Bu kümedeki, belirtilen başka bir kümede de bulunan öğeleri kaldırır.\n",
    "    * discard() Belirtilen öğeyi kaldır\n",
    "    * intersection() Diğer iki kümenin kesişimi olan bir küme döndürür\n",
    "    * intersection_update() Belirtilen diğer küme(ler)de bulunmayan öğeleri bu kümeden kaldırır.\n",
    "    * isdisjoint() İki kümenin kesişimi olup olmadığını döndürür\n",
    "    * issubset() Başka bir kümenin bu kümeyi içerip içermediğini döndürür.\n",
    "    * issuperset() Bu kümenin başka bir küme içerip içermediğini döndürür\n",
    "    * pop() Kümeden bir öğeyi kaldırır\n",
    "    * remove() Belirtilen öğeyi kaldırır\n",
    "    * symmetric_difference() İki kümenin simetrik farklarını içeren bir küme döndürür\n",
    "    * symmetric_difference_update() bu kümeden ve diğerinden simetrik farkları ekler\n",
    "    * union() Kümelerin birleşimini içeren bir küme döndürür\n",
    "    * update() Bu kümenin ve diğerlerinin birleşimiyle kümeyi güncelleyin"
   ]
  },
  {
   "cell_type": "code",
   "execution_count": 18,
   "metadata": {},
   "outputs": [
    {
     "name": "stdout",
     "output_type": "stream",
     "text": [
      "{0, 1, 3, 6, 7, 8, 9, -1}\n",
      "{'b', 'd', 'r', 'R', 'A', 'a', 'c'}\n",
      "birleşim: {0, 1, 3, 5, 6, 7, 72, 9, 8, 18, -1}\n",
      "kesişim: {9, 3, -1}\n",
      "4\n"
     ]
    }
   ],
   "source": [
    "# örnekler\n",
    "km1 =set() # boş küme\n",
    "km2 = {-1,3,6,8,7,0,9,9,3,6,9,1}\n",
    "isim=set(\"abrAcadabRa\") # case senstive\n",
    "print(km2)\n",
    "print(isim)\n",
    "km3 = {3,5,18,9,-1,72}\n",
    "# km2 U km3-birleşim\n",
    "birlesim= km3.union(km2)\n",
    "print(\"birleşim:\",birlesim)\n",
    "kesisim = km2.intersection(km3)\n",
    "print(\"kesişim:\",kesisim)\n",
    "\n",
    "km6={\"a\",\"ab\",3,\"serkan\"}\n",
    "print(len(km6))"
   ]
  },
  {
   "cell_type": "markdown",
   "metadata": {},
   "source": [
    "#### Sözlükler(Dictionary):\n",
    "* Sözlükler, veri değerlerini anahtar:değer çiftlerinde depolamak için kullanılır.\n",
    "* Sözlük, sıralı*, değişken ve tekrara izin vermeyen bir koleksiyondur.\n",
    "* Sözlükler süslü parantezlerle yazılır ve anahtarları ve değerleri vardır. {k:v}\n",
    "\n",
    "* En sık kullanılan methodları:\n",
    "    * clear() Sözlüğün tüm öğelerini kaldırır \n",
    "    * copy() Sözlüğün bir kopyasını döndürür \n",
    "    * fromkeys() Belirtilen anahtarları ve değeri içeren bir sözlüğü döndürür \n",
    "    * get() Belirtilen anahtar öğelerin değerini döndürür\n",
    "    * items() Bir demet içeren bir liste döndürür her bir anahtar değer çifti için keys() Sözlüğün anahtarlarını içeren bir liste döndürür \n",
    "    * pop() Belirtilen anahtara sahip öğeyi kaldırır \n",
    "    * popitem() Son eklenen anahtar-değer çiftini kaldırır \n",
    "    * setdefault() Belirtilen anahtarın değerini döndürür. Anahtar yoksa: belirtilen değere sahip anahtarı ekleyin \n",
    "    * update() Sözlüğü belirtilen anahtar-değer çiftleri ile günceller \n",
    "    * values() Sözlükteki tüm değerlerin bir listesini döndürür"
   ]
  },
  {
   "cell_type": "code",
   "execution_count": 28,
   "metadata": {},
   "outputs": [
    {
     "name": "stdout",
     "output_type": "stream",
     "text": [
      "190.5\n",
      "190.5\n",
      "{'serkan': 174.0, 'utku': 190.5, 'ahmet': 168.0, 'zeynep': 163.0, 'furkan': 155.0, 'doruk': 157.0}\n",
      "anahtarlar: dict_keys(['serkan', 'utku', 'ahmet', 'zeynep', 'furkan', 'doruk'])\n",
      "değerler: dict_values([174.0, 190.5, 168.0, 163.0, 155.0, 157.0])\n"
     ]
    }
   ],
   "source": [
    "#örnekler\n",
    "sz1 = dict() # boş sözlük\n",
    "# yeni eleman eklenebilir\n",
    "# eleman değiştirilebilir fakat indis yerine anahtar:değer ikililier vardır.\n",
    "boylar = {\"serkan\":174.0,\"utku\":170.0,\"ahmet\":168.0,\"zeynep\":163.0,\"furkan\":155.0,\"doruk\":157.0,\"utku\":100.0,\"utku\":190.5}\n",
    "\n",
    "print(boylar[\"utku\"])\n",
    "# boylar[\"utku\"]=175.0\n",
    "print(boylar[\"utku\"])\n",
    "print(boylar)\n",
    "\n",
    "# key= anahtar , value=değer---> k:v\n",
    "\n",
    "print(\"anahtarlar:\",boylar.keys())\n",
    "print(\"değerler:\",boylar.values())\n",
    "\n"
   ]
  },
  {
   "cell_type": "code",
   "execution_count": 36,
   "metadata": {},
   "outputs": [
    {
     "name": "stdout",
     "output_type": "stream",
     "text": [
      "['Kartal', 'kalkar', 'dal', 'sarkar', 'dal', 'sarkar', 'kartal', 'kalkar', 'bende', 'buraya', 'kartal', 'avlamaya', 'geldim', 'dal', 'sayısı', 'kartal', 'sayısına', 'eşit', 'değil']\n",
      "{'kartal': 4, 'kalkar': 2, 'dal': 3, 'sarkar': 2, 'bende': 1, 'buraya': 1, 'avlamaya': 1, 'geldim': 1, 'sayısı': 1, 'sayısına': 1, 'eşit': 1, 'değil': 1}\n"
     ]
    }
   ],
   "source": [
    "metin =\"Kartal kalkar dal sarkar dal sarkar kartal kalkar bende buraya kartal avlamaya geldim dal sayısı kartal sayısına eşit değil\"\n",
    "\n",
    "# bu metindeki kelimleri saydırın.\n",
    "\n",
    "kelime_sayisi=dict()\n",
    "\n",
    "kelimeler = metin.split(\" \")\n",
    "print(kelimeler)\n",
    "\n",
    "for kelime in kelimeler:\n",
    "    if kelime.lower() in kelime_sayisi.keys():\n",
    "        kelime_sayisi[kelime.lower()]+=1\n",
    "    else:\n",
    "        kelime_sayisi[kelime.lower()]=1\n",
    "\n",
    "print(kelime_sayisi)\n"
   ]
  }
 ],
 "metadata": {
  "kernelspec": {
   "display_name": "Python 3.9.2 64-bit",
   "language": "python",
   "name": "python3"
  },
  "language_info": {
   "codemirror_mode": {
    "name": "ipython",
    "version": 3
   },
   "file_extension": ".py",
   "mimetype": "text/x-python",
   "name": "python",
   "nbconvert_exporter": "python",
   "pygments_lexer": "ipython3",
   "version": "3.9.2"
  },
  "orig_nbformat": 4,
  "vscode": {
   "interpreter": {
    "hash": "916dbcbb3f70747c44a77c7bcd40155683ae19c65e1c03b4aa3499c5328201f1"
   }
  }
 },
 "nbformat": 4,
 "nbformat_minor": 2
}
