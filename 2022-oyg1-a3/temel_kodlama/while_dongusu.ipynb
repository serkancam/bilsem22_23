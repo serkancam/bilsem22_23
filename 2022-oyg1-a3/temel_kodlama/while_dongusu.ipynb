{
 "cells": [
  {
   "cell_type": "code",
   "execution_count": 2,
   "metadata": {},
   "outputs": [
    {
     "name": "stdout",
     "output_type": "stream",
     "text": [
      "2\n",
      "4\n",
      "6\n",
      "8\n"
     ]
    }
   ],
   "source": [
    "# while_dongusu.ipynb\n",
    "#i değişkenini  2 den 8 e kadar 2şer 2şer arttıran while döngüsünü yazalım\n",
    "i=2\n",
    "while i<=8: # 2 3 4 5 6 7 8 için True 9 ve sonrası için False\n",
    "    print(i)\n",
    "    i=i+2\n",
    "    \n"
   ]
  },
  {
   "cell_type": "code",
   "execution_count": 4,
   "metadata": {},
   "outputs": [
    {
     "name": "stdout",
     "output_type": "stream",
     "text": [
      "10\n",
      "7\n",
      "4\n",
      "1\n",
      "-2\n"
     ]
    }
   ],
   "source": [
    "k=10\n",
    "while k>=1:\n",
    "    print(k)\n",
    "    k=k-3\n",
    "\n",
    "print(k)\n"
   ]
  },
  {
   "cell_type": "code",
   "execution_count": 7,
   "metadata": {},
   "outputs": [
    {
     "name": "stdout",
     "output_type": "stream",
     "text": [
      "1\n",
      "2\n",
      "3\n",
      "4\n"
     ]
    }
   ],
   "source": [
    "# 1 den başlayarak kullanıcının pozitifi tam sayı değerine kadar 1er artan ve her adımdaki değeri ekrana yazan python kodunu yazınız.\n",
    "sayi = int(input(\"pozitif bir tam sayı giriniz:\"))\n",
    "z=1#döngü değişkeni\n",
    "while z<=sayi:\n",
    "    print(z)\n",
    "    z=z+1"
   ]
  },
  {
   "cell_type": "code",
   "execution_count": 8,
   "metadata": {},
   "outputs": [
    {
     "name": "stdout",
     "output_type": "stream",
     "text": [
      "1\n",
      "3\n",
      "5\n",
      "7\n",
      "9\n"
     ]
    }
   ],
   "source": [
    "# 2 den başlayarak kullanıcının girdiği pozitif tam sayıya kadar olan tek sayıları ekrana yazdıran python kodunu yazınız.\n",
    "# \n",
    "\n",
    "sayi = int(input(\"pozitif bir tamsayı giriniz:\"))\n",
    "s=2\n",
    "while s<=sayi:\n",
    "    if s%2==1:\n",
    "        print(s)\n",
    "    s=s+1\n"
   ]
  },
  {
   "cell_type": "code",
   "execution_count": 12,
   "metadata": {},
   "outputs": [
    {
     "name": "stdout",
     "output_type": "stream",
     "text": [
      "24\n"
     ]
    }
   ],
   "source": [
    "# 2 den başlayarak kullanıcının girdiği pozitif tam sayıya kadar olan tek sayıların toplamını ekrana yazdıran python kodunu yazınız.\n",
    "# \n",
    "\n",
    "sayi = int(input(\"pozitif bir tamsayı giriniz:\"))\n",
    "s=2\n",
    "toplam=0\n",
    "while s<=sayi:\n",
    "    if s%2==1:\n",
    "        toplam=toplam+s       \n",
    "    s=s+1\n",
    "    \n",
    "print(toplam)"
   ]
  },
  {
   "cell_type": "code",
   "execution_count": 20,
   "metadata": {},
   "outputs": [
    {
     "name": "stdout",
     "output_type": "stream",
     "text": [
      "54564123145454564545615456144556 sayısı 731 adımda 1'e geldi.\n"
     ]
    }
   ],
   "source": [
    "# kullanıcının girdiği sayıyı sürekli olarak çift ise 2 ye böl,tek ise 3 ile çarpıp 1 ekle. mutlaka 1 değerine ulaşılır(hipotez). Bu 1 e ulşma kaç adımda oluyor ise adım sayısını ekrana yazdıran python kodunu yazınız.\n",
    "\n",
    "coll = int(input(\"pozitif bir tam sayı giriniz:\"))\n",
    "coll_eski=coll\n",
    "adim=0\n",
    "\n",
    "while coll!=1:\n",
    "    if coll%2==0:\n",
    "        coll=coll//2\n",
    "    else:\n",
    "        coll=coll*3+1\n",
    "    adim=adim+1\n",
    "\n",
    "print(f\"{coll_eski} sayısı {adim} adımda 1'e geldi.\")\n"
   ]
  }
 ],
 "metadata": {
  "kernelspec": {
   "display_name": "Python 3.9.2 64-bit",
   "language": "python",
   "name": "python3"
  },
  "language_info": {
   "codemirror_mode": {
    "name": "ipython",
    "version": 3
   },
   "file_extension": ".py",
   "mimetype": "text/x-python",
   "name": "python",
   "nbconvert_exporter": "python",
   "pygments_lexer": "ipython3",
   "version": "3.9.2"
  },
  "orig_nbformat": 4,
  "vscode": {
   "interpreter": {
    "hash": "916dbcbb3f70747c44a77c7bcd40155683ae19c65e1c03b4aa3499c5328201f1"
   }
  }
 },
 "nbformat": 4,
 "nbformat_minor": 2
}
