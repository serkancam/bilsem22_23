{
 "cells": [
  {
   "cell_type": "code",
   "execution_count": 2,
   "metadata": {},
   "outputs": [
    {
     "name": "stdout",
     "output_type": "stream",
     "text": [
      "50.0\n"
     ]
    }
   ],
   "source": [
    "str1=\"merhaba\"\n",
    "ts1=30\n",
    "os1=20.0\n",
    "print(ts1+os1)"
   ]
  },
  {
   "cell_type": "code",
   "execution_count": 3,
   "metadata": {},
   "outputs": [
    {
     "name": "stdout",
     "output_type": "stream",
     "text": [
      "30\n"
     ]
    }
   ],
   "source": [
    "print(ts1)"
   ]
  },
  {
   "cell_type": "code",
   "execution_count": 4,
   "metadata": {},
   "outputs": [
    {
     "name": "stdout",
     "output_type": "stream",
     "text": [
      "9\n",
      "1.0\n",
      "1.0\n",
      "3\n",
      "3.0\n",
      "3.75\n",
      "3.75\n",
      "8\n"
     ]
    }
   ],
   "source": [
    "#artimetik operatörler\n",
    "# + - * / % ** //  \n",
    "print(3*3)\n",
    "print(3/3)\n",
    "print(3.0%2)\n",
    "print(15//4)\n",
    "print(15//4.0)\n",
    "print(15/4)\n",
    "print(15/4.0)\n",
    "print(2**3)"
   ]
  },
  {
   "cell_type": "code",
   "execution_count": 5,
   "metadata": {},
   "outputs": [],
   "source": [
    "yas=38\n",
    "marsa_uzaklık=5236715623712356172356172351673526455"
   ]
  },
  {
   "cell_type": "code",
   "execution_count": null,
   "metadata": {},
   "outputs": [],
   "source": [
    "#karşılaştırma operatörleri\n",
    "# a < b\n",
    "# a > b\n",
    "# a == b\n",
    "# a <= b\n",
    "# a >= b\n",
    "# a != b"
   ]
  },
  {
   "cell_type": "code",
   "execution_count": 6,
   "metadata": {},
   "outputs": [],
   "source": [
    "ali_yasi = 28\n",
    "veli_yasi = 38\n",
    "ayse_yasi = 28"
   ]
  },
  {
   "cell_type": "code",
   "execution_count": 8,
   "metadata": {},
   "outputs": [
    {
     "name": "stdout",
     "output_type": "stream",
     "text": [
      "False\n",
      "False\n"
     ]
    }
   ],
   "source": [
    "print(ali_yasi>veli_yasi)\n",
    "print(1>3>5)"
   ]
  },
  {
   "cell_type": "code",
   "execution_count": 2,
   "metadata": {},
   "outputs": [
    {
     "name": "stdout",
     "output_type": "stream",
     "text": [
      "False\n"
     ]
    }
   ],
   "source": [
    "x=int(input(\"sayı giriniz:\"))\n",
    "# x sayısı 10...20 arasında ise ekrana True değilse False yazsın(10 ve 20 dahil)\n",
    "sonuc = x<=20 and x>=10\n",
    "\n",
    "print(sonuc)"
   ]
  },
  {
   "cell_type": "code",
   "execution_count": 4,
   "metadata": {},
   "outputs": [
    {
     "name": "stdout",
     "output_type": "stream",
     "text": [
      "False\n"
     ]
    }
   ],
   "source": [
    "# lisede dersten geçmek için:\n",
    "# iki sınav ortalaması 50 veya üstü\n",
    "# veya ikinci sınav 70 veya üstü olacak \n",
    "# buna göre girilen 2 ders notunu alarak geçme durumunda True,\n",
    "# kalma durumunda False çıktısını üreten kodu yazınız.  \n",
    "not1=int(input(\"1. notu giriniz:\"))\n",
    "not2=int(input(\"2. notu giriniz:\"))\n",
    "ortalama=(not1+not2)/2\n",
    "durum = ortalama>=50 or not2>=70\n",
    "print(durum)\n",
    "# print((not1+not2)/2>=50 or not2>=70)"
   ]
  },
  {
   "cell_type": "code",
   "execution_count": 18,
   "metadata": {},
   "outputs": [
    {
     "ename": "ZeroDivisionError",
     "evalue": "division by zero",
     "output_type": "error",
     "traceback": [
      "\u001b[0;31m---------------------------------------------------------------------------\u001b[0m",
      "\u001b[0;31mZeroDivisionError\u001b[0m                         Traceback (most recent call last)",
      "\u001b[0;32m/tmp/ipykernel_2540/2659368881.py\u001b[0m in \u001b[0;36m<module>\u001b[0;34m\u001b[0m\n\u001b[1;32m      2\u001b[0m \u001b[0mb\u001b[0m\u001b[0;34m=\u001b[0m\u001b[0;36m10\u001b[0m\u001b[0;34m\u001b[0m\u001b[0;34m\u001b[0m\u001b[0m\n\u001b[1;32m      3\u001b[0m \u001b[0;34m\u001b[0m\u001b[0m\n\u001b[0;32m----> 4\u001b[0;31m \u001b[0mc\u001b[0m\u001b[0;34m=\u001b[0m\u001b[0;34m(\u001b[0m\u001b[0ma\u001b[0m\u001b[0;34m+\u001b[0m\u001b[0mb\u001b[0m\u001b[0;34m)\u001b[0m\u001b[0;34m/\u001b[0m\u001b[0;34m(\u001b[0m\u001b[0;36m1\u001b[0m\u001b[0;34m-\u001b[0m\u001b[0ma\u001b[0m\u001b[0;34m)\u001b[0m\u001b[0;34m\u001b[0m\u001b[0;34m\u001b[0m\u001b[0m\n\u001b[0m",
      "\u001b[0;31mZeroDivisionError\u001b[0m: division by zero"
     ]
    }
   ],
   "source": [
    "a=1\n",
    "b=10\n",
    "\n",
    "c=(a+b)/(1-a)\n"
   ]
  },
  {
   "cell_type": "code",
   "execution_count": null,
   "metadata": {},
   "outputs": [],
   "source": [
    "#if n*elif else\n",
    "#if\n",
    "#if else\n",
    "# işe alım kuralları\n",
    "# ad-soyad\n",
    "# yaş\n",
    "# cinsiyet\n",
    "# işe alım için erkeklerin yaşı 20-40 arasında, kadınların yaşı 22-42 arasında olmalıdır.\n",
    "ad_soyad=input(\"ad soyad giriniz:\")\n",
    "cinsiyet=input(\"cinsiyetinizi kadın için 'k' erkeke için 'e' giriniz:\")\n",
    "yas=int(input(\"yaşınızı giriniz:\"))\n",
    "\n",
    "\n",
    "ise_alim=(cinsiyet==\"k\" and yas>=22 and yas<=42) or (cinsiyet==\"e\" and yas>=20 and yas<=40)\n",
    "if ise_alim:\n",
    "    print(\"işe alındınız.\")\n",
    "else:\n",
    "    print(\"biz ararız...\")\n",
    "######################################\n",
    "print(30*\"*\")\n",
    "if cinsiyet==\"k\":\n",
    "    if yas>=22 and yas<=42:\n",
    "        print(\"işe alındınız.\")\n",
    "    else:\n",
    "        print(\"biz sizi ararız...\")\n",
    "elif cinsiyet==\"e\":\n",
    "    if yas>=20 and yas<=40:\n",
    "        print(\"işe alındınız.\")\n",
    "    else:\n",
    "        print(\"biz sizi ararız...\")\n",
    "\n"
   ]
  },
  {
   "cell_type": "code",
   "execution_count": null,
   "metadata": {},
   "outputs": [],
   "source": [
    "# bir üniversitede dersten geçmek için ortalama şu şekilde hesaplanmaktadır.\n",
    "# vize sınavının %30 final sınavının %70 i alınıp ortlama bulunur.\n",
    "# buna göre\n",
    "# 0-35 arası notlar--> FF\n",
    "# 36-50 arası notlar --> DD\n",
    "# 51-70 arası notlar --> CC\n",
    "# 71-85 arası notlar --> BB\n",
    "# 86-100 rası notlar --> AA\n",
    "#olacaktır.\n",
    "vize=int(input(\"vize notunuzu giriniz:\"))\n",
    "final=int(input(\"final notunuzu giriniz:\"))\n",
    "ort=vize*0.3+final*0.7\n",
    "print(f\"ortalama={ort}\")\n",
    "if ort>=0 and ort<35:\n",
    "    print(\"ff\")\n",
    "elif ort>=35 and ort<50 :\n",
    "    print(\"dd\")\n",
    "elif ort>=50 and ort<70 :\n",
    "    print(\"cc\")\n",
    "elif ort>=70 and ort<85 :\n",
    "    print(\"bb\")\n",
    "elif ort>=85 and ort<=100:\n",
    "    print(\"aa\")"
   ]
  },
  {
   "cell_type": "code",
   "execution_count": 19,
   "metadata": {},
   "outputs": [
    {
     "name": "stdout",
     "output_type": "stream",
     "text": [
      "parker kutupları 4.0 dakika 26.14639999999997 saniyede dolaşır.\n"
     ]
    }
   ],
   "source": [
    "# Dünya’nın şeklinin geoid olduğu, bu nedenle kutuplarda ve Ekvator’da farklı çevre uzunluğu he-\n",
    "# saplama yapılması gerekliliği belirtilir. Bunun için Ekvator yarıçap uzunluğu ve kutup yarıçap\n",
    "# uzunluğu öğrenciye verilir. (Kutup yarıçapı: 6357 km, Ekvator yarıçapı: 6378 km)\n",
    "# • Çemberin çevre uzunluğu hesaplama formülü (2πr) ile kutup çevre uzunluğu ve Ekvator çevre\n",
    "# uzunluğu ayrı ayrı hesaplanır ve ilgili değişkenlere atanır.(π= 3,14 alınır. Burada öğrencilerin ha-\n",
    "# zırbulunuşları dikkate alınarak matematik kütüphanesinden de π değeri çekilebilir.)\n",
    "PI=3.14\n",
    "kr=6357\n",
    "er=6378\n",
    "parker_hizi=150\n",
    "\n",
    "kc=2*PI*kr\n",
    "sure_sn=kc/parker_hizi\n",
    "dakika=sure_sn//60\n",
    "saniye=sure_sn%60\n",
    "print(f\"parker kutupları {dakika} dakika {saniye} saniyede dolaşır.\")"
   ]
  }
 ],
 "metadata": {
  "kernelspec": {
   "display_name": "Python 3.9.2 64-bit",
   "language": "python",
   "name": "python3"
  },
  "language_info": {
   "codemirror_mode": {
    "name": "ipython",
    "version": 3
   },
   "file_extension": ".py",
   "mimetype": "text/x-python",
   "name": "python",
   "nbconvert_exporter": "python",
   "pygments_lexer": "ipython3",
   "version": "3.9.2"
  },
  "orig_nbformat": 4,
  "vscode": {
   "interpreter": {
    "hash": "916dbcbb3f70747c44a77c7bcd40155683ae19c65e1c03b4aa3499c5328201f1"
   }
  }
 },
 "nbformat": 4,
 "nbformat_minor": 2
}
