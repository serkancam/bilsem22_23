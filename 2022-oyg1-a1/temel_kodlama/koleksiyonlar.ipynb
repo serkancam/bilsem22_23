{
 "cells": [
  {
   "cell_type": "code",
   "execution_count": null,
   "metadata": {},
   "outputs": [],
   "source": [
    "# koleksiyonlar\n",
    "# list,tuple,set,dict,range...."
   ]
  },
  {
   "cell_type": "code",
   "execution_count": 11,
   "metadata": {},
   "outputs": [
    {
     "name": "stdout",
     "output_type": "stream",
     "text": [
      "7\n",
      "ada\n",
      "['aydeniz', 'muhammed zahid', 'ada', 'elif naz', 'eflin', 'metehan', 'serk']\n",
      "['aydeniz', 'muhammed zahid', 'ada', 'elif naz', 'eflin', 'metehan', 'serkan']\n",
      "['aydeniz', 'muhammed zahid', 'ada', 'elif naz', 'eflin', 'metehan', 'serkan', 'can akın,']\n"
     ]
    }
   ],
   "source": [
    "# liste tanımlama []\n",
    "ogr=[\"aydeniz\",\"muhammed zahid\",\"ada\",\"elif naz\",\"eflin\",\"metehan\",\"serk\"]\n",
    "print(len(ogr))\n",
    "\n",
    "print(ogr[2])\n",
    "print(ogr)\n",
    "ogr[6]=\"serkan\"\n",
    "print(ogr)\n",
    "\n",
    "isim = input(\"isim gir:\")\n",
    "\n",
    "ogr.append(isim)\n",
    "print(ogr)\n",
    "\n"
   ]
  },
  {
   "cell_type": "code",
   "execution_count": 35,
   "metadata": {},
   "outputs": [
    {
     "name": "stdout",
     "output_type": "stream",
     "text": [
      "[88, 50, 67, 68, 80, 60, 82, 99, 60, 69]\n",
      "72.3\n"
     ]
    }
   ],
   "source": [
    "# kullanıcının girdiği sayıda bir öğrenci listesi oluştur. Her elemanaı 50-100 arası rastgele notlar ver. Sonra ortalamayı bul.\n",
    "\n",
    "import random\n",
    "\n",
    "# sayi = random.randint(50,100)\n",
    "# print(sayi)\n",
    "\n",
    "# kullanıcıdan öğrenci sayısı al\n",
    "# boş liste tanımla\n",
    "# kullanıcının girdiği değer kadar dönen bir for döngüsü başlat\n",
    "# döngünün her adımında rastegele bir sayı tut ve her tuttulan sayıyı listeye ekle.\n",
    "adet=int(input(\"öğrenci sayısını giriniz:\"))\n",
    "liste=[]\n",
    "\n",
    "for t in range(adet): # eğer döngü değişkeni gereksiz ise değişken _ yapılabilir.\n",
    "    tutulan = random.randint(50,100)\n",
    "    liste.append(tutulan)\n",
    "\n",
    "print(liste)\n",
    "\n",
    "toplam=0\n",
    "for nt in liste:\n",
    "    toplam+=nt\n",
    "\n",
    "print(toplam/adet)"
   ]
  },
  {
   "cell_type": "code",
   "execution_count": 4,
   "metadata": {},
   "outputs": [
    {
     "name": "stdout",
     "output_type": "stream",
     "text": [
      "range(0, 5)\n",
      "2\n",
      "3\n",
      "4\n",
      "5\n"
     ]
    }
   ],
   "source": [
    "r1 = range(5) # 0 1 2 3 4\n",
    "r2 = range(2,6) # 2 3 4 5 \n",
    "r3 = range(5,11,2) # 5 7 9 \n",
    "r4 = range(11,2,-4) # 11 7 3  \n",
    "print(r1)\n",
    "\n",
    "# for değişken in koleksiyon:\n",
    "#     işlemler\n",
    "for i in r2:\n",
    "    print(i)"
   ]
  },
  {
   "cell_type": "code",
   "execution_count": 14,
   "metadata": {},
   "outputs": [
    {
     "name": "stdout",
     "output_type": "stream",
     "text": [
      "5 8\n",
      "[] 140392363917568\n",
      "[25, 30, 111] 140392364041216\n",
      "[25, 30, 22] 140392363907328\n"
     ]
    }
   ],
   "source": [
    "# ilkel(değer) tipler ve referans tipleri\n",
    "\n",
    "# ilkel tipler int float complex boolean\n",
    "\n",
    "a=5\n",
    "b=a\n",
    "b=8\n",
    "\n",
    "print(a,b)\n",
    "\n",
    "l1 = [25,30,22]\n",
    "l2 = l1.copy()\n",
    "l3 = l1.copy()\n",
    "\n",
    "l2[2]=111\n",
    "l1.clear()\n",
    "print(l1,id(l1))\n",
    "print(l2,id(l2))\n",
    "print(l3,id(l3))"
   ]
  },
  {
   "cell_type": "code",
   "execution_count": 29,
   "metadata": {},
   "outputs": [
    {
     "name": "stdout",
     "output_type": "stream",
     "text": [
      "l4 e 6 ve 3  eklendi [1, 2, 3, 4, 5, 6, 3]\n",
      "0\n",
      "2\n",
      "[1, 2, 77, 3, 4, 5, 6, 3]\n",
      "3 değerinin indisi 3\n",
      "[1, 2, 77, 3, 4, 6, 3]\n",
      "[1, 2, 77, 3, 4, 6]\n",
      "3\n",
      "[1, 2, 3, 4, 6]\n",
      "77\n",
      "[6, 4, 3, 2, 1]\n",
      "[1, 2, 3, 4, 6]\n"
     ]
    }
   ],
   "source": [
    "# append methodu: listenin sonuna eleman/item/öğe ekler\n",
    "l4 = [1,2,3,4,5]\n",
    "# l4 listesinin sonuna 6 elemanını ekleyelim\n",
    "l4.append(6)\n",
    "l4.append(3)\n",
    "print(\"l4 e 6 ve 3  eklendi\",l4)\n",
    "# count methodu: listede bir elemandan kaç tane olduğunun bilgisini verir.\n",
    "say1 = l4.count(77)\n",
    "say2 = l4.count(3)\n",
    "print(say1)\n",
    "print(say2)\n",
    "# insert methodu: istenilen bir indis yerine ekleme yapar diğer elemanlar bir sağa kayar\n",
    "l4.insert(2,77)\n",
    "print(l4)\n",
    "# index methodu: listede bir değeri arar. Değer listede yok ise hata verir. Var ise değerin listedeki ilk bulunduğu indis değerini verir.\n",
    "indis=l4.index(3)\n",
    "print(\"3 değerinin indisi\",indis)\n",
    "# remove methodu: listedeki bir değeri siler ve diğer elemanlar sola kayar\n",
    "l4.remove(5)\n",
    "print(l4)\n",
    "# pop methodu: listeden belirtilen indisteki değeri siler. eğer indis verilmez ise en son değeri siler. Sildiği değeri döndürür.\n",
    "d1=l4.pop() # listeden son değeri sil. silinen değeri d1 değişkenine aktar\n",
    "print(l4)\n",
    "print(d1)\n",
    "d2=l4.pop(2)# 2. indis değerini sil ve d2 ye o değeri aktar\n",
    "print(l4)\n",
    "print(d2)\n",
    "# reverse methodu: listeyi ters çevirir.\n",
    "l4.reverse()\n",
    "print(l4)\n",
    "# sort methodu: listeyi küçükten büyüğe sıralar\n",
    "l4.sort()\n",
    "print(l4)\n",
    "\n"
   ]
  }
 ],
 "metadata": {
  "kernelspec": {
   "display_name": "Python 3.9.2 64-bit",
   "language": "python",
   "name": "python3"
  },
  "language_info": {
   "codemirror_mode": {
    "name": "ipython",
    "version": 3
   },
   "file_extension": ".py",
   "mimetype": "text/x-python",
   "name": "python",
   "nbconvert_exporter": "python",
   "pygments_lexer": "ipython3",
   "version": "3.9.2"
  },
  "orig_nbformat": 4,
  "vscode": {
   "interpreter": {
    "hash": "916dbcbb3f70747c44a77c7bcd40155683ae19c65e1c03b4aa3499c5328201f1"
   }
  }
 },
 "nbformat": 4,
 "nbformat_minor": 2
}
