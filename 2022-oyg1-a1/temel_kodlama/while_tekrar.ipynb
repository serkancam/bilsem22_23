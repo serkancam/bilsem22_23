{
 "cells": [
  {
   "cell_type": "code",
   "execution_count": null,
   "metadata": {},
   "outputs": [],
   "source": [
    "# whilde döngüsü şartlı döngü oalrak bilinir.\n",
    "# döngüde bir döngü değişkeni bulunur.\n",
    "# bu döngü değişkeni için yazılan bir şart doğru olduğu sürece döngü içindeki işlemler tekrar eder.\n",
    "# Doğal olarak bu döngü değişkeninin bir başlangıç değeri, şart ile belirlenmiş bir bitiş durumu ve değişkenin değişimi adımları döngümüzün yapısını oluşturur.\n",
    "\n",
    "# örneğin bir değişkenimiz a olsun ve a değeri 1 den başlasın birer artarak 10 değerine ulaşsın ve 10 değerinde döngümüz dursun\n",
    "\n",
    "a=1 # başlangıç\n",
    "\n",
    "while a <= 10: #şart/başlangıç-bitiş şartı\n",
    "    print(a)\n",
    "    a+=1\n"
   ]
  },
  {
   "cell_type": "code",
   "execution_count": 10,
   "metadata": {},
   "outputs": [
    {
     "name": "stdout",
     "output_type": "stream",
     "text": [
      "3819133864048755\n"
     ]
    }
   ],
   "source": [
    "# 1 den kullacının girdiği sayıya kadar olan 7 e kalansız bölünebilşen sayıların toplamını bulan python kodunu yazınız. \n",
    "\n",
    "sayi = int(input(\"sayı giriniz:\"))\n",
    "d=1\n",
    "toplam=0\n",
    "while d<=sayi:\n",
    "    # print(\"merhaba\")\n",
    "    # print(f\"{d} 7 ye bölünür {d%7==0}\")\n",
    "    if d%7==0:\n",
    "        toplam+=d # toplam=toplam+d\n",
    "    d+=1 #d=d+1\n",
    "\n",
    "print(toplam)\n",
    "\n"
   ]
  },
  {
   "cell_type": "code",
   "execution_count": 19,
   "metadata": {},
   "outputs": [
    {
     "name": "stdout",
     "output_type": "stream",
     "text": [
      "s r k q n "
     ]
    }
   ],
   "source": [
    "# girilen metindeki sesli harfleri ekrana yazdıran python kodunu yazınız.\n",
    "#giriş: serkan -->  e a\n",
    "# muhammed zahid bilik --> u a e a i i i\n",
    "metin = input(\"metin giriniz:\")\n",
    "uzunluk = len(metin)\n",
    "# print(uzunluk)\n",
    "sira=0\n",
    "while sira<uzunluk:\n",
    "    # print(metin[sira])\n",
    "    harf = metin[sira]\n",
    "    if harf not in \"aeoüiöuı\":# soldaki harf değeri sağdaki elemanların içinde var mı?\n",
    "        print(harf,end=\" \")\n",
    "    sira+=1"
   ]
  }
 ],
 "metadata": {
  "kernelspec": {
   "display_name": "Python 3.9.2 64-bit",
   "language": "python",
   "name": "python3"
  },
  "language_info": {
   "codemirror_mode": {
    "name": "ipython",
    "version": 3
   },
   "file_extension": ".py",
   "mimetype": "text/x-python",
   "name": "python",
   "nbconvert_exporter": "python",
   "pygments_lexer": "ipython3",
   "version": "3.9.2"
  },
  "orig_nbformat": 4,
  "vscode": {
   "interpreter": {
    "hash": "916dbcbb3f70747c44a77c7bcd40155683ae19c65e1c03b4aa3499c5328201f1"
   }
  }
 },
 "nbformat": 4,
 "nbformat_minor": 2
}
