{
 "cells": [
  {
   "cell_type": "code",
   "execution_count": 2,
   "metadata": {},
   "outputs": [
    {
     "name": "stdout",
     "output_type": "stream",
     "text": [
      "e\n",
      "e\n",
      "a\n"
     ]
    }
   ],
   "source": [
    "# for_dongusu.ipynb\n",
    "isim=\"metehan\"\n",
    "for harf in isim:\n",
    "    if harf in \"aeoüiöuı\":\n",
    "        print(harf)\n",
    "\n",
    "# for döngüsü koleksiyonlar içindeki her elemanı tek tek dolaşan ve döngü değişkenine sıra ile aktaran bir döngü türüdür.\n",
    "# koleksiyonlar\n",
    "# string karakterlerden oluşan koleksiyon\n",
    "# list--listeler\n",
    "# tuple -- demet\n",
    "# set -- küme\n",
    "# dictionary-- sözlükler\n",
    "#range\n",
    "# ve diğerleri"
   ]
  },
  {
   "cell_type": "code",
   "execution_count": 3,
   "metadata": {},
   "outputs": [
    {
     "name": "stdout",
     "output_type": "stream",
     "text": [
      "0\n",
      "1\n",
      "2\n",
      "3\n",
      "4\n"
     ]
    }
   ],
   "source": [
    "# range(sayi)  -- > 0 den başlayarak sayiya kadar birer artarak tüm sayıları oluşturur. sayi değeri hariç  \n",
    "for i in range(5):\n",
    "    print(i)"
   ]
  },
  {
   "cell_type": "code",
   "execution_count": 6,
   "metadata": {},
   "outputs": [
    {
     "name": "stdout",
     "output_type": "stream",
     "text": [
      "2\n",
      "3\n",
      "4\n",
      "5\n",
      "6\n",
      "7\n"
     ]
    }
   ],
   "source": [
    "# range(ilk,son) --> ilk değerinden başlayarak son değerine kadar 1 er artarak tüm sayıları oluşturu. son değeri hariç.\n",
    "for t in range(2,8):# 2,3,4,5,6,7\n",
    "    print(t)"
   ]
  },
  {
   "cell_type": "code",
   "execution_count": 10,
   "metadata": {},
   "outputs": [
    {
     "name": "stdout",
     "output_type": "stream",
     "text": [
      "2\n",
      "10\n",
      "18\n",
      "******************************\n",
      "27\n",
      "20\n",
      "13\n",
      "6\n"
     ]
    }
   ],
   "source": [
    "# range (ilk,son,değişim) --> ilk değerinden son değerine kadar değişim değeri miktarınca değişiklik yaparak sayıları oluşturur.\n",
    "\n",
    "for a in range(2,25,8): #2,10,18\n",
    "    print(a)\n",
    "\n",
    "print(30*\"*\")\n",
    "# 27,20,13,6\n",
    "for e in range(27,5,-7):\n",
    "    print(e)"
   ]
  }
 ],
 "metadata": {
  "kernelspec": {
   "display_name": "Python 3.9.2 64-bit",
   "language": "python",
   "name": "python3"
  },
  "language_info": {
   "codemirror_mode": {
    "name": "ipython",
    "version": 3
   },
   "file_extension": ".py",
   "mimetype": "text/x-python",
   "name": "python",
   "nbconvert_exporter": "python",
   "pygments_lexer": "ipython3",
   "version": "3.9.2"
  },
  "orig_nbformat": 4,
  "vscode": {
   "interpreter": {
    "hash": "916dbcbb3f70747c44a77c7bcd40155683ae19c65e1c03b4aa3499c5328201f1"
   }
  }
 },
 "nbformat": 4,
 "nbformat_minor": 2
}
