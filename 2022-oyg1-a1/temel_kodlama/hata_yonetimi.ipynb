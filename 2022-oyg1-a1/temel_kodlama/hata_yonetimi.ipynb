{
 "cells": [
  {
   "cell_type": "code",
   "execution_count": null,
   "metadata": {},
   "outputs": [],
   "source": [
    "# hata yakalama ve yönetme (exception handling)\n",
    "try:\n",
    "    pass\n",
    "except Exception as ex:\n",
    "    pass\n",
    "else:\n",
    "    pass\n",
    "finally:\n",
    "    pass\n",
    "\n",
    "\n",
    "# hata birkaç şekilde oluşabilir.\n",
    "# 1- Kullanıcı hatalı bir giriş yapabilir.\n",
    "# 2- Çalışan kodun özel bir durumu oluşabilir.\n",
    "# 3- Sistem o anda isteklere cevap vermeyebilir."
   ]
  },
  {
   "cell_type": "code",
   "execution_count": 9,
   "metadata": {},
   "outputs": [
    {
     "ename": "ValueError",
     "evalue": "invalid literal for int() with base 10: 'a'",
     "output_type": "error",
     "traceback": [
      "\u001b[0;31m---------------------------------------------------------------------------\u001b[0m",
      "\u001b[0;31mValueError\u001b[0m                                Traceback (most recent call last)",
      "\u001b[0;32m/tmp/ipykernel_2735/3180305256.py\u001b[0m in \u001b[0;36m<module>\u001b[0;34m\u001b[0m\n\u001b[1;32m      1\u001b[0m \u001b[0;31m# kullanıcı hatalı giriş\u001b[0m\u001b[0;34m\u001b[0m\u001b[0;34m\u001b[0m\u001b[0;34m\u001b[0m\u001b[0m\n\u001b[0;32m----> 2\u001b[0;31m \u001b[0msayi\u001b[0m \u001b[0;34m=\u001b[0m \u001b[0mint\u001b[0m\u001b[0;34m(\u001b[0m\u001b[0minput\u001b[0m\u001b[0;34m(\u001b[0m\u001b[0;34m\"sayı giriniz:\"\u001b[0m\u001b[0;34m)\u001b[0m\u001b[0;34m)\u001b[0m\u001b[0;34m\u001b[0m\u001b[0;34m\u001b[0m\u001b[0m\n\u001b[0m\u001b[1;32m      3\u001b[0m \u001b[0;34m\u001b[0m\u001b[0m\n\u001b[1;32m      4\u001b[0m \u001b[0mprint\u001b[0m\u001b[0;34m(\u001b[0m\u001b[0msayi\u001b[0m\u001b[0;34m**\u001b[0m\u001b[0;36m2\u001b[0m\u001b[0;34m)\u001b[0m\u001b[0;34m\u001b[0m\u001b[0;34m\u001b[0m\u001b[0m\n",
      "\u001b[0;31mValueError\u001b[0m: invalid literal for int() with base 10: 'a'"
     ]
    }
   ],
   "source": [
    "# kullanıcı hatalı giriş\n",
    "sayi = int(input(\"sayı giriniz:\"))\n",
    "\n",
    "print(sayi**2)"
   ]
  },
  {
   "cell_type": "code",
   "execution_count": 13,
   "metadata": {},
   "outputs": [
    {
     "name": "stdout",
     "output_type": "stream",
     "text": [
      "sayı giriniz:\n",
      "hata:\n"
     ]
    }
   ],
   "source": [
    "#1. aşama try hatalı kodları işledik\n",
    "try:# hata olması muhtemel kodlar\n",
    "    sayi=int(input(\"sayı giriniz:\"))\n",
    "    print(sayi**2)\n",
    "except ValueError:# burası hatanın yakalandığı yer\n",
    "    print(\"sayı giriniz:\")# hata olduğunda yapıalcaklar\n",
    "    print(\"hata:\")\n"
   ]
  },
  {
   "cell_type": "code",
   "execution_count": 15,
   "metadata": {},
   "outputs": [
    {
     "name": "stdout",
     "output_type": "stream",
     "text": [
      "9\n"
     ]
    }
   ],
   "source": [
    "# hata varsa except yoksa else çalışır.\n",
    "try:\n",
    "    sayi=int(input(\"sayı giriniz:\"))\n",
    "except Exception:\n",
    "    print(\"hata\")\n",
    "else:\n",
    "    print(sayi**2)"
   ]
  },
  {
   "cell_type": "code",
   "execution_count": 17,
   "metadata": {},
   "outputs": [
    {
     "name": "stdout",
     "output_type": "stream",
     "text": [
      "9\n",
      "ben her durumda çalışırım.\n"
     ]
    }
   ],
   "source": [
    "# hata varsa except yoksa else kısmı çalışır. Her durumda çalışacak kodlar finally bloğuna yazılır\n",
    "\n",
    "try:\n",
    "    sayi=int(input(\"sayı gir:\"))\n",
    "except Exception:\n",
    "    print(\"hata\")\n",
    "else:\n",
    "    print(sayi**2)\n",
    "finally:\n",
    "    print(\"ben her durumda çalışırım.\")"
   ]
  },
  {
   "cell_type": "code",
   "execution_count": 29,
   "metadata": {},
   "outputs": [
    {
     "name": "stdout",
     "output_type": "stream",
     "text": [
      "0.25\n",
      "3\n"
     ]
    }
   ],
   "source": [
    "# kullanıcıdan alınan bir sayı 1/(7-sayi) denklemine uygulanıp oluşan sonuç ekrana yazılsın.\n",
    "# burada iki hata oluşabilir kullanıcının sayı dışında bir karakter girmesi veya sayi değişkeninini 7 girerek sıfıra bölme hatası oluşturması.\n",
    "try: \n",
    "    sayi = int(input(\"sayı girinz:\"))\n",
    "    sonuc = 1/(7-sayi)\n",
    "except ZeroDivisionError:\n",
    "    print(\"sıfıra bölme hatası.\")\n",
    "except ValueError:\n",
    "    print(\"değer hatası.\")\n",
    "else:\n",
    "    print(sonuc)\n",
    "\n"
   ]
  },
  {
   "cell_type": "code",
   "execution_count": null,
   "metadata": {},
   "outputs": [],
   "source": []
  }
 ],
 "metadata": {
  "kernelspec": {
   "display_name": "Python 3",
   "language": "python",
   "name": "python3"
  },
  "language_info": {
   "codemirror_mode": {
    "name": "ipython",
    "version": 3
   },
   "file_extension": ".py",
   "mimetype": "text/x-python",
   "name": "python",
   "nbconvert_exporter": "python",
   "pygments_lexer": "ipython3",
   "version": "3.9.2"
  },
  "orig_nbformat": 4,
  "vscode": {
   "interpreter": {
    "hash": "916dbcbb3f70747c44a77c7bcd40155683ae19c65e1c03b4aa3499c5328201f1"
   }
  }
 },
 "nbformat": 4,
 "nbformat_minor": 2
}
