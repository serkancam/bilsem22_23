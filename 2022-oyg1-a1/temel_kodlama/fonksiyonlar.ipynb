{
 "cells": [
  {
   "attachments": {},
   "cell_type": "markdown",
   "metadata": {},
   "source": [
    "### Fonskiyonlar\n",
    "\n",
    "* fonksiyon, yalnızca çağrıldığında çalışan bir kod bloğudur.\n",
    "* Parametre olarak bilinen verileri bir fonksiyona iletebilirsiniz.\n",
    "* Bir fonksiyon sonuç olarak veri döndürebilir.\n",
    "* Python'da bir fonksiyon, *def* anahtar kelimesi kullanılarak tanımlanır:\n",
    "#### Temel kavramlar\n",
    "\n",
    "#### fonksiyon çağırma:\n",
    "Bir fonksiyonu çağırmak için, fonksiyon() adını ve ardından parantez kullanın:\n",
    " ``` python\n",
    "def fonksiyonum():\n",
    "    print(\"merhaba ben bir fonksiyondanım.\")\n",
    " \n",
    "fonksiyonum()\n",
    "```\n",
    "\n",
    "#### parametre veya argüman(Parameters or Arguments)):\n",
    "Bilgi, fonskiyonlara bağımsız değişken olarak iletilebilir. Bağımsız değişkenler, fonskiyon adından sonra parantez içinde belirtilir. İstediğiniz kadar parametre ekleyebilirsiniz, sadece virgülle ayırın. Aşağıdaki örnek, tek bağımsız değişkenli (fname) bir fonskiyona sahiptir. fonskiyon çağrıldığında, fonskiyonun içinde tam adı yazdırmak için kullanılan bir ad iletiriz.\n",
    "``` python\n",
    "def fonksiyonum(fname):\n",
    "  print(fname + \" Refsnes\")\n",
    "\n",
    "fonksiyonum(\"Emil\")\n",
    "fonksiyonum(\"Tobias\")\n",
    "fonksiyonum(\"Linus\")\n",
    "```\n",
    "#### Argüman/parametre Sayısı:\n",
    "Varsayılan olarak, bir fonskiyon doğru sayıda bağımsız değişkenle çağrılmalıdır. Yani, fonskiyonunuz 2 parametre bekliyorsa, fonskiyonu 2 parametre ile çağırmalısınız, daha fazla veya daha az değil.\n",
    "\n",
    "#### Keyfi parametreler, *args(Arbitrary Arguments, *args):\n",
    "fonskiyonunuza kaç bağımsız değişkenin iletileceğini bilmiyorsanız, fonskiyon tanımında parametre adının önüne bir * ekleyin. Bu şekilde, fonskiyon bir dizi bağımsız değişken alır ve öğelere buna göre erişebilir:\n",
    "``` python\n",
    "def fonksiyonum(*cocuklar):\n",
    "  print(\"cocuklar \" + cocuklar[2])\n",
    "\n",
    "fonksiyonum(\"Emine\", \"Hasan\", \"Linus\")\n",
    "```\n",
    "#### Anahtar Kelime Argümanları(Keyword Arguments):\n",
    "Anahtar = değer söz dizimiyle de bağımsız değişkenler gönderebilirsiniz. Bu şekilde parametrelerin sırası önemli değildir.\n",
    "\n",
    "``` python\n",
    "def my_function(**kid):\n",
    "  print(\"His last name is \" + kid[\"lname\"])\n",
    "\n",
    "my_function(fname = \"Tobias\", lname = \"Refsnes\")\n",
    "```\n",
    "#### Anahtar Kelime Argümanları(Keyword Arguments):\n",
    "Anahtar = değer söz dizimiyle de bağımsız değişkenler gönderebilirsiniz. Bu şekilde parametrelerin sırası önemli değildir.\n",
    "\n",
    "#### Varsayılan Parametre Değeri(Default Parameter Value):\n",
    "Aşağıdaki örnek, bir varsayılan parametre değerinin nasıl kullanılacağını gösterir. fonksiyonu bağımsız değişken olmadan çağırırsak, varsayılan değeri kullanır:\n",
    "\n",
    "``` python\n",
    "def my_function(country = \"Norway\"):\n",
    "  print(\"I am from \" + country)\n",
    "\n",
    "my_function(\"Sweden\")\n",
    "my_function(\"India\")\n",
    "my_function()\n",
    "my_function(\"Brazil\")\n",
    "```\n",
    "#### Dönüş Değerleri(Return Values):\n",
    "Bir fonksiyonun bir değer döndürmesine izin vermek için, *return* deyimini kullanın:\n",
    "\n",
    "``` python\n",
    "def my_function(x):\n",
    "  return 5 * x\n",
    "\n",
    "print(my_function(3))\n",
    "print(my_function(5))\n",
    "print(my_function(9))\n",
    "```\n"
   ]
  },
  {
   "cell_type": "code",
   "execution_count": 7,
   "metadata": {},
   "outputs": [
    {
     "name": "stdout",
     "output_type": "stream",
     "text": [
      "merhaba\n",
      "merhaba\n",
      "6\n"
     ]
    }
   ],
   "source": [
    "#örnekler\n",
    "\n",
    "def ekrana_merhaba_yaz():#tanımlama(definition) 1 kere\n",
    "    print(\"merhaba\")\n",
    "\n",
    "\n",
    "ekrana_merhaba_yaz() # çağırma(call/invoke) sonsuz\n",
    "ekrana_merhaba_yaz()\n",
    "\n",
    "print(len(\"serkan\"))"
   ]
  },
  {
   "cell_type": "code",
   "execution_count": 15,
   "metadata": {},
   "outputs": [
    {
     "name": "stdout",
     "output_type": "stream",
     "text": [
      "125\n",
      "15769\n"
     ]
    }
   ],
   "source": [
    "def kare_toplam_bul(a:int,b:int):\n",
    "    c=a**2+b**2\n",
    "    print(int(c))\n",
    "\n",
    "# doğru çağrı\n",
    "\n",
    "\n",
    "kare_toplam_bul(5.0,10.0)# doğru sayıda ve doğrub tipte parametre/argüman\n",
    "kare_toplam_bul(12,125)"
   ]
  },
  {
   "cell_type": "code",
   "execution_count": null,
   "metadata": {},
   "outputs": [],
   "source": []
  },
  {
   "cell_type": "code",
   "execution_count": 17,
   "metadata": {},
   "outputs": [
    {
     "name": "stdout",
     "output_type": "stream",
     "text": [
      "300\n",
      "314.0\n"
     ]
    }
   ],
   "source": [
    "# varsayılan değer verilebilir.\n",
    "\n",
    "def daire_alani_bul(yaricap:float,pi=3.14):\n",
    "    alan=pi * yaricap**2\n",
    "    print(alan)\n",
    "\n",
    "daire_alani_bul(10,3)# parametre pi 3 ile ezildi\n",
    "daire_alani_bul(10) # parametre pi varsayılan değer kullanıldı"
   ]
  },
  {
   "cell_type": "code",
   "execution_count": 20,
   "metadata": {},
   "outputs": [
    {
     "name": "stdout",
     "output_type": "stream",
     "text": [
      "500\n",
      "1000\n",
      "400\n",
      "8000\n"
     ]
    }
   ],
   "source": [
    "#küpün hacmini bulan fonksiyon a=5,b=10,c=10\n",
    "def kup_hacmini_bul(a=5,b=10,c=12):\n",
    "    print(a*b*c)\n",
    "\n",
    "kup_hacmini_bul()\n",
    "kup_hacmini_bul(10)\n",
    "kup_hacmini_bul(20,2)\n",
    "kup_hacmini_bul(10,20,40)\n",
    "\n",
    "# bu parametre gönderme işlemine sıraya dayalı parametre gönderimi\n",
    "# fonksiyon tanımında bir parametreye varsayılan değer verildi ise sıradaki hepsine varsayılan değer verilmeli.(sıra soldan sağa)"
   ]
  },
  {
   "cell_type": "code",
   "execution_count": 25,
   "metadata": {},
   "outputs": [
    {
     "name": "stdout",
     "output_type": "stream",
     "text": [
      "22.5\n",
      "41.666666666666664\n",
      "62.5\n"
     ]
    }
   ],
   "source": [
    "#isimli parametre gönderme(çağırma kısmı ile alakalı)\n",
    "\n",
    "# kazanilan_faiz=(anapara*faiz_orani*ay)/12\n",
    "def aylik_faiz_hesapla(anapara:float,fo:float,ay_sayisi:int):\n",
    "    kazanilan_faiz=(anapara*fo*ay_sayisi)/12\n",
    "    print(kazanilan_faiz)\n",
    "\n",
    "\n",
    "aylik_faiz_hesapla(200,0.15,9)#sıralı parametre gönderme\n",
    "\n",
    "aylik_faiz_hesapla(fo=0.2,ay_sayisi=5,anapara=500)#isimli parametre gönderme\n",
    "\n",
    "#aylik_faiz_hesapla(anapara=100,0.15,20) # hata verir. soldan sağa kuralı isimli çağırma başladıysa öyle devam etmeli\n",
    "\n",
    "aylik_faiz_hesapla(500,.15,ay_sayisi=10)\n",
    "\n"
   ]
  },
  {
   "cell_type": "code",
   "execution_count": 30,
   "metadata": {},
   "outputs": [
    {
     "name": "stdout",
     "output_type": "stream",
     "text": [
      "20\n"
     ]
    }
   ],
   "source": [
    "def aci_hesapla(aci1,aci2):\n",
    "    if (aci1+aci2)>=180:\n",
    "        return -1\n",
    "    aci3=180-(aci1+aci2)\n",
    "    return aci3\n",
    "\n",
    "aci_hesapla(10,20)\n",
    "a3=aci_hesapla(150,50)#20\n",
    "print(a3)\n",
    "# return fonksiyonların çağrıldığı noktaya değer döndürmesini sağlar. Ve fonksiyonu bitirir."
   ]
  },
  {
   "cell_type": "code",
   "execution_count": 31,
   "metadata": {},
   "outputs": [
    {
     "name": "stdout",
     "output_type": "stream",
     "text": [
      "a b c d e f\n"
     ]
    }
   ],
   "source": [
    "print(\"a\",\"b\",\"c\",\"d\",\"e\",\"f\")"
   ]
  },
  {
   "cell_type": "code",
   "execution_count": 37,
   "metadata": {},
   "outputs": [
    {
     "name": "stdout",
     "output_type": "stream",
     "text": [
      "40\n",
      "7\n"
     ]
    }
   ],
   "source": [
    "def topla(*sayilar):\n",
    "    # print(len(sayilar))\n",
    "    toplam=0\n",
    "    for sayi in sayilar:\n",
    "        toplam=toplam+sayi\n",
    "    return toplam\n",
    "\n",
    "a=topla(3,2,2,5,2,24,2)\n",
    "b=topla(3,4)\n",
    "print(a)\n",
    "print(b)"
   ]
  },
  {
   "cell_type": "code",
   "execution_count": 5,
   "metadata": {},
   "outputs": [
    {
     "name": "stdout",
     "output_type": "stream",
     "text": [
      "True\n",
      "True\n",
      "False\n"
     ]
    }
   ],
   "source": [
    "print(\"a\".isalpha())\n",
    "print(\"ç\".isalpha())\n",
    "print(\"?\".isalpha())"
   ]
  }
 ],
 "metadata": {
  "kernelspec": {
   "display_name": "Python 3",
   "language": "python",
   "name": "python3"
  },
  "language_info": {
   "codemirror_mode": {
    "name": "ipython",
    "version": 3
   },
   "file_extension": ".py",
   "mimetype": "text/x-python",
   "name": "python",
   "nbconvert_exporter": "python",
   "pygments_lexer": "ipython3",
   "version": "3.9.2 (default, Feb 28 2021, 17:03:44) \n[GCC 10.2.1 20210110]"
  },
  "orig_nbformat": 4,
  "vscode": {
   "interpreter": {
    "hash": "916dbcbb3f70747c44a77c7bcd40155683ae19c65e1c03b4aa3499c5328201f1"
   }
  }
 },
 "nbformat": 4,
 "nbformat_minor": 2
}
