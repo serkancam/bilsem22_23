{
 "cells": [
  {
   "cell_type": "code",
   "execution_count": 8,
   "metadata": {},
   "outputs": [
    {
     "name": "stdout",
     "output_type": "stream",
     "text": [
      "katı\n"
     ]
    }
   ],
   "source": [
    "# nşa da sıcaklık değeri girilen suyun fiziksel durumunu ekrana yazdıran python kodunu yazınız.\n",
    "\n",
    "# -sonsuz dan 0 dereceye kadar katı, 0-100 derece arası sıvı, 100 derece sonrası gaz.\n",
    "ss=float(input(\"suyun sıcaklığını giriniz:\"))\n",
    "\n",
    "if ss>=-273.15 and ss<=0:\n",
    "    print(\"katı\")\n",
    "elif ss>0 and ss<100:\n",
    "    print(\"sıvı\")\n",
    "elif ss>=100:\n",
    "    print(\"gaz\")\n",
    "else:\n",
    "    print(\"mümkün değil.\")\n"
   ]
  },
  {
   "cell_type": "code",
   "execution_count": 13,
   "metadata": {},
   "outputs": [
    {
     "name": "stdout",
     "output_type": "stream",
     "text": [
      "0.30000000000000004\n",
      "0.3\n",
      "3.142857142857143\n",
      "3.142857142857143\n"
     ]
    }
   ],
   "source": [
    "print(0.1+0.1+0.1)\n",
    "print((0.1*10+0.1*10+0.1*10)/10)\n",
    "print(22.0/7.0)\n",
    "print(22/7)"
   ]
  },
  {
   "cell_type": "code",
   "execution_count": 16,
   "metadata": {},
   "outputs": [
    {
     "name": "stdout",
     "output_type": "stream",
     "text": [
      "a ver b araçları 5.0 saat sonra buluşur.\n"
     ]
    }
   ],
   "source": [
    "#a şehri ile b şehri arasında belirli hızlardla ters yönde hareket eden iki araç kaç saat ve dakika sonra buluşurlar.\n",
    "mesafe=float(input(\"a-b şehri mesafesini giriniz:\"))\n",
    "a_hizi=float(input(\"a aracı hızı:\"))\n",
    "b_hizi=float(input(\"b aracı hızı:\"))\n",
    "zaman=mesafe/(a_hizi+b_hizi)\n",
    "print(f\"a ve b araçları {zaman} saat sonra buluşur.\")\n",
    "\n"
   ]
  },
  {
   "cell_type": "code",
   "execution_count": 22,
   "metadata": {},
   "outputs": [
    {
     "name": "stdout",
     "output_type": "stream",
     "text": [
      "324.0\n",
      "0.4545400000000086\n"
     ]
    }
   ],
   "source": [
    "a=324.45454\n",
    "tam=a//1\n",
    "ondalik=a-tam\n",
    "print(tam)\n",
    "print(ondalik)"
   ]
  },
  {
   "cell_type": "code",
   "execution_count": 26,
   "metadata": {},
   "outputs": [
    {
     "name": "stdout",
     "output_type": "stream",
     "text": [
      "toplam=16\n"
     ]
    }
   ],
   "source": [
    "giris=0\n",
    "toplam=0\n",
    "while giris>=0:    \n",
    "    toplam = toplam+giris \n",
    "    giris=int(input(\"sayı giriniz:\"))\n",
    "\n",
    "print(f\"toplam={toplam}\")\n"
   ]
  },
  {
   "cell_type": "code",
   "execution_count": 27,
   "metadata": {},
   "outputs": [
    {
     "name": "stdout",
     "output_type": "stream",
     "text": [
      "1\n",
      "2\n",
      "3\n",
      "4\n",
      "5\n"
     ]
    }
   ],
   "source": [
    "sayi=1\n",
    "print(sayi)\n",
    "sayi=sayi+1\n",
    "print(sayi)\n",
    "sayi=sayi+1\n",
    "print(sayi)\n",
    "sayi=sayi+1\n",
    "print(sayi)\n",
    "sayi=sayi+1\n",
    "print(sayi)\n"
   ]
  },
  {
   "cell_type": "code",
   "execution_count": 31,
   "metadata": {},
   "outputs": [
    {
     "name": "stdout",
     "output_type": "stream",
     "text": [
      "1\n",
      "2\n",
      "3\n",
      "4\n",
      "5\n"
     ]
    }
   ],
   "source": [
    "sayi=1\n",
    "durak=5\n",
    "while sayi<=durak:\n",
    "    print(sayi)\n",
    "    sayi=sayi+1\n",
    "    \n",
    "    "
   ]
  },
  {
   "cell_type": "code",
   "execution_count": 32,
   "metadata": {},
   "outputs": [
    {
     "name": "stdout",
     "output_type": "stream",
     "text": [
      "13\n",
      "9\n",
      "5\n",
      "1\n"
     ]
    }
   ],
   "source": [
    "# 13 9 5 1\n",
    "sayi=13\n",
    "while sayi>=1:\n",
    "    print(sayi)\n",
    "    sayi=sayi-4 #sayi-=4\n"
   ]
  },
  {
   "cell_type": "code",
   "execution_count": 34,
   "metadata": {},
   "outputs": [
    {
     "name": "stdout",
     "output_type": "stream",
     "text": [
      "6\n",
      "8\n",
      "2\n",
      "1\n"
     ]
    }
   ],
   "source": [
    "#girilen sayının birler basamağından başlayarak her basamağın basamak sayısını ekrana yazdıran while döngüsünü python ile yazalım\n",
    "s=int(input(\"sayı giriniz:\"))\n",
    "while s!=0:\n",
    "    kalan=s%10\n",
    "    print(kalan)\n",
    "    s=s//10\n"
   ]
  },
  {
   "cell_type": "code",
   "execution_count": 33,
   "metadata": {},
   "outputs": [
    {
     "name": "stdout",
     "output_type": "stream",
     "text": [
      "8\n",
      "3\n",
      "1\n"
     ]
    }
   ],
   "source": [
    "s2=138\n",
    "kalan=s2%10\n",
    "print(kalan)\n",
    "s2=s2//10\n",
    "kalan=s2%10\n",
    "print(kalan)\n",
    "s2=s2//10\n",
    "kalan=s2%10\n",
    "print(kalan)"
   ]
  }
 ],
 "metadata": {
  "kernelspec": {
   "display_name": "Python 3.9.2 64-bit",
   "language": "python",
   "name": "python3"
  },
  "language_info": {
   "codemirror_mode": {
    "name": "ipython",
    "version": 3
   },
   "file_extension": ".py",
   "mimetype": "text/x-python",
   "name": "python",
   "nbconvert_exporter": "python",
   "pygments_lexer": "ipython3",
   "version": "3.9.2"
  },
  "orig_nbformat": 4,
  "vscode": {
   "interpreter": {
    "hash": "916dbcbb3f70747c44a77c7bcd40155683ae19c65e1c03b4aa3499c5328201f1"
   }
  }
 },
 "nbformat": 4,
 "nbformat_minor": 2
}
