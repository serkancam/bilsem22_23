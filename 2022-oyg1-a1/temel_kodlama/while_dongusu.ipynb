{
 "cells": [
  {
   "cell_type": "code",
   "execution_count": 8,
   "metadata": {},
   "outputs": [
    {
     "name": "stdout",
     "output_type": "stream",
     "text": [
      "katı\n"
     ]
    }
   ],
   "source": [
    "# nşa da sıcaklık değeri girilen suyun fiziksel durumunu ekrana yazdıran python kodunu yazınız.\n",
    "\n",
    "# -sonsuz dan 0 dereceye kadar katı, 0-100 derece arası sıvı, 100 derece sonrası gaz.\n",
    "ss=float(input(\"suyun sıcaklığını giriniz:\"))\n",
    "\n",
    "if ss>=-273.15 and ss<=0:\n",
    "    print(\"katı\")\n",
    "elif ss>0 and ss<100:\n",
    "    print(\"sıvı\")\n",
    "elif ss>=100:\n",
    "    print(\"gaz\")\n",
    "else:\n",
    "    print(\"mümkün değil.\")\n"
   ]
  },
  {
   "cell_type": "code",
   "execution_count": 13,
   "metadata": {},
   "outputs": [
    {
     "name": "stdout",
     "output_type": "stream",
     "text": [
      "0.30000000000000004\n",
      "0.3\n",
      "3.142857142857143\n",
      "3.142857142857143\n"
     ]
    }
   ],
   "source": [
    "print(0.1+0.1+0.1)\n",
    "print((0.1*10+0.1*10+0.1*10)/10)\n",
    "print(22.0/7.0)\n",
    "print(22/7)"
   ]
  },
  {
   "cell_type": "code",
   "execution_count": 16,
   "metadata": {},
   "outputs": [
    {
     "name": "stdout",
     "output_type": "stream",
     "text": [
      "a ver b araçları 5.0 saat sonra buluşur.\n"
     ]
    }
   ],
   "source": [
    "#a şehri ile b şehri arasında belirli hızlardla ters yönde hareket eden iki araç kaç saat ve dakika sonra buluşurlar.\n",
    "mesafe=float(input(\"a-b şehri mesafesini giriniz:\"))\n",
    "a_hizi=float(input(\"a aracı hızı:\"))\n",
    "b_hizi=float(input(\"b aracı hızı:\"))\n",
    "zaman=mesafe/(a_hizi+b_hizi)\n",
    "print(f\"a ve b araçları {zaman} saat sonra buluşur.\")\n",
    "\n"
   ]
  },
  {
   "cell_type": "code",
   "execution_count": 22,
   "metadata": {},
   "outputs": [
    {
     "name": "stdout",
     "output_type": "stream",
     "text": [
      "324.0\n",
      "0.4545400000000086\n"
     ]
    }
   ],
   "source": [
    "a=324.45454\n",
    "tam=a//1\n",
    "ondalik=a-tam\n",
    "print(tam)\n",
    "print(ondalik)"
   ]
  },
  {
   "cell_type": "code",
   "execution_count": 26,
   "metadata": {},
   "outputs": [
    {
     "name": "stdout",
     "output_type": "stream",
     "text": [
      "toplam=16\n"
     ]
    }
   ],
   "source": [
    "giris=0\n",
    "toplam=0\n",
    "while giris>=0:    \n",
    "    toplam = toplam+giris \n",
    "    giris=int(input(\"sayı giriniz:\"))\n",
    "\n",
    "print(f\"toplam={toplam}\")\n"
   ]
  },
  {
   "cell_type": "code",
   "execution_count": 27,
   "metadata": {},
   "outputs": [
    {
     "name": "stdout",
     "output_type": "stream",
     "text": [
      "1\n",
      "2\n",
      "3\n",
      "4\n",
      "5\n"
     ]
    }
   ],
   "source": [
    "sayi=1\n",
    "print(sayi)\n",
    "sayi=sayi+1\n",
    "print(sayi)\n",
    "sayi=sayi+1\n",
    "print(sayi)\n",
    "sayi=sayi+1\n",
    "print(sayi)\n",
    "sayi=sayi+1\n",
    "print(sayi)\n"
   ]
  },
  {
   "cell_type": "code",
   "execution_count": 9,
   "metadata": {},
   "outputs": [
    {
     "name": "stdout",
     "output_type": "stream",
     "text": [
      "1\n",
      "2\n",
      "3\n",
      "4\n",
      "5\n"
     ]
    }
   ],
   "source": [
    "sayi=1\n",
    "durak=5\n",
    "while sayi<6:\n",
    "    print(sayi)\n",
    "    sayi=sayi+1\n",
    "    \n",
    "    "
   ]
  },
  {
   "cell_type": "code",
   "execution_count": 10,
   "metadata": {},
   "outputs": [
    {
     "name": "stdout",
     "output_type": "stream",
     "text": [
      "13\n",
      "9\n",
      "5\n",
      "1\n"
     ]
    }
   ],
   "source": [
    "# 13 9 5 1\n",
    "sayi=13\n",
    "while sayi>=1:\n",
    "    print(sayi)\n",
    "    sayi=sayi-4 #sayi-=4\n"
   ]
  },
  {
   "cell_type": "code",
   "execution_count": 34,
   "metadata": {},
   "outputs": [
    {
     "name": "stdout",
     "output_type": "stream",
     "text": [
      "6\n",
      "8\n",
      "2\n",
      "1\n"
     ]
    }
   ],
   "source": [
    "#girilen sayının birler basamağından başlayarak her basamağın basamak sayısını ekrana yazdıran while döngüsünü python ile yazalım\n",
    "s=int(input(\"sayı giriniz:\"))\n",
    "while s!=0:\n",
    "    kalan=s%10\n",
    "    print(kalan)\n",
    "    s=s//10\n"
   ]
  },
  {
   "cell_type": "code",
   "execution_count": 33,
   "metadata": {},
   "outputs": [
    {
     "name": "stdout",
     "output_type": "stream",
     "text": [
      "8\n",
      "3\n",
      "1\n"
     ]
    }
   ],
   "source": [
    "s2=138\n",
    "kalan=s2%10\n",
    "print(kalan)\n",
    "s2=s2//10\n",
    "kalan=s2%10\n",
    "print(kalan)\n",
    "s2=s2//10\n",
    "kalan=s2%10\n",
    "print(kalan)"
   ]
  },
  {
   "cell_type": "code",
   "execution_count": 11,
   "metadata": {},
   "outputs": [
    {
     "name": "stdout",
     "output_type": "stream",
     "text": [
      "2\n",
      "12\n",
      "22\n",
      "32\n",
      "42\n"
     ]
    }
   ],
   "source": [
    "# 2 12 22 32 42  ekrana yazdıran while döngüsünü yazınız. \n",
    "i = 2\n",
    "while i<=42:\n",
    "    print(i)\n",
    "    i=i+10\n"
   ]
  },
  {
   "cell_type": "code",
   "execution_count": null,
   "metadata": {},
   "outputs": [],
   "source": [
    "# collatz hipotezi\n",
    "# Collatz dizisi işlem basamakları:\n",
    "# • Pozitif bir tam sayı ile işleme başla.\n",
    "# • Elindeki tam sayının çift olması durumunda sıradaki tam sayıyı bulmak için elindeki tam sayıyı 2’ye böl.\n",
    "# • Elindeki tam sayının tek olması durumunda sıradaki tam sayıyı bulmak için elindeki tam sayıyı 3 ile çarp 1 ekle.\n",
    "# •\n",
    "# Yukarıdaki iki işlem adımını sıradaki tam sayı 1’e ulaşıncaya kadar tekrar et.\n",
    "# (Nihai olarak sıradaki tam sayı 1’e ulaştığında dizinin 1-2-4-2-1-2-4-1-… sonsuz döngüsüne girme-\n",
    "# si beklenmektedir.)\n",
    "\n",
    "sayi = int(input(\"sayı giriniz:\"))\n",
    "adim=0\n",
    "while sayi != 1:\n",
    "    if sayi%2 ==0:\n",
    "        sayi=sayi//2\n",
    "    else:\n",
    "        sayi=3*sayi+1\n",
    "    \n",
    "    adim=adim+1\n",
    "    print(f\"{adim}. adımda sayi={sayi}\")\n",
    "    \n"
   ]
  },
  {
   "cell_type": "code",
   "execution_count": 18,
   "metadata": {},
   "outputs": [
    {
     "name": "stdout",
     "output_type": "stream",
     "text": [
      "25000000\n"
     ]
    }
   ],
   "source": [
    "# 1 den başlayaral kullanıcının girdiği  sayıya kadar olan tek sayıların toplamnı bulan while döngüsünü yazınız. \n",
    "\n",
    "sayi = int(input(\"pozitif bir sayı giriniz:\"))\n",
    "i=1\n",
    "toplam=0\n",
    "\n",
    "while i<=sayi:\n",
    "    if i%2 != 0:\n",
    "        toplam=toplam+i\n",
    "    i=i+1\n",
    "\n",
    "print(toplam)\n",
    "\n",
    "\n"
   ]
  },
  {
   "cell_type": "code",
   "execution_count": 19,
   "metadata": {},
   "outputs": [
    {
     "name": "stdout",
     "output_type": "stream",
     "text": [
      "3 200\n",
      "1 50\n"
     ]
    }
   ],
   "source": [
    "# atm otomasyonu\n",
    "# kullanıcı 50 ve 50 in katları girdiği para miktarını en büyük banknottan(200-100-50) başlayarak en küçüğüne doğru vermektedir. bu durumda verilen banknorların adetini bulunuz\n",
    "# 650 ise 3 adet 200 1 adet 50 \n",
    "# 150 ise 1 adet 100 1 adet 50\n",
    "para = int(input(\"çekilecek para değrini giriniz:\"))\n",
    "\n",
    "while para !=0:\n",
    "    if para>=200:\n",
    "        adet=para//200\n",
    "        print(f\"{adet} adet 200\")\n",
    "        para=para%200\n",
    "    elif para>=100:\n",
    "        adet=para//100\n",
    "        print(f\"{adet}  adet 100\")\n",
    "        para=para%100       \n",
    "    elif para>=50:\n",
    "        adet=para//50\n",
    "        print(f\"{adet} adet 50\")\n",
    "        para=para%50       \n",
    "    "
   ]
  },
  {
   "cell_type": "code",
   "execution_count": null,
   "metadata": {},
   "outputs": [],
   "source": [
    "# Tuğla sayısı\tkat\tkalan tuğla\n",
    "# 28\t1\t27\n",
    "# 27\t2\t25\n",
    "# 25\t3\t22\n",
    "# 22\t4\t18\n",
    "# 18\t5\t13\n",
    "# 13\t6\t7\n",
    "# 7\t7\t0\n"
   ]
  }
 ],
 "metadata": {
  "kernelspec": {
   "display_name": "Python 3.9.2 64-bit",
   "language": "python",
   "name": "python3"
  },
  "language_info": {
   "codemirror_mode": {
    "name": "ipython",
    "version": 3
   },
   "file_extension": ".py",
   "mimetype": "text/x-python",
   "name": "python",
   "nbconvert_exporter": "python",
   "pygments_lexer": "ipython3",
   "version": "3.9.2"
  },
  "orig_nbformat": 4,
  "vscode": {
   "interpreter": {
    "hash": "916dbcbb3f70747c44a77c7bcd40155683ae19c65e1c03b4aa3499c5328201f1"
   }
  }
 },
 "nbformat": 4,
 "nbformat_minor": 2
}
