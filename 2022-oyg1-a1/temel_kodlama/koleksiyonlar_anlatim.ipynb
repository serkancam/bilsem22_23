{
 "cells": [
  {
   "cell_type": "markdown",
   "metadata": {},
   "source": [
    "### Koleksiyonlar\n",
    "#### Temel kavramlar\n",
    "\n",
    "#### index(indis):\n",
    "Bir koleksiyon içerisindeki bir elemanın bulunuduğu konumu temsil eden değer.\n",
    "\n",
    "#### item(eleman/öğe):\n",
    "Bir koleksiyonu oluşturan herbir parçaya verilen isim.\n",
    "\n",
    "#### [] operatörü:\n",
    "Bu operatör bir koleksiyon yapısının hemen ardından gelerek, koleksiyonun hangi elemanına ulaşacağımız bilgisini(indis veya anahtar) alır ve o elemana ulaşmamızı sağlar.\n",
    "\n",
    "#### mutable(değişebilir)/immutable(değişemez):\n",
    "Bazen programlama dillerindeki bazı yapılar içeriği değiştirilebilir olurken, bazı yapıların içeriği değiştirilemez olur. Örneğin bir listenin herhangi bir elemanınun değerini indis numrası ile ulaşıp değiştirebilirken bir demetin içeriğini değiştiremezsiniz. \n",
    "\n",
    "#### list(liste):\n",
    "* En çok kullanılan koleksiyon türüdür. liste oluşturmak için  köşeli parantezler kullanılır[]\n",
    "* değişebilir bir yapıya sahiptir. \n",
    "* En sık kullanılan methodları\n",
    "    * append() Listenin sonuna bir eleman ekler.\n",
    "    * clear() Listedeki tüm öğeleri kaldırır\n",
    "    * copy() Listenin bir kopyasını döndürür\n",
    "    * count() Belirtilen değere sahip öğelerin sayısını döndürür\n",
    "    * extend() Bir listenin öğelerini (veya yinelenebilir herhangi bir öğeyi) geçerli listenin sonuna ekler\n",
    "    * index() Belirtilen değere sahip ilk elemanın indeksini döndürür\n",
    "    * insert() Belirtilen konuma bir öğe ekler\n",
    "    * pop() Belirtilen konumdaki elemanı kaldırır\n",
    "    * remove() Belirtilen değere sahip ilk öğeyi kaldırır\n",
    "    * reverse() Listenin sırasını tersine çevirir\n",
    "    * sort() Listeyi sıralar"
   ]
  },
  {
   "cell_type": "code",
   "execution_count": 1,
   "metadata": {},
   "outputs": [
    {
     "name": "stdout",
     "output_type": "stream",
     "text": [
      "['ahmet efe', 'zeynep', 'reyyan', 'yusuf', 'mert', 'kerem', 'tarık']\n",
      "[1, 2, 32.0, 'hasan', True, True, False]\n",
      "zeynep\n",
      "['ahmet efe', 'zeynep', 'reyyan', 'yusuf aras', 'mert', 'kerem', 'tarık']\n",
      "ahmet efe\n",
      "zeynep\n",
      "reyyan\n",
      "yusuf aras\n",
      "mert\n",
      "kerem\n",
      "tarık\n"
     ]
    }
   ],
   "source": [
    "# %% listeler\n",
    "l1 = []  # boş liste **\n",
    "l2 = list()  # boş liste\n",
    "\n",
    "ogler = [\"ahmet efe\", \"zeynep\", \"reyyan\", \"yusuf\", \"mert\",\n",
    "         \"kerem\", \"tarık\"]\n",
    "mix = [1, 2, 32.0, \"hasan\", True, True, False]\n",
    "\n",
    "print(ogler)\n",
    "print(mix)\n",
    "print(ogler[1])\n",
    "ogler[3] = \"yusuf aras\"\n",
    "print(ogler)\n",
    "\n",
    "for isim in ogler:\n",
    "    print(isim)\n"
   ]
  },
  {
   "cell_type": "code",
   "execution_count": null,
   "metadata": {},
   "outputs": [],
   "source": [
    "# kullanıcının girdiği sayıda bir öğrenci listesi oluştur. Her elemanaı 50-100 arası rastgele notlar ver. Sonra ortalamayı bul.\n",
    "\n",
    "import random\n",
    "\n",
    "# sayi = random.randint(50,100)\n",
    "# print(sayi)\n",
    "\n",
    "# kullanıcıdan öğrenci sayısı al\n",
    "# boş liste tanımla\n",
    "# kullanıcının girdiği değer kadar dönen bir for döngüsü başlat\n",
    "# döngünün her adımında rastegele bir sayı tut ve her tuttulan sayıyı listeye ekle.\n",
    "adet=int(input(\"öğrenci sayısını giriniz:\"))\n",
    "liste=[]\n",
    "\n",
    "for t in range(adet): # eğer döngü değişkeni gereksiz ise değişken _ yapılabilir.\n",
    "    tutulan = random.randint(50,100)\n",
    "    liste.append(tutulan)\n",
    "\n",
    "print(liste)\n",
    "\n",
    "toplam=0\n",
    "for nt in liste:\n",
    "    toplam+=nt\n",
    "\n",
    "print(toplam/adet)"
   ]
  },
  {
   "cell_type": "code",
   "execution_count": null,
   "metadata": {},
   "outputs": [],
   "source": [
    "r1 = range(5) # 0 1 2 3 4\n",
    "r2 = range(2,6) # 2 3 4 5 \n",
    "r3 = range(5,11,2) # 5 7 9 \n",
    "r4 = range(11,2,-4) # 11 7 3  \n",
    "print(r1)\n",
    "\n",
    "# for değişken in koleksiyon:\n",
    "#     işlemler\n",
    "for i in r2:\n",
    "    print(i)"
   ]
  },
  {
   "cell_type": "code",
   "execution_count": 7,
   "metadata": {},
   "outputs": [
    {
     "name": "stdout",
     "output_type": "stream",
     "text": [
      "5 8\n",
      "[25, 30, 111] 139620312350848\n",
      "[25, 30, 111] 139620312350848\n",
      "[25, 30, 22] 139620313134400\n"
     ]
    }
   ],
   "source": [
    "# ilkel(değer) tipler ve referans tipleri\n",
    "\n",
    "# ilkel tipler int float complex boolean\n",
    "\n",
    "a=5\n",
    "b=a\n",
    "b=8\n",
    "\n",
    "print(a,b)\n",
    "\n",
    "l1 = [25,30,22]\n",
    "l2 = l1\n",
    "l3 = l1.copy()\n",
    "\n",
    "\n",
    "l2[2]=111\n",
    "# l1.clear()\n",
    "print(l1,id(l1))\n",
    "print(l2,id(l2))\n",
    "print(l3,id(l3))"
   ]
  },
  {
   "cell_type": "code",
   "execution_count": 15,
   "metadata": {},
   "outputs": [
    {
     "name": "stdout",
     "output_type": "stream",
     "text": [
      "l4 e 6 ve 3  eklendi [1, 2, 3, 4, 5, 6, 3]\n",
      "0\n",
      "2\n",
      "[1, 2, 77, 3, 4, 5, 6, 3]\n",
      "3 değerinin indisi 3\n",
      "[1, 2, 77, 4, 5, 6, 3]\n",
      "[1, 2, 77, 4, 5, 6]\n",
      "3\n",
      "[1, 2, 4, 5, 6]\n",
      "77\n",
      "[6, 5, 4, 2, 1]\n",
      "[1, 2, 4, 5, 6]\n"
     ]
    }
   ],
   "source": [
    "# append methodu: listenin sonuna eleman/item/öğe ekler\n",
    "l4 = [1,2,3,4,5]\n",
    "# l4 listesinin sonuna 6 elemanını ekleyelim\n",
    "l4.append(6)\n",
    "l4.append(3)\n",
    "print(\"l4 e 6 ve 3  eklendi\",l4)\n",
    "# count methodu: listede bir elemandan kaç tane olduğunun bilgisini verir.\n",
    "say1 = l4.count(77)\n",
    "say2 = l4.count(3)\n",
    "print(say1)\n",
    "print(say2)\n",
    "# insert methodu: istenilen bir indis yerine ekleme yapar diğer elemanlar bir sağa kayar\n",
    "l4.insert(2,77)\n",
    "print(l4)\n",
    "# index methodu: listede bir değeri arar. Değer listede yok ise hata verir. Var ise değerin listedeki ilk bulunduğu indis değerini verir.\n",
    "indis=l4.index(3)\n",
    "print(\"3 değerinin indisi\",indis)\n",
    "# remove methodu: listedeki bir değeri siler ve diğer elemanlar sola kayar\n",
    "l4.remove(3)\n",
    "print(l4)\n",
    "# pop methodu: listeden belirtilen indisteki değeri siler. eğer indis verilmez ise en son değeri siler. Sildiği değeri döndürür.\n",
    "d1=l4.pop() # listeden son değeri sil. silinen değeri d1 değişkenine aktar\n",
    "print(l4)\n",
    "print(d1)\n",
    "d2=l4.pop(2)# 2. indis değerini sil ve d2 ye o değeri aktar\n",
    "print(l4)\n",
    "print(d2)\n",
    "# reverse methodu: listeyi ters çevirir.\n",
    "l4.reverse()\n",
    "print(l4)\n",
    "# sort methodu: listeyi küçükten büyüğe sıralar\n",
    "l4.sort()\n",
    "print(l4)"
   ]
  },
  {
   "cell_type": "markdown",
   "metadata": {},
   "source": [
    "\n",
    "#### tuple(demet):\n",
    "* Birden çok öğeyi tek bir değişkende depolamak için kullanılır. Tuple, Python'da veri koleksiyonlarını depolamak için kullanılan 4 yerleşik veri türünden biridir, diğer 3'ü Liste, Küme ve Sözlük'tür ve hepsi farklı niteliklere ve kullanıma sahiptir. \n",
    "* Demet, sıralı ve değiştirilemez bir koleksiyondur. \n",
    "* Demetler yuvarlak parantezlerle yazılır.()\n",
    "* En sık kullanılan methodları \n",
    "    * count() Belirtilen değere sahip öğelerin sayısını döndürür    \n",
    "    * index() Belirtilen değere sahip ilk elemanın indeksini döndürür\n"
   ]
  },
  {
   "cell_type": "code",
   "execution_count": 26,
   "metadata": {},
   "outputs": [
    {
     "name": "stdout",
     "output_type": "stream",
     "text": [
      "(3, 5, 7)\n",
      "3\n",
      "<class 'tuple'>\n",
      "5\n",
      "2\n",
      "0\n"
     ]
    }
   ],
   "source": [
    "# örnekler\n",
    "dmt1 = (3,5,7)\n",
    "#dmt1[0]=8 # hata alırız\n",
    "print(dmt1)\n",
    "print(len(dmt1))\n",
    "print(type(dmt1))\n",
    "print(dmt1[1])\n",
    "kirmizi = (255,0,0)\n",
    "mavi = (0,0,255)\n",
    "\n",
    "print(mavi.count(0))\n",
    "print(mavi.index(0)) # olmayan bir eleman aranırsa hata verir.\n"
   ]
  },
  {
   "cell_type": "markdown",
   "metadata": {},
   "source": [
    "#### Kümeler(set):\n",
    "* Kümeler, birden çok öğeyi tek bir değişkende depolamak için kullanılır. \n",
    "* Python'da veri koleksiyonlarını depolamak için kullanılan 4 yerleşik veri türünden biridir, diğer 3'ü List, Tuple ve Dictionary'dir ve hepsi farklı niteliklere ve kullanıma sahiptir.\n",
    "* A set is a collection which is unordered, unchangeable*, and unindexed.\n",
    "* kümeler sırasız değişmeyen ve indekslenmeyen koleksiyonlar\n",
    "* Kümeler süslü parantezlerle yazılır.{}\n",
    "* En sık kullanılan methodları \n",
    "    * copy() Kümenin bir kopyasını döndürür\n",
    "    * difference() İki veya daha fazla küme arasındaki farkı içeren bir küme döndürür\n",
    "    * difference_update() Bu kümedeki, belirtilen başka bir kümede de bulunan öğeleri kaldırır.\n",
    "    * discard() Belirtilen öğeyi kaldır\n",
    "    * intersection() Diğer iki kümenin kesişimi olan bir küme döndürür\n",
    "    * intersection_update() Belirtilen diğer küme(ler)de bulunmayan öğeleri bu kümeden kaldırır.\n",
    "    * isdisjoint() İki kümenin kesişimi olup olmadığını döndürür\n",
    "    * issubset() Başka bir kümenin bu kümeyi içerip içermediğini döndürür.\n",
    "    * issuperset() Bu kümenin başka bir küme içerip içermediğini döndürür\n",
    "    * pop() Kümeden bir öğeyi kaldırır\n",
    "    * remove() Belirtilen öğeyi kaldırır\n",
    "    * symmetric_difference() İki kümenin simetrik farklarını içeren bir küme döndürür\n",
    "    * symmetric_difference_update() bu kümeden ve diğerinden simetrik farkları ekler\n",
    "    * union() Kümelerin birleşimini içeren bir küme döndürür\n",
    "    * update() Bu kümenin ve diğerlerinin birleşimiyle kümeyi güncelleyin"
   ]
  },
  {
   "cell_type": "code",
   "execution_count": 30,
   "metadata": {},
   "outputs": [
    {
     "name": "stdout",
     "output_type": "stream",
     "text": [
      "{8, 3, 5, 7}\n",
      "{7, 5, 70, 6}\n",
      "{3, 5, 70, 7, 8, 6}\n",
      "{5, 7}\n"
     ]
    }
   ],
   "source": [
    "# örnekler\n",
    "kume1= {3,5,3,7,8}\n",
    "kume2 = {5,6,70,7,6}\n",
    "print(kume1)\n",
    "print(kume2)\n",
    "birlesim = kume1.union(kume2)\n",
    "print(birlesim)\n",
    "kesisim=kume1.intersection(kume2)\n",
    "print(kesisim)"
   ]
  },
  {
   "cell_type": "code",
   "execution_count": 51,
   "metadata": {},
   "outputs": [
    {
     "name": "stdout",
     "output_type": "stream",
     "text": [
      "0\n",
      "{33, 34, 7, 46, 19, 23}\n"
     ]
    }
   ],
   "source": [
    "# sayısal loto: 1-49 arası 6 tane farklı rakamı bilinmeye çalışıldığı bir oyundur.\n",
    "# 1. yöntem liste küme dönüşümü\n",
    "from random import randint\n",
    "\n",
    "cekilenler = set({})\n",
    "\n",
    "print(len(cekilenler))\n",
    "\n",
    "while len(cekilenler)<6:\n",
    "    cekilen=randint(1,49)\n",
    "    cekilenler.add(cekilen)\n",
    "print(cekilenler)\n",
    "# for _ in range(6):# 0 1 2 3 4 5\n",
    "#     print(randint(1,49))\n",
    "\n",
    "# li1=[3,8,9,3,3,5,5,5,5,5,5,5,5]\n",
    "# print(li1)\n",
    "# k1=set(li1)\n",
    "# print(k1)\n"
   ]
  },
  {
   "cell_type": "code",
   "execution_count": 60,
   "metadata": {},
   "outputs": [
    {
     "name": "stdout",
     "output_type": "stream",
     "text": [
      "[2, 4, 5, 6, 7, 8, 9, 10, 11, 12, 13, 14, 15, 16, 18, 19, 20, 21, 22, 23, 24, 25, 27, 28, 29, 30, 31, 32, 34, 35, 36, 37, 38, 40, 41, 42, 43, 44, 45, 46, 47, 48, 49]\n",
      "çekilenler [26, 1, 3, 39, 33, 17]\n"
     ]
    }
   ],
   "source": [
    "# sayısal loto oyununun random.choice ile yapılması\n",
    "from random import  choice\n",
    "# bir koleksiyondan rastgele bir değer seçer,\n",
    "torba = list(range(1,50))\n",
    "\n",
    "cekilenler=list()\n",
    "for i in range(6):\n",
    "    cekilen = choice(torba)\n",
    "    cekilenler.append(cekilen)\n",
    "    torba.remove(cekilen)\n",
    "print(torba)\n",
    "print(\"çekilenler\",cekilenler)"
   ]
  },
  {
   "cell_type": "markdown",
   "metadata": {},
   "source": [
    "#### Sözlükler(Dictionary):\n",
    "* Sözlükler, veri değerlerini anahtar:değer çiftlerinde depolamak için kullanılır.\n",
    "* Sözlük, sıralı*, değişken ve tekrara izin vermeyen bir koleksiyondur.\n",
    "* Sözlükler süslü parantezlerle yazılır ve anahtarları ve değerleri vardır. {k:v}\n",
    "\n",
    "* En sık kullanılan methodları:\n",
    "    * clear() Sözlüğün tüm öğelerini kaldırır \n",
    "    * copy() Sözlüğün bir kopyasını döndürür \n",
    "    * fromkeys() Belirtilen anahtarları ve değeri içeren bir sözlüğü döndürür \n",
    "    * get() Belirtilen anahtar öğelerin değerini döndürür\n",
    "    * items() Bir demet içeren bir liste döndürür her bir anahtar değer çifti için \n",
    "    * keys() Sözlüğün anahtarlarını içeren bir liste döndürür \n",
    "    * pop() Belirtilen anahtara sahip öğeyi kaldırır \n",
    "    * popitem() Son eklenen anahtar-değer çiftini kaldırır \n",
    "    * setdefault() Belirtilen anahtarın değerini döndürür. Anahtar yoksa: belirtilen değere sahip anahtarı ekleyin \n",
    "    * update() Sözlüğü belirtilen anahtar-değer çiftleri ile günceller \n",
    "    * values() Sözlükteki tüm değerlerin bir listesini döndürür"
   ]
  },
  {
   "cell_type": "code",
   "execution_count": 71,
   "metadata": {},
   "outputs": [
    {
     "name": "stdout",
     "output_type": "stream",
     "text": [
      "13\n",
      "14\n",
      "{'kuzey': 14, 'muhammed zahid': 12, 'ada': 12, 'elif naz': 12, 'metehan': 10, 'zeynep': 13}\n",
      "dict_keys(['kuzey', 'muhammed zahid', 'ada', 'elif naz', 'metehan', 'zeynep'])\n",
      "kuzey : 14\n",
      "muhammed zahid : 12\n",
      "ada : 12\n",
      "elif naz : 12\n",
      "metehan : 10\n",
      "zeynep : 13\n",
      "14\n",
      "12\n",
      "12\n",
      "12\n",
      "10\n",
      "13\n",
      "******************************\n",
      "2\n",
      "3\n",
      "5\n",
      "10\n",
      "12\n"
     ]
    }
   ],
   "source": [
    "#örnekler\n",
    "\n",
    "sz1 = {\"kuzey\":13,\"muhammed zahid\":12,\"ada\":25,\"elif naz\":12,\"metehan\":10,\"zeynep\":13,\"ada\":12}\n",
    "print(sz1[\"kuzey\"])\n",
    "sz1[\"kuzey\"]=14\n",
    "print(sz1[\"kuzey\"])\n",
    "print(sz1)\n",
    "\n",
    "# bütün key değerlerine ulaşalım\n",
    "print(sz1.keys())\n",
    "for anahtar in sz1.keys():\n",
    "    print(anahtar,\":\",sz1[anahtar])\n",
    "\n",
    "for deger in sz1.values():\n",
    "    print(deger)   \n",
    "\n",
    "print(30*\"*\")\n",
    "for eleman in {12,10,2,3,3,5}:\n",
    "    print(eleman)"
   ]
  },
  {
   "cell_type": "code",
   "execution_count": 72,
   "metadata": {},
   "outputs": [
    {
     "name": "stdout",
     "output_type": "stream",
     "text": [
      "['ben', 'güne', 'çok', 'güzel', 'başladım', 'bunun', 'için', 'çok', 'mutluyum']\n"
     ]
    }
   ],
   "source": [
    "metin=\"ben güne çok güzel başladım bunun için çok mutluyum\"\n",
    "\n",
    "print(metin.split())"
   ]
  },
  {
   "cell_type": "markdown",
   "metadata": {},
   "source": []
  }
 ],
 "metadata": {
  "kernelspec": {
   "display_name": "Python 3.9.2 64-bit",
   "language": "python",
   "name": "python3"
  },
  "language_info": {
   "codemirror_mode": {
    "name": "ipython",
    "version": 3
   },
   "file_extension": ".py",
   "mimetype": "text/x-python",
   "name": "python",
   "nbconvert_exporter": "python",
   "pygments_lexer": "ipython3",
   "version": "3.9.2 (default, Feb 28 2021, 17:03:44) \n[GCC 10.2.1 20210110]"
  },
  "orig_nbformat": 4,
  "vscode": {
   "interpreter": {
    "hash": "916dbcbb3f70747c44a77c7bcd40155683ae19c65e1c03b4aa3499c5328201f1"
   }
  }
 },
 "nbformat": 4,
 "nbformat_minor": 2
}
